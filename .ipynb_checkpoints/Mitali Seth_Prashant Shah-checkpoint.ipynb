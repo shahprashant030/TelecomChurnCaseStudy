{
 "cells": [
  {
   "cell_type": "markdown",
   "id": "1103b966",
   "metadata": {},
   "source": [
    "# Data understanding, preparation & pre-processing"
   ]
  },
  {
   "cell_type": "markdown",
   "id": "bc28eb87",
   "metadata": {},
   "source": [
    "### Importing the libraries"
   ]
  },
  {
   "cell_type": "code",
   "execution_count": 1,
   "id": "035e59d6",
   "metadata": {},
   "outputs": [],
   "source": [
    "# Suppressing Warnings\n",
    "import warnings\n",
    "warnings.filterwarnings('ignore')"
   ]
  },
  {
   "cell_type": "code",
   "execution_count": 2,
   "id": "ab1e83bc",
   "metadata": {},
   "outputs": [],
   "source": [
    "import numpy as np\n",
    "import pandas as pd\n",
    "import matplotlib.pyplot as plt\n",
    "import seaborn as sns\n",
    "import statsmodels.api as sm\n",
    "from sklearn.preprocessing import StandardScaler\n",
    "from sklearn import metrics"
   ]
  },
  {
   "cell_type": "code",
   "execution_count": 3,
   "id": "0e1f710e",
   "metadata": {},
   "outputs": [],
   "source": [
    "train = pd.read_csv(\"telecom-churn-case-study-hackathon-c56/train.csv\")\n",
    "test = pd.read_csv(\"telecom-churn-case-study-hackathon-c56/test.csv\")\n",
    "data_dict = pd.read_csv(\"telecom-churn-case-study-hackathon-c56/data_dictionary.csv\")"
   ]
  },
  {
   "cell_type": "markdown",
   "id": "d5c443ef",
   "metadata": {},
   "source": [
    "#### Defining data_shape() method to print shape of train and test DF"
   ]
  },
  {
   "cell_type": "code",
   "execution_count": 4,
   "id": "0cc6cacb",
   "metadata": {},
   "outputs": [],
   "source": [
    "def data_shape():\n",
    "    print('Train:',train.shape)\n",
    "    print('Test:',test.shape)"
   ]
  },
  {
   "cell_type": "code",
   "execution_count": 5,
   "id": "59fb2608",
   "metadata": {
    "scrolled": true
   },
   "outputs": [
    {
     "name": "stdout",
     "output_type": "stream",
     "text": [
      "Train: (69999, 172)\n",
      "Test: (30000, 171)\n"
     ]
    }
   ],
   "source": [
    "data_shape()"
   ]
  },
  {
   "cell_type": "code",
   "execution_count": 6,
   "id": "599db483",
   "metadata": {
    "scrolled": false
   },
   "outputs": [
    {
     "data": {
      "text/html": [
       "<div>\n",
       "<style scoped>\n",
       "    .dataframe tbody tr th:only-of-type {\n",
       "        vertical-align: middle;\n",
       "    }\n",
       "\n",
       "    .dataframe tbody tr th {\n",
       "        vertical-align: top;\n",
       "    }\n",
       "\n",
       "    .dataframe thead th {\n",
       "        text-align: right;\n",
       "    }\n",
       "</style>\n",
       "<table border=\"1\" class=\"dataframe\">\n",
       "  <thead>\n",
       "    <tr style=\"text-align: right;\">\n",
       "      <th></th>\n",
       "      <th>id</th>\n",
       "      <th>circle_id</th>\n",
       "      <th>loc_og_t2o_mou</th>\n",
       "      <th>std_og_t2o_mou</th>\n",
       "      <th>loc_ic_t2o_mou</th>\n",
       "      <th>last_date_of_month_6</th>\n",
       "      <th>last_date_of_month_7</th>\n",
       "      <th>last_date_of_month_8</th>\n",
       "      <th>arpu_6</th>\n",
       "      <th>arpu_7</th>\n",
       "      <th>...</th>\n",
       "      <th>sachet_3g_7</th>\n",
       "      <th>sachet_3g_8</th>\n",
       "      <th>fb_user_6</th>\n",
       "      <th>fb_user_7</th>\n",
       "      <th>fb_user_8</th>\n",
       "      <th>aon</th>\n",
       "      <th>aug_vbc_3g</th>\n",
       "      <th>jul_vbc_3g</th>\n",
       "      <th>jun_vbc_3g</th>\n",
       "      <th>churn_probability</th>\n",
       "    </tr>\n",
       "  </thead>\n",
       "  <tbody>\n",
       "    <tr>\n",
       "      <th>0</th>\n",
       "      <td>0</td>\n",
       "      <td>109</td>\n",
       "      <td>0.0</td>\n",
       "      <td>0.0</td>\n",
       "      <td>0.0</td>\n",
       "      <td>6/30/2014</td>\n",
       "      <td>7/31/2014</td>\n",
       "      <td>8/31/2014</td>\n",
       "      <td>31.277</td>\n",
       "      <td>87.009</td>\n",
       "      <td>...</td>\n",
       "      <td>0</td>\n",
       "      <td>0</td>\n",
       "      <td>NaN</td>\n",
       "      <td>NaN</td>\n",
       "      <td>NaN</td>\n",
       "      <td>1958</td>\n",
       "      <td>0.0</td>\n",
       "      <td>0.0</td>\n",
       "      <td>0.0</td>\n",
       "      <td>0</td>\n",
       "    </tr>\n",
       "    <tr>\n",
       "      <th>1</th>\n",
       "      <td>1</td>\n",
       "      <td>109</td>\n",
       "      <td>0.0</td>\n",
       "      <td>0.0</td>\n",
       "      <td>0.0</td>\n",
       "      <td>6/30/2014</td>\n",
       "      <td>7/31/2014</td>\n",
       "      <td>8/31/2014</td>\n",
       "      <td>0.000</td>\n",
       "      <td>122.787</td>\n",
       "      <td>...</td>\n",
       "      <td>0</td>\n",
       "      <td>0</td>\n",
       "      <td>NaN</td>\n",
       "      <td>1.0</td>\n",
       "      <td>NaN</td>\n",
       "      <td>710</td>\n",
       "      <td>0.0</td>\n",
       "      <td>0.0</td>\n",
       "      <td>0.0</td>\n",
       "      <td>0</td>\n",
       "    </tr>\n",
       "    <tr>\n",
       "      <th>2</th>\n",
       "      <td>2</td>\n",
       "      <td>109</td>\n",
       "      <td>0.0</td>\n",
       "      <td>0.0</td>\n",
       "      <td>0.0</td>\n",
       "      <td>6/30/2014</td>\n",
       "      <td>7/31/2014</td>\n",
       "      <td>8/31/2014</td>\n",
       "      <td>60.806</td>\n",
       "      <td>103.176</td>\n",
       "      <td>...</td>\n",
       "      <td>0</td>\n",
       "      <td>0</td>\n",
       "      <td>NaN</td>\n",
       "      <td>NaN</td>\n",
       "      <td>NaN</td>\n",
       "      <td>882</td>\n",
       "      <td>0.0</td>\n",
       "      <td>0.0</td>\n",
       "      <td>0.0</td>\n",
       "      <td>0</td>\n",
       "    </tr>\n",
       "    <tr>\n",
       "      <th>3</th>\n",
       "      <td>3</td>\n",
       "      <td>109</td>\n",
       "      <td>0.0</td>\n",
       "      <td>0.0</td>\n",
       "      <td>0.0</td>\n",
       "      <td>6/30/2014</td>\n",
       "      <td>7/31/2014</td>\n",
       "      <td>8/31/2014</td>\n",
       "      <td>156.362</td>\n",
       "      <td>205.260</td>\n",
       "      <td>...</td>\n",
       "      <td>0</td>\n",
       "      <td>0</td>\n",
       "      <td>NaN</td>\n",
       "      <td>NaN</td>\n",
       "      <td>NaN</td>\n",
       "      <td>982</td>\n",
       "      <td>0.0</td>\n",
       "      <td>0.0</td>\n",
       "      <td>0.0</td>\n",
       "      <td>0</td>\n",
       "    </tr>\n",
       "    <tr>\n",
       "      <th>4</th>\n",
       "      <td>4</td>\n",
       "      <td>109</td>\n",
       "      <td>0.0</td>\n",
       "      <td>0.0</td>\n",
       "      <td>0.0</td>\n",
       "      <td>6/30/2014</td>\n",
       "      <td>7/31/2014</td>\n",
       "      <td>8/31/2014</td>\n",
       "      <td>240.708</td>\n",
       "      <td>128.191</td>\n",
       "      <td>...</td>\n",
       "      <td>1</td>\n",
       "      <td>0</td>\n",
       "      <td>1.0</td>\n",
       "      <td>1.0</td>\n",
       "      <td>1.0</td>\n",
       "      <td>647</td>\n",
       "      <td>0.0</td>\n",
       "      <td>0.0</td>\n",
       "      <td>0.0</td>\n",
       "      <td>0</td>\n",
       "    </tr>\n",
       "  </tbody>\n",
       "</table>\n",
       "<p>5 rows × 172 columns</p>\n",
       "</div>"
      ],
      "text/plain": [
       "   id  circle_id  loc_og_t2o_mou  std_og_t2o_mou  loc_ic_t2o_mou  \\\n",
       "0   0        109             0.0             0.0             0.0   \n",
       "1   1        109             0.0             0.0             0.0   \n",
       "2   2        109             0.0             0.0             0.0   \n",
       "3   3        109             0.0             0.0             0.0   \n",
       "4   4        109             0.0             0.0             0.0   \n",
       "\n",
       "  last_date_of_month_6 last_date_of_month_7 last_date_of_month_8   arpu_6  \\\n",
       "0            6/30/2014            7/31/2014            8/31/2014   31.277   \n",
       "1            6/30/2014            7/31/2014            8/31/2014    0.000   \n",
       "2            6/30/2014            7/31/2014            8/31/2014   60.806   \n",
       "3            6/30/2014            7/31/2014            8/31/2014  156.362   \n",
       "4            6/30/2014            7/31/2014            8/31/2014  240.708   \n",
       "\n",
       "    arpu_7  ...  sachet_3g_7  sachet_3g_8  fb_user_6  fb_user_7  fb_user_8  \\\n",
       "0   87.009  ...            0            0        NaN        NaN        NaN   \n",
       "1  122.787  ...            0            0        NaN        1.0        NaN   \n",
       "2  103.176  ...            0            0        NaN        NaN        NaN   \n",
       "3  205.260  ...            0            0        NaN        NaN        NaN   \n",
       "4  128.191  ...            1            0        1.0        1.0        1.0   \n",
       "\n",
       "    aon  aug_vbc_3g  jul_vbc_3g  jun_vbc_3g  churn_probability  \n",
       "0  1958         0.0         0.0         0.0                  0  \n",
       "1   710         0.0         0.0         0.0                  0  \n",
       "2   882         0.0         0.0         0.0                  0  \n",
       "3   982         0.0         0.0         0.0                  0  \n",
       "4   647         0.0         0.0         0.0                  0  \n",
       "\n",
       "[5 rows x 172 columns]"
      ]
     },
     "execution_count": 6,
     "metadata": {},
     "output_type": "execute_result"
    }
   ],
   "source": [
    "train.head()"
   ]
  },
  {
   "cell_type": "code",
   "execution_count": 7,
   "id": "a1eab4f7",
   "metadata": {},
   "outputs": [
    {
     "data": {
      "text/html": [
       "<div>\n",
       "<style scoped>\n",
       "    .dataframe tbody tr th:only-of-type {\n",
       "        vertical-align: middle;\n",
       "    }\n",
       "\n",
       "    .dataframe tbody tr th {\n",
       "        vertical-align: top;\n",
       "    }\n",
       "\n",
       "    .dataframe thead th {\n",
       "        text-align: right;\n",
       "    }\n",
       "</style>\n",
       "<table border=\"1\" class=\"dataframe\">\n",
       "  <thead>\n",
       "    <tr style=\"text-align: right;\">\n",
       "      <th></th>\n",
       "      <th>id</th>\n",
       "      <th>circle_id</th>\n",
       "      <th>loc_og_t2o_mou</th>\n",
       "      <th>std_og_t2o_mou</th>\n",
       "      <th>loc_ic_t2o_mou</th>\n",
       "      <th>last_date_of_month_6</th>\n",
       "      <th>last_date_of_month_7</th>\n",
       "      <th>last_date_of_month_8</th>\n",
       "      <th>arpu_6</th>\n",
       "      <th>arpu_7</th>\n",
       "      <th>...</th>\n",
       "      <th>sachet_3g_6</th>\n",
       "      <th>sachet_3g_7</th>\n",
       "      <th>sachet_3g_8</th>\n",
       "      <th>fb_user_6</th>\n",
       "      <th>fb_user_7</th>\n",
       "      <th>fb_user_8</th>\n",
       "      <th>aon</th>\n",
       "      <th>aug_vbc_3g</th>\n",
       "      <th>jul_vbc_3g</th>\n",
       "      <th>jun_vbc_3g</th>\n",
       "    </tr>\n",
       "  </thead>\n",
       "  <tbody>\n",
       "    <tr>\n",
       "      <th>0</th>\n",
       "      <td>69999</td>\n",
       "      <td>109</td>\n",
       "      <td>0.0</td>\n",
       "      <td>0.0</td>\n",
       "      <td>0.0</td>\n",
       "      <td>6/30/2014</td>\n",
       "      <td>7/31/2014</td>\n",
       "      <td>8/31/2014</td>\n",
       "      <td>91.882</td>\n",
       "      <td>65.330</td>\n",
       "      <td>...</td>\n",
       "      <td>0</td>\n",
       "      <td>0</td>\n",
       "      <td>0</td>\n",
       "      <td>NaN</td>\n",
       "      <td>NaN</td>\n",
       "      <td>NaN</td>\n",
       "      <td>1692</td>\n",
       "      <td>0.00</td>\n",
       "      <td>0.00</td>\n",
       "      <td>0.00</td>\n",
       "    </tr>\n",
       "    <tr>\n",
       "      <th>1</th>\n",
       "      <td>70000</td>\n",
       "      <td>109</td>\n",
       "      <td>0.0</td>\n",
       "      <td>0.0</td>\n",
       "      <td>0.0</td>\n",
       "      <td>6/30/2014</td>\n",
       "      <td>7/31/2014</td>\n",
       "      <td>8/31/2014</td>\n",
       "      <td>414.168</td>\n",
       "      <td>515.568</td>\n",
       "      <td>...</td>\n",
       "      <td>0</td>\n",
       "      <td>0</td>\n",
       "      <td>0</td>\n",
       "      <td>NaN</td>\n",
       "      <td>NaN</td>\n",
       "      <td>NaN</td>\n",
       "      <td>2533</td>\n",
       "      <td>0.00</td>\n",
       "      <td>0.00</td>\n",
       "      <td>0.00</td>\n",
       "    </tr>\n",
       "    <tr>\n",
       "      <th>2</th>\n",
       "      <td>70001</td>\n",
       "      <td>109</td>\n",
       "      <td>0.0</td>\n",
       "      <td>0.0</td>\n",
       "      <td>0.0</td>\n",
       "      <td>6/30/2014</td>\n",
       "      <td>7/31/2014</td>\n",
       "      <td>8/31/2014</td>\n",
       "      <td>329.844</td>\n",
       "      <td>434.884</td>\n",
       "      <td>...</td>\n",
       "      <td>0</td>\n",
       "      <td>0</td>\n",
       "      <td>0</td>\n",
       "      <td>NaN</td>\n",
       "      <td>NaN</td>\n",
       "      <td>NaN</td>\n",
       "      <td>277</td>\n",
       "      <td>525.61</td>\n",
       "      <td>758.41</td>\n",
       "      <td>241.84</td>\n",
       "    </tr>\n",
       "    <tr>\n",
       "      <th>3</th>\n",
       "      <td>70002</td>\n",
       "      <td>109</td>\n",
       "      <td>0.0</td>\n",
       "      <td>0.0</td>\n",
       "      <td>0.0</td>\n",
       "      <td>6/30/2014</td>\n",
       "      <td>7/31/2014</td>\n",
       "      <td>8/31/2014</td>\n",
       "      <td>43.550</td>\n",
       "      <td>171.390</td>\n",
       "      <td>...</td>\n",
       "      <td>0</td>\n",
       "      <td>0</td>\n",
       "      <td>0</td>\n",
       "      <td>NaN</td>\n",
       "      <td>NaN</td>\n",
       "      <td>NaN</td>\n",
       "      <td>1244</td>\n",
       "      <td>0.00</td>\n",
       "      <td>0.00</td>\n",
       "      <td>0.00</td>\n",
       "    </tr>\n",
       "    <tr>\n",
       "      <th>4</th>\n",
       "      <td>70003</td>\n",
       "      <td>109</td>\n",
       "      <td>0.0</td>\n",
       "      <td>0.0</td>\n",
       "      <td>0.0</td>\n",
       "      <td>6/30/2014</td>\n",
       "      <td>7/31/2014</td>\n",
       "      <td>8/31/2014</td>\n",
       "      <td>306.854</td>\n",
       "      <td>406.289</td>\n",
       "      <td>...</td>\n",
       "      <td>0</td>\n",
       "      <td>0</td>\n",
       "      <td>0</td>\n",
       "      <td>NaN</td>\n",
       "      <td>NaN</td>\n",
       "      <td>NaN</td>\n",
       "      <td>462</td>\n",
       "      <td>0.00</td>\n",
       "      <td>0.00</td>\n",
       "      <td>0.00</td>\n",
       "    </tr>\n",
       "  </tbody>\n",
       "</table>\n",
       "<p>5 rows × 171 columns</p>\n",
       "</div>"
      ],
      "text/plain": [
       "      id  circle_id  loc_og_t2o_mou  std_og_t2o_mou  loc_ic_t2o_mou  \\\n",
       "0  69999        109             0.0             0.0             0.0   \n",
       "1  70000        109             0.0             0.0             0.0   \n",
       "2  70001        109             0.0             0.0             0.0   \n",
       "3  70002        109             0.0             0.0             0.0   \n",
       "4  70003        109             0.0             0.0             0.0   \n",
       "\n",
       "  last_date_of_month_6 last_date_of_month_7 last_date_of_month_8   arpu_6  \\\n",
       "0            6/30/2014            7/31/2014            8/31/2014   91.882   \n",
       "1            6/30/2014            7/31/2014            8/31/2014  414.168   \n",
       "2            6/30/2014            7/31/2014            8/31/2014  329.844   \n",
       "3            6/30/2014            7/31/2014            8/31/2014   43.550   \n",
       "4            6/30/2014            7/31/2014            8/31/2014  306.854   \n",
       "\n",
       "    arpu_7  ...  sachet_3g_6  sachet_3g_7  sachet_3g_8  fb_user_6  fb_user_7  \\\n",
       "0   65.330  ...            0            0            0        NaN        NaN   \n",
       "1  515.568  ...            0            0            0        NaN        NaN   \n",
       "2  434.884  ...            0            0            0        NaN        NaN   \n",
       "3  171.390  ...            0            0            0        NaN        NaN   \n",
       "4  406.289  ...            0            0            0        NaN        NaN   \n",
       "\n",
       "   fb_user_8   aon  aug_vbc_3g  jul_vbc_3g  jun_vbc_3g  \n",
       "0        NaN  1692        0.00        0.00        0.00  \n",
       "1        NaN  2533        0.00        0.00        0.00  \n",
       "2        NaN   277      525.61      758.41      241.84  \n",
       "3        NaN  1244        0.00        0.00        0.00  \n",
       "4        NaN   462        0.00        0.00        0.00  \n",
       "\n",
       "[5 rows x 171 columns]"
      ]
     },
     "execution_count": 7,
     "metadata": {},
     "output_type": "execute_result"
    }
   ],
   "source": [
    "test.head()"
   ]
  },
  {
   "cell_type": "code",
   "execution_count": 8,
   "id": "c9a36e42",
   "metadata": {
    "scrolled": false
   },
   "outputs": [
    {
     "data": {
      "text/html": [
       "<div>\n",
       "<style scoped>\n",
       "    .dataframe tbody tr th:only-of-type {\n",
       "        vertical-align: middle;\n",
       "    }\n",
       "\n",
       "    .dataframe tbody tr th {\n",
       "        vertical-align: top;\n",
       "    }\n",
       "\n",
       "    .dataframe thead th {\n",
       "        text-align: right;\n",
       "    }\n",
       "</style>\n",
       "<table border=\"1\" class=\"dataframe\">\n",
       "  <thead>\n",
       "    <tr style=\"text-align: right;\">\n",
       "      <th></th>\n",
       "      <th>Acronyms</th>\n",
       "      <th>Description</th>\n",
       "    </tr>\n",
       "  </thead>\n",
       "  <tbody>\n",
       "    <tr>\n",
       "      <th>0</th>\n",
       "      <td>CIRCLE_ID</td>\n",
       "      <td>Telecom circle area to which the customer belo...</td>\n",
       "    </tr>\n",
       "    <tr>\n",
       "      <th>1</th>\n",
       "      <td>LOC</td>\n",
       "      <td>Local calls  within same telecom circle</td>\n",
       "    </tr>\n",
       "    <tr>\n",
       "      <th>2</th>\n",
       "      <td>STD</td>\n",
       "      <td>STD calls  outside the calling circle</td>\n",
       "    </tr>\n",
       "    <tr>\n",
       "      <th>3</th>\n",
       "      <td>IC</td>\n",
       "      <td>Incoming calls</td>\n",
       "    </tr>\n",
       "    <tr>\n",
       "      <th>4</th>\n",
       "      <td>OG</td>\n",
       "      <td>Outgoing calls</td>\n",
       "    </tr>\n",
       "    <tr>\n",
       "      <th>5</th>\n",
       "      <td>T2T</td>\n",
       "      <td>Operator T to T ie within same operator mobile...</td>\n",
       "    </tr>\n",
       "    <tr>\n",
       "      <th>6</th>\n",
       "      <td>T2M</td>\n",
       "      <td>Operator T to other operator mobile</td>\n",
       "    </tr>\n",
       "    <tr>\n",
       "      <th>7</th>\n",
       "      <td>T2O</td>\n",
       "      <td>Operator T to other operator fixed line</td>\n",
       "    </tr>\n",
       "    <tr>\n",
       "      <th>8</th>\n",
       "      <td>T2F</td>\n",
       "      <td>Operator T to fixed lines of T</td>\n",
       "    </tr>\n",
       "    <tr>\n",
       "      <th>9</th>\n",
       "      <td>T2C</td>\n",
       "      <td>Operator T to its own call center</td>\n",
       "    </tr>\n",
       "    <tr>\n",
       "      <th>10</th>\n",
       "      <td>ARPU</td>\n",
       "      <td>Average revenue per user</td>\n",
       "    </tr>\n",
       "    <tr>\n",
       "      <th>11</th>\n",
       "      <td>MOU</td>\n",
       "      <td>Minutes of usage  voice calls</td>\n",
       "    </tr>\n",
       "    <tr>\n",
       "      <th>12</th>\n",
       "      <td>AON</td>\n",
       "      <td>Age on network  number of days the customer is...</td>\n",
       "    </tr>\n",
       "    <tr>\n",
       "      <th>13</th>\n",
       "      <td>ONNET</td>\n",
       "      <td>All kind of calls within the same operator net...</td>\n",
       "    </tr>\n",
       "    <tr>\n",
       "      <th>14</th>\n",
       "      <td>OFFNET</td>\n",
       "      <td>All kind of calls outside the operator T network</td>\n",
       "    </tr>\n",
       "    <tr>\n",
       "      <th>15</th>\n",
       "      <td>ROAM</td>\n",
       "      <td>Indicates that customer is in roaming zone dur...</td>\n",
       "    </tr>\n",
       "    <tr>\n",
       "      <th>16</th>\n",
       "      <td>SPL</td>\n",
       "      <td>Special calls</td>\n",
       "    </tr>\n",
       "    <tr>\n",
       "      <th>17</th>\n",
       "      <td>ISD</td>\n",
       "      <td>ISD calls</td>\n",
       "    </tr>\n",
       "    <tr>\n",
       "      <th>18</th>\n",
       "      <td>RECH</td>\n",
       "      <td>Recharge</td>\n",
       "    </tr>\n",
       "    <tr>\n",
       "      <th>19</th>\n",
       "      <td>NUM</td>\n",
       "      <td>Number</td>\n",
       "    </tr>\n",
       "    <tr>\n",
       "      <th>20</th>\n",
       "      <td>AMT</td>\n",
       "      <td>Amount in local currency</td>\n",
       "    </tr>\n",
       "    <tr>\n",
       "      <th>21</th>\n",
       "      <td>MAX</td>\n",
       "      <td>Maximum</td>\n",
       "    </tr>\n",
       "    <tr>\n",
       "      <th>22</th>\n",
       "      <td>DATA</td>\n",
       "      <td>Mobile internet</td>\n",
       "    </tr>\n",
       "    <tr>\n",
       "      <th>23</th>\n",
       "      <td>3G</td>\n",
       "      <td>G network</td>\n",
       "    </tr>\n",
       "    <tr>\n",
       "      <th>24</th>\n",
       "      <td>AV</td>\n",
       "      <td>Average</td>\n",
       "    </tr>\n",
       "    <tr>\n",
       "      <th>25</th>\n",
       "      <td>VOL</td>\n",
       "      <td>Mobile internet usage volume in MB</td>\n",
       "    </tr>\n",
       "    <tr>\n",
       "      <th>26</th>\n",
       "      <td>2G</td>\n",
       "      <td>G network</td>\n",
       "    </tr>\n",
       "    <tr>\n",
       "      <th>27</th>\n",
       "      <td>PCK</td>\n",
       "      <td>Prepaid service schemes called  PACKS</td>\n",
       "    </tr>\n",
       "    <tr>\n",
       "      <th>28</th>\n",
       "      <td>NIGHT</td>\n",
       "      <td>Scheme to use during specific night hours only</td>\n",
       "    </tr>\n",
       "    <tr>\n",
       "      <th>29</th>\n",
       "      <td>MONTHLY</td>\n",
       "      <td>Service schemes with validity equivalent to a ...</td>\n",
       "    </tr>\n",
       "    <tr>\n",
       "      <th>30</th>\n",
       "      <td>SACHET</td>\n",
       "      <td>Service schemes with validity smaller than a m...</td>\n",
       "    </tr>\n",
       "    <tr>\n",
       "      <th>31</th>\n",
       "      <td>*.6</td>\n",
       "      <td>KPI for the month of June</td>\n",
       "    </tr>\n",
       "    <tr>\n",
       "      <th>32</th>\n",
       "      <td>*.7</td>\n",
       "      <td>KPI for the month of July</td>\n",
       "    </tr>\n",
       "    <tr>\n",
       "      <th>33</th>\n",
       "      <td>*.8</td>\n",
       "      <td>KPI for the month of August</td>\n",
       "    </tr>\n",
       "    <tr>\n",
       "      <th>34</th>\n",
       "      <td>FB_USER</td>\n",
       "      <td>Service scheme to avail services of Facebook a...</td>\n",
       "    </tr>\n",
       "    <tr>\n",
       "      <th>35</th>\n",
       "      <td>VBC</td>\n",
       "      <td>Volume based cost  when no specific scheme is ...</td>\n",
       "    </tr>\n",
       "  </tbody>\n",
       "</table>\n",
       "</div>"
      ],
      "text/plain": [
       "       Acronyms                                        Description\n",
       "0     CIRCLE_ID  Telecom circle area to which the customer belo...\n",
       "1           LOC            Local calls  within same telecom circle\n",
       "2           STD              STD calls  outside the calling circle\n",
       "3            IC                                     Incoming calls\n",
       "4            OG                                     Outgoing calls\n",
       "5           T2T  Operator T to T ie within same operator mobile...\n",
       "6       T2M                    Operator T to other operator mobile\n",
       "7       T2O                Operator T to other operator fixed line\n",
       "8       T2F                         Operator T to fixed lines of T\n",
       "9       T2C                      Operator T to its own call center\n",
       "10     ARPU                               Average revenue per user\n",
       "11      MOU                          Minutes of usage  voice calls\n",
       "12      AON      Age on network  number of days the customer is...\n",
       "13     ONNET     All kind of calls within the same operator net...\n",
       "14   OFFNET       All kind of calls outside the operator T network\n",
       "15         ROAM  Indicates that customer is in roaming zone dur...\n",
       "16       SPL                                         Special calls\n",
       "17      ISD                                              ISD calls\n",
       "18     RECH                                               Recharge\n",
       "19      NUM                                                 Number\n",
       "20      AMT                               Amount in local currency\n",
       "21      MAX                                                Maximum\n",
       "22     DATA                                        Mobile internet\n",
       "23       3G                                              G network\n",
       "24       AV                                                Average\n",
       "25      VOL                     Mobile internet usage volume in MB\n",
       "26       2G                                              G network\n",
       "27      PCK                  Prepaid service schemes called  PACKS\n",
       "28    NIGHT         Scheme to use during specific night hours only\n",
       "29  MONTHLY      Service schemes with validity equivalent to a ...\n",
       "30    SACHET     Service schemes with validity smaller than a m...\n",
       "31      *.6                              KPI for the month of June\n",
       "32      *.7                              KPI for the month of July\n",
       "33      *.8                            KPI for the month of August\n",
       "34      FB_USER  Service scheme to avail services of Facebook a...\n",
       "35      VBC      Volume based cost  when no specific scheme is ..."
      ]
     },
     "execution_count": 8,
     "metadata": {},
     "output_type": "execute_result"
    }
   ],
   "source": [
    "data_dict"
   ]
  },
  {
   "cell_type": "markdown",
   "id": "9fe473ad",
   "metadata": {},
   "source": [
    "Since, we will be training our model on train dataset. We will be considering train set for the preprocessing. And update the columns of test set based on the train set."
   ]
  },
  {
   "cell_type": "code",
   "execution_count": 9,
   "id": "143e1486",
   "metadata": {
    "scrolled": false
   },
   "outputs": [
    {
     "name": "stdout",
     "output_type": "stream",
     "text": [
      "<class 'pandas.core.frame.DataFrame'>\n",
      "RangeIndex: 69999 entries, 0 to 69998\n",
      "Data columns (total 172 columns):\n",
      " #    Column                    Dtype  \n",
      "---   ------                    -----  \n",
      " 0    id                        int64  \n",
      " 1    circle_id                 int64  \n",
      " 2    loc_og_t2o_mou            float64\n",
      " 3    std_og_t2o_mou            float64\n",
      " 4    loc_ic_t2o_mou            float64\n",
      " 5    last_date_of_month_6      object \n",
      " 6    last_date_of_month_7      object \n",
      " 7    last_date_of_month_8      object \n",
      " 8    arpu_6                    float64\n",
      " 9    arpu_7                    float64\n",
      " 10   arpu_8                    float64\n",
      " 11   onnet_mou_6               float64\n",
      " 12   onnet_mou_7               float64\n",
      " 13   onnet_mou_8               float64\n",
      " 14   offnet_mou_6              float64\n",
      " 15   offnet_mou_7              float64\n",
      " 16   offnet_mou_8              float64\n",
      " 17   roam_ic_mou_6             float64\n",
      " 18   roam_ic_mou_7             float64\n",
      " 19   roam_ic_mou_8             float64\n",
      " 20   roam_og_mou_6             float64\n",
      " 21   roam_og_mou_7             float64\n",
      " 22   roam_og_mou_8             float64\n",
      " 23   loc_og_t2t_mou_6          float64\n",
      " 24   loc_og_t2t_mou_7          float64\n",
      " 25   loc_og_t2t_mou_8          float64\n",
      " 26   loc_og_t2m_mou_6          float64\n",
      " 27   loc_og_t2m_mou_7          float64\n",
      " 28   loc_og_t2m_mou_8          float64\n",
      " 29   loc_og_t2f_mou_6          float64\n",
      " 30   loc_og_t2f_mou_7          float64\n",
      " 31   loc_og_t2f_mou_8          float64\n",
      " 32   loc_og_t2c_mou_6          float64\n",
      " 33   loc_og_t2c_mou_7          float64\n",
      " 34   loc_og_t2c_mou_8          float64\n",
      " 35   loc_og_mou_6              float64\n",
      " 36   loc_og_mou_7              float64\n",
      " 37   loc_og_mou_8              float64\n",
      " 38   std_og_t2t_mou_6          float64\n",
      " 39   std_og_t2t_mou_7          float64\n",
      " 40   std_og_t2t_mou_8          float64\n",
      " 41   std_og_t2m_mou_6          float64\n",
      " 42   std_og_t2m_mou_7          float64\n",
      " 43   std_og_t2m_mou_8          float64\n",
      " 44   std_og_t2f_mou_6          float64\n",
      " 45   std_og_t2f_mou_7          float64\n",
      " 46   std_og_t2f_mou_8          float64\n",
      " 47   std_og_t2c_mou_6          float64\n",
      " 48   std_og_t2c_mou_7          float64\n",
      " 49   std_og_t2c_mou_8          float64\n",
      " 50   std_og_mou_6              float64\n",
      " 51   std_og_mou_7              float64\n",
      " 52   std_og_mou_8              float64\n",
      " 53   isd_og_mou_6              float64\n",
      " 54   isd_og_mou_7              float64\n",
      " 55   isd_og_mou_8              float64\n",
      " 56   spl_og_mou_6              float64\n",
      " 57   spl_og_mou_7              float64\n",
      " 58   spl_og_mou_8              float64\n",
      " 59   og_others_6               float64\n",
      " 60   og_others_7               float64\n",
      " 61   og_others_8               float64\n",
      " 62   total_og_mou_6            float64\n",
      " 63   total_og_mou_7            float64\n",
      " 64   total_og_mou_8            float64\n",
      " 65   loc_ic_t2t_mou_6          float64\n",
      " 66   loc_ic_t2t_mou_7          float64\n",
      " 67   loc_ic_t2t_mou_8          float64\n",
      " 68   loc_ic_t2m_mou_6          float64\n",
      " 69   loc_ic_t2m_mou_7          float64\n",
      " 70   loc_ic_t2m_mou_8          float64\n",
      " 71   loc_ic_t2f_mou_6          float64\n",
      " 72   loc_ic_t2f_mou_7          float64\n",
      " 73   loc_ic_t2f_mou_8          float64\n",
      " 74   loc_ic_mou_6              float64\n",
      " 75   loc_ic_mou_7              float64\n",
      " 76   loc_ic_mou_8              float64\n",
      " 77   std_ic_t2t_mou_6          float64\n",
      " 78   std_ic_t2t_mou_7          float64\n",
      " 79   std_ic_t2t_mou_8          float64\n",
      " 80   std_ic_t2m_mou_6          float64\n",
      " 81   std_ic_t2m_mou_7          float64\n",
      " 82   std_ic_t2m_mou_8          float64\n",
      " 83   std_ic_t2f_mou_6          float64\n",
      " 84   std_ic_t2f_mou_7          float64\n",
      " 85   std_ic_t2f_mou_8          float64\n",
      " 86   std_ic_t2o_mou_6          float64\n",
      " 87   std_ic_t2o_mou_7          float64\n",
      " 88   std_ic_t2o_mou_8          float64\n",
      " 89   std_ic_mou_6              float64\n",
      " 90   std_ic_mou_7              float64\n",
      " 91   std_ic_mou_8              float64\n",
      " 92   total_ic_mou_6            float64\n",
      " 93   total_ic_mou_7            float64\n",
      " 94   total_ic_mou_8            float64\n",
      " 95   spl_ic_mou_6              float64\n",
      " 96   spl_ic_mou_7              float64\n",
      " 97   spl_ic_mou_8              float64\n",
      " 98   isd_ic_mou_6              float64\n",
      " 99   isd_ic_mou_7              float64\n",
      " 100  isd_ic_mou_8              float64\n",
      " 101  ic_others_6               float64\n",
      " 102  ic_others_7               float64\n",
      " 103  ic_others_8               float64\n",
      " 104  total_rech_num_6          int64  \n",
      " 105  total_rech_num_7          int64  \n",
      " 106  total_rech_num_8          int64  \n",
      " 107  total_rech_amt_6          int64  \n",
      " 108  total_rech_amt_7          int64  \n",
      " 109  total_rech_amt_8          int64  \n",
      " 110  max_rech_amt_6            int64  \n",
      " 111  max_rech_amt_7            int64  \n",
      " 112  max_rech_amt_8            int64  \n",
      " 113  date_of_last_rech_6       object \n",
      " 114  date_of_last_rech_7       object \n",
      " 115  date_of_last_rech_8       object \n",
      " 116  last_day_rch_amt_6        int64  \n",
      " 117  last_day_rch_amt_7        int64  \n",
      " 118  last_day_rch_amt_8        int64  \n",
      " 119  date_of_last_rech_data_6  object \n",
      " 120  date_of_last_rech_data_7  object \n",
      " 121  date_of_last_rech_data_8  object \n",
      " 122  total_rech_data_6         float64\n",
      " 123  total_rech_data_7         float64\n",
      " 124  total_rech_data_8         float64\n",
      " 125  max_rech_data_6           float64\n",
      " 126  max_rech_data_7           float64\n",
      " 127  max_rech_data_8           float64\n",
      " 128  count_rech_2g_6           float64\n",
      " 129  count_rech_2g_7           float64\n",
      " 130  count_rech_2g_8           float64\n",
      " 131  count_rech_3g_6           float64\n",
      " 132  count_rech_3g_7           float64\n",
      " 133  count_rech_3g_8           float64\n",
      " 134  av_rech_amt_data_6        float64\n",
      " 135  av_rech_amt_data_7        float64\n",
      " 136  av_rech_amt_data_8        float64\n",
      " 137  vol_2g_mb_6               float64\n",
      " 138  vol_2g_mb_7               float64\n",
      " 139  vol_2g_mb_8               float64\n",
      " 140  vol_3g_mb_6               float64\n",
      " 141  vol_3g_mb_7               float64\n",
      " 142  vol_3g_mb_8               float64\n",
      " 143  arpu_3g_6                 float64\n",
      " 144  arpu_3g_7                 float64\n",
      " 145  arpu_3g_8                 float64\n",
      " 146  arpu_2g_6                 float64\n",
      " 147  arpu_2g_7                 float64\n",
      " 148  arpu_2g_8                 float64\n",
      " 149  night_pck_user_6          float64\n",
      " 150  night_pck_user_7          float64\n",
      " 151  night_pck_user_8          float64\n",
      " 152  monthly_2g_6              int64  \n",
      " 153  monthly_2g_7              int64  \n",
      " 154  monthly_2g_8              int64  \n",
      " 155  sachet_2g_6               int64  \n",
      " 156  sachet_2g_7               int64  \n",
      " 157  sachet_2g_8               int64  \n",
      " 158  monthly_3g_6              int64  \n",
      " 159  monthly_3g_7              int64  \n",
      " 160  monthly_3g_8              int64  \n",
      " 161  sachet_3g_6               int64  \n",
      " 162  sachet_3g_7               int64  \n",
      " 163  sachet_3g_8               int64  \n",
      " 164  fb_user_6                 float64\n",
      " 165  fb_user_7                 float64\n",
      " 166  fb_user_8                 float64\n",
      " 167  aon                       int64  \n",
      " 168  aug_vbc_3g                float64\n",
      " 169  jul_vbc_3g                float64\n",
      " 170  jun_vbc_3g                float64\n",
      " 171  churn_probability         int64  \n",
      "dtypes: float64(135), int64(28), object(9)\n",
      "memory usage: 91.9+ MB\n"
     ]
    }
   ],
   "source": [
    "train.info(verbose=1)"
   ]
  },
  {
   "cell_type": "code",
   "execution_count": 10,
   "id": "f6aa2994",
   "metadata": {
    "scrolled": false
   },
   "outputs": [
    {
     "data": {
      "text/html": [
       "<div>\n",
       "<style scoped>\n",
       "    .dataframe tbody tr th:only-of-type {\n",
       "        vertical-align: middle;\n",
       "    }\n",
       "\n",
       "    .dataframe tbody tr th {\n",
       "        vertical-align: top;\n",
       "    }\n",
       "\n",
       "    .dataframe thead th {\n",
       "        text-align: right;\n",
       "    }\n",
       "</style>\n",
       "<table border=\"1\" class=\"dataframe\">\n",
       "  <thead>\n",
       "    <tr style=\"text-align: right;\">\n",
       "      <th></th>\n",
       "      <th>id</th>\n",
       "      <th>circle_id</th>\n",
       "      <th>loc_og_t2o_mou</th>\n",
       "      <th>std_og_t2o_mou</th>\n",
       "      <th>loc_ic_t2o_mou</th>\n",
       "      <th>arpu_6</th>\n",
       "      <th>arpu_7</th>\n",
       "      <th>arpu_8</th>\n",
       "      <th>onnet_mou_6</th>\n",
       "      <th>onnet_mou_7</th>\n",
       "      <th>...</th>\n",
       "      <th>sachet_3g_7</th>\n",
       "      <th>sachet_3g_8</th>\n",
       "      <th>fb_user_6</th>\n",
       "      <th>fb_user_7</th>\n",
       "      <th>fb_user_8</th>\n",
       "      <th>aon</th>\n",
       "      <th>aug_vbc_3g</th>\n",
       "      <th>jul_vbc_3g</th>\n",
       "      <th>jun_vbc_3g</th>\n",
       "      <th>churn_probability</th>\n",
       "    </tr>\n",
       "  </thead>\n",
       "  <tbody>\n",
       "    <tr>\n",
       "      <th>count</th>\n",
       "      <td>69999.000000</td>\n",
       "      <td>69999.0</td>\n",
       "      <td>69297.0</td>\n",
       "      <td>69297.0</td>\n",
       "      <td>69297.0</td>\n",
       "      <td>69999.000000</td>\n",
       "      <td>69999.000000</td>\n",
       "      <td>69999.000000</td>\n",
       "      <td>67231.000000</td>\n",
       "      <td>67312.000000</td>\n",
       "      <td>...</td>\n",
       "      <td>69999.000000</td>\n",
       "      <td>69999.000000</td>\n",
       "      <td>17568.000000</td>\n",
       "      <td>17865.000000</td>\n",
       "      <td>18417.000000</td>\n",
       "      <td>69999.000000</td>\n",
       "      <td>69999.000000</td>\n",
       "      <td>69999.000000</td>\n",
       "      <td>69999.00000</td>\n",
       "      <td>69999.000000</td>\n",
       "    </tr>\n",
       "    <tr>\n",
       "      <th>mean</th>\n",
       "      <td>34999.000000</td>\n",
       "      <td>109.0</td>\n",
       "      <td>0.0</td>\n",
       "      <td>0.0</td>\n",
       "      <td>0.0</td>\n",
       "      <td>283.134365</td>\n",
       "      <td>278.185912</td>\n",
       "      <td>278.858826</td>\n",
       "      <td>133.153275</td>\n",
       "      <td>133.894438</td>\n",
       "      <td>...</td>\n",
       "      <td>0.081444</td>\n",
       "      <td>0.085487</td>\n",
       "      <td>0.916325</td>\n",
       "      <td>0.909544</td>\n",
       "      <td>0.890319</td>\n",
       "      <td>1220.639709</td>\n",
       "      <td>68.108597</td>\n",
       "      <td>65.935830</td>\n",
       "      <td>60.07674</td>\n",
       "      <td>0.101887</td>\n",
       "    </tr>\n",
       "    <tr>\n",
       "      <th>std</th>\n",
       "      <td>20207.115084</td>\n",
       "      <td>0.0</td>\n",
       "      <td>0.0</td>\n",
       "      <td>0.0</td>\n",
       "      <td>0.0</td>\n",
       "      <td>334.213918</td>\n",
       "      <td>344.366927</td>\n",
       "      <td>351.924315</td>\n",
       "      <td>299.963093</td>\n",
       "      <td>311.277193</td>\n",
       "      <td>...</td>\n",
       "      <td>0.634547</td>\n",
       "      <td>0.680035</td>\n",
       "      <td>0.276907</td>\n",
       "      <td>0.286842</td>\n",
       "      <td>0.312501</td>\n",
       "      <td>952.426321</td>\n",
       "      <td>269.328659</td>\n",
       "      <td>267.899034</td>\n",
       "      <td>257.22681</td>\n",
       "      <td>0.302502</td>\n",
       "    </tr>\n",
       "    <tr>\n",
       "      <th>min</th>\n",
       "      <td>0.000000</td>\n",
       "      <td>109.0</td>\n",
       "      <td>0.0</td>\n",
       "      <td>0.0</td>\n",
       "      <td>0.0</td>\n",
       "      <td>-2258.709000</td>\n",
       "      <td>-1289.715000</td>\n",
       "      <td>-945.808000</td>\n",
       "      <td>0.000000</td>\n",
       "      <td>0.000000</td>\n",
       "      <td>...</td>\n",
       "      <td>0.000000</td>\n",
       "      <td>0.000000</td>\n",
       "      <td>0.000000</td>\n",
       "      <td>0.000000</td>\n",
       "      <td>0.000000</td>\n",
       "      <td>180.000000</td>\n",
       "      <td>0.000000</td>\n",
       "      <td>0.000000</td>\n",
       "      <td>0.00000</td>\n",
       "      <td>0.000000</td>\n",
       "    </tr>\n",
       "    <tr>\n",
       "      <th>25%</th>\n",
       "      <td>17499.500000</td>\n",
       "      <td>109.0</td>\n",
       "      <td>0.0</td>\n",
       "      <td>0.0</td>\n",
       "      <td>0.0</td>\n",
       "      <td>93.581000</td>\n",
       "      <td>86.714000</td>\n",
       "      <td>84.095000</td>\n",
       "      <td>7.410000</td>\n",
       "      <td>6.675000</td>\n",
       "      <td>...</td>\n",
       "      <td>0.000000</td>\n",
       "      <td>0.000000</td>\n",
       "      <td>1.000000</td>\n",
       "      <td>1.000000</td>\n",
       "      <td>1.000000</td>\n",
       "      <td>468.000000</td>\n",
       "      <td>0.000000</td>\n",
       "      <td>0.000000</td>\n",
       "      <td>0.00000</td>\n",
       "      <td>0.000000</td>\n",
       "    </tr>\n",
       "    <tr>\n",
       "      <th>50%</th>\n",
       "      <td>34999.000000</td>\n",
       "      <td>109.0</td>\n",
       "      <td>0.0</td>\n",
       "      <td>0.0</td>\n",
       "      <td>0.0</td>\n",
       "      <td>197.484000</td>\n",
       "      <td>191.588000</td>\n",
       "      <td>192.234000</td>\n",
       "      <td>34.110000</td>\n",
       "      <td>32.280000</td>\n",
       "      <td>...</td>\n",
       "      <td>0.000000</td>\n",
       "      <td>0.000000</td>\n",
       "      <td>1.000000</td>\n",
       "      <td>1.000000</td>\n",
       "      <td>1.000000</td>\n",
       "      <td>868.000000</td>\n",
       "      <td>0.000000</td>\n",
       "      <td>0.000000</td>\n",
       "      <td>0.00000</td>\n",
       "      <td>0.000000</td>\n",
       "    </tr>\n",
       "    <tr>\n",
       "      <th>75%</th>\n",
       "      <td>52498.500000</td>\n",
       "      <td>109.0</td>\n",
       "      <td>0.0</td>\n",
       "      <td>0.0</td>\n",
       "      <td>0.0</td>\n",
       "      <td>370.791000</td>\n",
       "      <td>365.369500</td>\n",
       "      <td>369.909000</td>\n",
       "      <td>119.390000</td>\n",
       "      <td>115.837500</td>\n",
       "      <td>...</td>\n",
       "      <td>0.000000</td>\n",
       "      <td>0.000000</td>\n",
       "      <td>1.000000</td>\n",
       "      <td>1.000000</td>\n",
       "      <td>1.000000</td>\n",
       "      <td>1813.000000</td>\n",
       "      <td>0.000000</td>\n",
       "      <td>0.000000</td>\n",
       "      <td>0.00000</td>\n",
       "      <td>0.000000</td>\n",
       "    </tr>\n",
       "    <tr>\n",
       "      <th>max</th>\n",
       "      <td>69998.000000</td>\n",
       "      <td>109.0</td>\n",
       "      <td>0.0</td>\n",
       "      <td>0.0</td>\n",
       "      <td>0.0</td>\n",
       "      <td>27731.088000</td>\n",
       "      <td>35145.834000</td>\n",
       "      <td>33543.624000</td>\n",
       "      <td>7376.710000</td>\n",
       "      <td>8157.780000</td>\n",
       "      <td>...</td>\n",
       "      <td>33.000000</td>\n",
       "      <td>41.000000</td>\n",
       "      <td>1.000000</td>\n",
       "      <td>1.000000</td>\n",
       "      <td>1.000000</td>\n",
       "      <td>4337.000000</td>\n",
       "      <td>12916.220000</td>\n",
       "      <td>9165.600000</td>\n",
       "      <td>11166.21000</td>\n",
       "      <td>1.000000</td>\n",
       "    </tr>\n",
       "  </tbody>\n",
       "</table>\n",
       "<p>8 rows × 163 columns</p>\n",
       "</div>"
      ],
      "text/plain": [
       "                 id  circle_id  loc_og_t2o_mou  std_og_t2o_mou  \\\n",
       "count  69999.000000    69999.0         69297.0         69297.0   \n",
       "mean   34999.000000      109.0             0.0             0.0   \n",
       "std    20207.115084        0.0             0.0             0.0   \n",
       "min        0.000000      109.0             0.0             0.0   \n",
       "25%    17499.500000      109.0             0.0             0.0   \n",
       "50%    34999.000000      109.0             0.0             0.0   \n",
       "75%    52498.500000      109.0             0.0             0.0   \n",
       "max    69998.000000      109.0             0.0             0.0   \n",
       "\n",
       "       loc_ic_t2o_mou        arpu_6        arpu_7        arpu_8   onnet_mou_6  \\\n",
       "count         69297.0  69999.000000  69999.000000  69999.000000  67231.000000   \n",
       "mean              0.0    283.134365    278.185912    278.858826    133.153275   \n",
       "std               0.0    334.213918    344.366927    351.924315    299.963093   \n",
       "min               0.0  -2258.709000  -1289.715000   -945.808000      0.000000   \n",
       "25%               0.0     93.581000     86.714000     84.095000      7.410000   \n",
       "50%               0.0    197.484000    191.588000    192.234000     34.110000   \n",
       "75%               0.0    370.791000    365.369500    369.909000    119.390000   \n",
       "max               0.0  27731.088000  35145.834000  33543.624000   7376.710000   \n",
       "\n",
       "        onnet_mou_7  ...   sachet_3g_7   sachet_3g_8     fb_user_6  \\\n",
       "count  67312.000000  ...  69999.000000  69999.000000  17568.000000   \n",
       "mean     133.894438  ...      0.081444      0.085487      0.916325   \n",
       "std      311.277193  ...      0.634547      0.680035      0.276907   \n",
       "min        0.000000  ...      0.000000      0.000000      0.000000   \n",
       "25%        6.675000  ...      0.000000      0.000000      1.000000   \n",
       "50%       32.280000  ...      0.000000      0.000000      1.000000   \n",
       "75%      115.837500  ...      0.000000      0.000000      1.000000   \n",
       "max     8157.780000  ...     33.000000     41.000000      1.000000   \n",
       "\n",
       "          fb_user_7     fb_user_8           aon    aug_vbc_3g    jul_vbc_3g  \\\n",
       "count  17865.000000  18417.000000  69999.000000  69999.000000  69999.000000   \n",
       "mean       0.909544      0.890319   1220.639709     68.108597     65.935830   \n",
       "std        0.286842      0.312501    952.426321    269.328659    267.899034   \n",
       "min        0.000000      0.000000    180.000000      0.000000      0.000000   \n",
       "25%        1.000000      1.000000    468.000000      0.000000      0.000000   \n",
       "50%        1.000000      1.000000    868.000000      0.000000      0.000000   \n",
       "75%        1.000000      1.000000   1813.000000      0.000000      0.000000   \n",
       "max        1.000000      1.000000   4337.000000  12916.220000   9165.600000   \n",
       "\n",
       "        jun_vbc_3g  churn_probability  \n",
       "count  69999.00000       69999.000000  \n",
       "mean      60.07674           0.101887  \n",
       "std      257.22681           0.302502  \n",
       "min        0.00000           0.000000  \n",
       "25%        0.00000           0.000000  \n",
       "50%        0.00000           0.000000  \n",
       "75%        0.00000           0.000000  \n",
       "max    11166.21000           1.000000  \n",
       "\n",
       "[8 rows x 163 columns]"
      ]
     },
     "execution_count": 10,
     "metadata": {},
     "output_type": "execute_result"
    }
   ],
   "source": [
    "train.describe()"
   ]
  },
  {
   "cell_type": "markdown",
   "id": "ab605293",
   "metadata": {},
   "source": [
    "`circle_id` seems to have only one unique value since its min and max are same."
   ]
  },
  {
   "cell_type": "markdown",
   "id": "8691ecf2",
   "metadata": {},
   "source": [
    "### Data Cleaning"
   ]
  },
  {
   "cell_type": "markdown",
   "id": "37cbc73f",
   "metadata": {},
   "source": [
    "__Lets drop `circle_id`__"
   ]
  },
  {
   "cell_type": "code",
   "execution_count": 11,
   "id": "abd9f0e8",
   "metadata": {},
   "outputs": [
    {
     "name": "stdout",
     "output_type": "stream",
     "text": [
      "Train: (69999, 172)\n",
      "Test: (30000, 171)\n"
     ]
    }
   ],
   "source": [
    "data_shape()"
   ]
  },
  {
   "cell_type": "code",
   "execution_count": 12,
   "id": "7d27f24f",
   "metadata": {},
   "outputs": [],
   "source": [
    "train = train.drop('circle_id', axis=1)\n",
    "test = test.drop('circle_id', axis=1)"
   ]
  },
  {
   "cell_type": "code",
   "execution_count": 13,
   "id": "11ad660b",
   "metadata": {},
   "outputs": [
    {
     "name": "stdout",
     "output_type": "stream",
     "text": [
      "Train: (69999, 171)\n",
      "Test: (30000, 170)\n"
     ]
    }
   ],
   "source": [
    "data_shape()"
   ]
  },
  {
   "cell_type": "code",
   "execution_count": 14,
   "id": "6e347747",
   "metadata": {
    "scrolled": true
   },
   "outputs": [
    {
     "name": "stdout",
     "output_type": "stream",
     "text": [
      "<class 'pandas.core.frame.DataFrame'>\n",
      "RangeIndex: 69999 entries, 0 to 69998\n",
      "Data columns (total 171 columns):\n",
      " #    Column                    Dtype  \n",
      "---   ------                    -----  \n",
      " 0    id                        int64  \n",
      " 1    loc_og_t2o_mou            float64\n",
      " 2    std_og_t2o_mou            float64\n",
      " 3    loc_ic_t2o_mou            float64\n",
      " 4    last_date_of_month_6      object \n",
      " 5    last_date_of_month_7      object \n",
      " 6    last_date_of_month_8      object \n",
      " 7    arpu_6                    float64\n",
      " 8    arpu_7                    float64\n",
      " 9    arpu_8                    float64\n",
      " 10   onnet_mou_6               float64\n",
      " 11   onnet_mou_7               float64\n",
      " 12   onnet_mou_8               float64\n",
      " 13   offnet_mou_6              float64\n",
      " 14   offnet_mou_7              float64\n",
      " 15   offnet_mou_8              float64\n",
      " 16   roam_ic_mou_6             float64\n",
      " 17   roam_ic_mou_7             float64\n",
      " 18   roam_ic_mou_8             float64\n",
      " 19   roam_og_mou_6             float64\n",
      " 20   roam_og_mou_7             float64\n",
      " 21   roam_og_mou_8             float64\n",
      " 22   loc_og_t2t_mou_6          float64\n",
      " 23   loc_og_t2t_mou_7          float64\n",
      " 24   loc_og_t2t_mou_8          float64\n",
      " 25   loc_og_t2m_mou_6          float64\n",
      " 26   loc_og_t2m_mou_7          float64\n",
      " 27   loc_og_t2m_mou_8          float64\n",
      " 28   loc_og_t2f_mou_6          float64\n",
      " 29   loc_og_t2f_mou_7          float64\n",
      " 30   loc_og_t2f_mou_8          float64\n",
      " 31   loc_og_t2c_mou_6          float64\n",
      " 32   loc_og_t2c_mou_7          float64\n",
      " 33   loc_og_t2c_mou_8          float64\n",
      " 34   loc_og_mou_6              float64\n",
      " 35   loc_og_mou_7              float64\n",
      " 36   loc_og_mou_8              float64\n",
      " 37   std_og_t2t_mou_6          float64\n",
      " 38   std_og_t2t_mou_7          float64\n",
      " 39   std_og_t2t_mou_8          float64\n",
      " 40   std_og_t2m_mou_6          float64\n",
      " 41   std_og_t2m_mou_7          float64\n",
      " 42   std_og_t2m_mou_8          float64\n",
      " 43   std_og_t2f_mou_6          float64\n",
      " 44   std_og_t2f_mou_7          float64\n",
      " 45   std_og_t2f_mou_8          float64\n",
      " 46   std_og_t2c_mou_6          float64\n",
      " 47   std_og_t2c_mou_7          float64\n",
      " 48   std_og_t2c_mou_8          float64\n",
      " 49   std_og_mou_6              float64\n",
      " 50   std_og_mou_7              float64\n",
      " 51   std_og_mou_8              float64\n",
      " 52   isd_og_mou_6              float64\n",
      " 53   isd_og_mou_7              float64\n",
      " 54   isd_og_mou_8              float64\n",
      " 55   spl_og_mou_6              float64\n",
      " 56   spl_og_mou_7              float64\n",
      " 57   spl_og_mou_8              float64\n",
      " 58   og_others_6               float64\n",
      " 59   og_others_7               float64\n",
      " 60   og_others_8               float64\n",
      " 61   total_og_mou_6            float64\n",
      " 62   total_og_mou_7            float64\n",
      " 63   total_og_mou_8            float64\n",
      " 64   loc_ic_t2t_mou_6          float64\n",
      " 65   loc_ic_t2t_mou_7          float64\n",
      " 66   loc_ic_t2t_mou_8          float64\n",
      " 67   loc_ic_t2m_mou_6          float64\n",
      " 68   loc_ic_t2m_mou_7          float64\n",
      " 69   loc_ic_t2m_mou_8          float64\n",
      " 70   loc_ic_t2f_mou_6          float64\n",
      " 71   loc_ic_t2f_mou_7          float64\n",
      " 72   loc_ic_t2f_mou_8          float64\n",
      " 73   loc_ic_mou_6              float64\n",
      " 74   loc_ic_mou_7              float64\n",
      " 75   loc_ic_mou_8              float64\n",
      " 76   std_ic_t2t_mou_6          float64\n",
      " 77   std_ic_t2t_mou_7          float64\n",
      " 78   std_ic_t2t_mou_8          float64\n",
      " 79   std_ic_t2m_mou_6          float64\n",
      " 80   std_ic_t2m_mou_7          float64\n",
      " 81   std_ic_t2m_mou_8          float64\n",
      " 82   std_ic_t2f_mou_6          float64\n",
      " 83   std_ic_t2f_mou_7          float64\n",
      " 84   std_ic_t2f_mou_8          float64\n",
      " 85   std_ic_t2o_mou_6          float64\n",
      " 86   std_ic_t2o_mou_7          float64\n",
      " 87   std_ic_t2o_mou_8          float64\n",
      " 88   std_ic_mou_6              float64\n",
      " 89   std_ic_mou_7              float64\n",
      " 90   std_ic_mou_8              float64\n",
      " 91   total_ic_mou_6            float64\n",
      " 92   total_ic_mou_7            float64\n",
      " 93   total_ic_mou_8            float64\n",
      " 94   spl_ic_mou_6              float64\n",
      " 95   spl_ic_mou_7              float64\n",
      " 96   spl_ic_mou_8              float64\n",
      " 97   isd_ic_mou_6              float64\n",
      " 98   isd_ic_mou_7              float64\n",
      " 99   isd_ic_mou_8              float64\n",
      " 100  ic_others_6               float64\n",
      " 101  ic_others_7               float64\n",
      " 102  ic_others_8               float64\n",
      " 103  total_rech_num_6          int64  \n",
      " 104  total_rech_num_7          int64  \n",
      " 105  total_rech_num_8          int64  \n",
      " 106  total_rech_amt_6          int64  \n",
      " 107  total_rech_amt_7          int64  \n",
      " 108  total_rech_amt_8          int64  \n",
      " 109  max_rech_amt_6            int64  \n",
      " 110  max_rech_amt_7            int64  \n",
      " 111  max_rech_amt_8            int64  \n",
      " 112  date_of_last_rech_6       object \n",
      " 113  date_of_last_rech_7       object \n",
      " 114  date_of_last_rech_8       object \n",
      " 115  last_day_rch_amt_6        int64  \n",
      " 116  last_day_rch_amt_7        int64  \n",
      " 117  last_day_rch_amt_8        int64  \n",
      " 118  date_of_last_rech_data_6  object \n",
      " 119  date_of_last_rech_data_7  object \n",
      " 120  date_of_last_rech_data_8  object \n",
      " 121  total_rech_data_6         float64\n",
      " 122  total_rech_data_7         float64\n",
      " 123  total_rech_data_8         float64\n",
      " 124  max_rech_data_6           float64\n",
      " 125  max_rech_data_7           float64\n",
      " 126  max_rech_data_8           float64\n",
      " 127  count_rech_2g_6           float64\n",
      " 128  count_rech_2g_7           float64\n",
      " 129  count_rech_2g_8           float64\n",
      " 130  count_rech_3g_6           float64\n",
      " 131  count_rech_3g_7           float64\n",
      " 132  count_rech_3g_8           float64\n",
      " 133  av_rech_amt_data_6        float64\n",
      " 134  av_rech_amt_data_7        float64\n",
      " 135  av_rech_amt_data_8        float64\n",
      " 136  vol_2g_mb_6               float64\n",
      " 137  vol_2g_mb_7               float64\n",
      " 138  vol_2g_mb_8               float64\n",
      " 139  vol_3g_mb_6               float64\n",
      " 140  vol_3g_mb_7               float64\n",
      " 141  vol_3g_mb_8               float64\n",
      " 142  arpu_3g_6                 float64\n",
      " 143  arpu_3g_7                 float64\n",
      " 144  arpu_3g_8                 float64\n",
      " 145  arpu_2g_6                 float64\n",
      " 146  arpu_2g_7                 float64\n",
      " 147  arpu_2g_8                 float64\n",
      " 148  night_pck_user_6          float64\n",
      " 149  night_pck_user_7          float64\n",
      " 150  night_pck_user_8          float64\n",
      " 151  monthly_2g_6              int64  \n",
      " 152  monthly_2g_7              int64  \n",
      " 153  monthly_2g_8              int64  \n",
      " 154  sachet_2g_6               int64  \n",
      " 155  sachet_2g_7               int64  \n",
      " 156  sachet_2g_8               int64  \n",
      " 157  monthly_3g_6              int64  \n",
      " 158  monthly_3g_7              int64  \n",
      " 159  monthly_3g_8              int64  \n",
      " 160  sachet_3g_6               int64  \n",
      " 161  sachet_3g_7               int64  \n",
      " 162  sachet_3g_8               int64  \n",
      " 163  fb_user_6                 float64\n",
      " 164  fb_user_7                 float64\n",
      " 165  fb_user_8                 float64\n",
      " 166  aon                       int64  \n",
      " 167  aug_vbc_3g                float64\n",
      " 168  jul_vbc_3g                float64\n",
      " 169  jun_vbc_3g                float64\n",
      " 170  churn_probability         int64  \n",
      "dtypes: float64(135), int64(27), object(9)\n",
      "memory usage: 91.3+ MB\n"
     ]
    }
   ],
   "source": [
    "train.info(verbose=1)"
   ]
  },
  {
   "cell_type": "markdown",
   "id": "49c3c6de",
   "metadata": {},
   "source": [
    "__Lets drop all the date columns__"
   ]
  },
  {
   "cell_type": "code",
   "execution_count": 15,
   "id": "17162608",
   "metadata": {},
   "outputs": [
    {
     "name": "stdout",
     "output_type": "stream",
     "text": [
      "Train: (69999, 171)\n",
      "Test: (30000, 170)\n"
     ]
    }
   ],
   "source": [
    "data_shape()"
   ]
  },
  {
   "cell_type": "code",
   "execution_count": 16,
   "id": "7c431763",
   "metadata": {},
   "outputs": [
    {
     "name": "stdout",
     "output_type": "stream",
     "text": [
      "['last_date_of_month_6', 'last_date_of_month_7', 'last_date_of_month_8', 'date_of_last_rech_6', 'date_of_last_rech_7', 'date_of_last_rech_8', 'date_of_last_rech_data_6', 'date_of_last_rech_data_7', 'date_of_last_rech_data_8']\n"
     ]
    }
   ],
   "source": [
    "# List the date columns\n",
    "date_cols = [k for k in train.columns.to_list() if 'date' in k]\n",
    "print(date_cols)"
   ]
  },
  {
   "cell_type": "code",
   "execution_count": 17,
   "id": "09320fed",
   "metadata": {},
   "outputs": [],
   "source": [
    "train = train.drop(date_cols, axis=1)\n",
    "test = test.drop(date_cols, axis=1)"
   ]
  },
  {
   "cell_type": "code",
   "execution_count": 18,
   "id": "8a162af8",
   "metadata": {},
   "outputs": [
    {
     "name": "stdout",
     "output_type": "stream",
     "text": [
      "Train: (69999, 162)\n",
      "Test: (30000, 161)\n"
     ]
    }
   ],
   "source": [
    "data_shape()"
   ]
  },
  {
   "cell_type": "markdown",
   "id": "d8d1ef13",
   "metadata": {},
   "source": [
    "## Null Values"
   ]
  },
  {
   "cell_type": "code",
   "execution_count": 19,
   "id": "034d786b",
   "metadata": {},
   "outputs": [
    {
     "data": {
      "text/plain": [
       "1673011"
      ]
     },
     "execution_count": 19,
     "metadata": {},
     "output_type": "execute_result"
    }
   ],
   "source": [
    "train.isnull().sum().sum()"
   ]
  },
  {
   "cell_type": "code",
   "execution_count": 20,
   "id": "dc354bf7",
   "metadata": {},
   "outputs": [
    {
     "data": {
      "text/plain": [
       "718495"
      ]
     },
     "execution_count": 20,
     "metadata": {},
     "output_type": "execute_result"
    }
   ],
   "source": [
    "test.isnull().sum().sum()"
   ]
  },
  {
   "cell_type": "markdown",
   "id": "d173ae7a",
   "metadata": {},
   "source": [
    "We have lots of null values. So, lets drop all the columns with high null values. Lets take threshold of 70% null values for now."
   ]
  },
  {
   "cell_type": "code",
   "execution_count": 21,
   "id": "840a1b50",
   "metadata": {},
   "outputs": [],
   "source": [
    "# def null_values(percent):\n",
    "#     missing_values = (train.isnull().sum() / len(train) * 100).sort_values(ascending=False)\n",
    "#     unwanted_vars = missing_values[missing_values>percent]\n",
    "#     return unwanted_vars;"
   ]
  },
  {
   "cell_type": "code",
   "execution_count": 22,
   "id": "12ba0bbf",
   "metadata": {},
   "outputs": [
    {
     "data": {
      "text/plain": [
       "total_rech_data_6     74.902499\n",
       "arpu_2g_6             74.902499\n",
       "arpu_3g_6             74.902499\n",
       "fb_user_6             74.902499\n",
       "night_pck_user_6      74.902499\n",
       "av_rech_amt_data_6    74.902499\n",
       "max_rech_data_6       74.902499\n",
       "count_rech_3g_6       74.902499\n",
       "count_rech_2g_6       74.902499\n",
       "count_rech_2g_7       74.478207\n",
       "fb_user_7             74.478207\n",
       "night_pck_user_7      74.478207\n",
       "total_rech_data_7     74.478207\n",
       "max_rech_data_7       74.478207\n",
       "arpu_3g_7             74.478207\n",
       "arpu_2g_7             74.478207\n",
       "count_rech_3g_7       74.478207\n",
       "av_rech_amt_data_7    74.478207\n",
       "fb_user_8             73.689624\n",
       "arpu_3g_8             73.689624\n",
       "max_rech_data_8       73.689624\n",
       "arpu_2g_8             73.689624\n",
       "count_rech_2g_8       73.689624\n",
       "av_rech_amt_data_8    73.689624\n",
       "total_rech_data_8     73.689624\n",
       "count_rech_3g_8       73.689624\n",
       "night_pck_user_8      73.689624\n",
       "dtype: float64"
      ]
     },
     "execution_count": 22,
     "metadata": {},
     "output_type": "execute_result"
    }
   ],
   "source": [
    "missing_values = (train.isnull().sum() / len(train) * 100).sort_values(ascending=False)\n",
    "unwanted_vars = missing_values[missing_values>70]\n",
    "unwanted_vars"
   ]
  },
  {
   "cell_type": "markdown",
   "id": "cec6045a",
   "metadata": {},
   "source": [
    "__Dropping all the vars with more than 70% null values__"
   ]
  },
  {
   "cell_type": "code",
   "execution_count": 23,
   "id": "ba6f5e1a",
   "metadata": {},
   "outputs": [],
   "source": [
    "train = train.drop(unwanted_vars.index, axis=1)"
   ]
  },
  {
   "cell_type": "code",
   "execution_count": 24,
   "id": "6fb1a160",
   "metadata": {},
   "outputs": [],
   "source": [
    "test = test.drop(unwanted_vars.index, axis=1)"
   ]
  },
  {
   "cell_type": "code",
   "execution_count": 25,
   "id": "49526754",
   "metadata": {},
   "outputs": [
    {
     "name": "stdout",
     "output_type": "stream",
     "text": [
      "Train: (69999, 135)\n",
      "Test: (30000, 134)\n"
     ]
    }
   ],
   "source": [
    "data_shape()"
   ]
  },
  {
   "cell_type": "markdown",
   "id": "3898b354",
   "metadata": {},
   "source": [
    "Checking vars with null value more than 50%"
   ]
  },
  {
   "cell_type": "code",
   "execution_count": 26,
   "id": "80940435",
   "metadata": {},
   "outputs": [
    {
     "data": {
      "text/plain": [
       "Series([], dtype: float64)"
      ]
     },
     "execution_count": 26,
     "metadata": {},
     "output_type": "execute_result"
    }
   ],
   "source": [
    "missing_values = (train.isnull().sum() / len(train) * 100).sort_values(ascending=False)\n",
    "unwanted_vars = missing_values[missing_values>50]\n",
    "unwanted_vars"
   ]
  },
  {
   "cell_type": "markdown",
   "id": "bc0b561d",
   "metadata": {},
   "source": [
    "Checking vars with null value more than 10%"
   ]
  },
  {
   "cell_type": "code",
   "execution_count": 27,
   "id": "4fa29830",
   "metadata": {},
   "outputs": [
    {
     "data": {
      "text/plain": [
       "Series([], dtype: float64)"
      ]
     },
     "execution_count": 27,
     "metadata": {},
     "output_type": "execute_result"
    }
   ],
   "source": [
    "missing_values = (train.isnull().sum() / len(train) * 100).sort_values(ascending=False)\n",
    "unwanted_vars = missing_values[missing_values>10]\n",
    "unwanted_vars"
   ]
  },
  {
   "cell_type": "markdown",
   "id": "a92f6468",
   "metadata": {},
   "source": [
    "Checking vars with null value more than 0% (all cols with null value)"
   ]
  },
  {
   "cell_type": "code",
   "execution_count": 28,
   "id": "7ae1de63",
   "metadata": {},
   "outputs": [
    {
     "data": {
      "text/plain": [
       "loc_ic_t2f_mou_8    5.290076\n",
       "roam_og_mou_8       5.290076\n",
       "std_ic_t2f_mou_8    5.290076\n",
       "std_og_t2t_mou_8    5.290076\n",
       "std_og_t2c_mou_8    5.290076\n",
       "                      ...   \n",
       "loc_ic_t2t_mou_7    3.838626\n",
       "loc_og_t2t_mou_7    3.838626\n",
       "loc_ic_t2o_mou      1.002871\n",
       "loc_og_t2o_mou      1.002871\n",
       "std_og_t2o_mou      1.002871\n",
       "Length: 90, dtype: float64"
      ]
     },
     "execution_count": 28,
     "metadata": {},
     "output_type": "execute_result"
    }
   ],
   "source": [
    "missing_values = (train.isnull().sum() / len(train) * 100).sort_values(ascending=False)\n",
    "unwanted_vars = missing_values[missing_values>0]\n",
    "unwanted_vars"
   ]
  },
  {
   "cell_type": "markdown",
   "id": "f77937f0",
   "metadata": {},
   "source": [
    "Oh! Looks like most of the vars with high percentage of null values were around 73~74"
   ]
  },
  {
   "cell_type": "markdown",
   "id": "5a60c886",
   "metadata": {},
   "source": [
    "Now, lets check these remaining 90 vars with null values"
   ]
  },
  {
   "cell_type": "markdown",
   "id": "5ca34892",
   "metadata": {},
   "source": [
    "Lets check if any row have all the null values"
   ]
  },
  {
   "cell_type": "code",
   "execution_count": 29,
   "id": "30dd4300",
   "metadata": {},
   "outputs": [
    {
     "data": {
      "text/plain": [
       "(0, 135)"
      ]
     },
     "execution_count": 29,
     "metadata": {},
     "output_type": "execute_result"
    }
   ],
   "source": [
    "train[train.isnull().all(axis=1)].shape"
   ]
  },
  {
   "cell_type": "code",
   "execution_count": 30,
   "id": "e9f35982",
   "metadata": {},
   "outputs": [
    {
     "data": {
      "text/plain": [
       "(0, 134)"
      ]
     },
     "execution_count": 30,
     "metadata": {},
     "output_type": "execute_result"
    }
   ],
   "source": [
    "test[test.isnull().all(axis=1)].shape"
   ]
  },
  {
   "cell_type": "markdown",
   "id": "f67b1f03",
   "metadata": {},
   "source": [
    "None of the rows have all null values."
   ]
  },
  {
   "cell_type": "markdown",
   "id": "8f63d65d",
   "metadata": {},
   "source": [
    "We have dropped all the variables with high null values.<br>\n",
    "But still we have null values in our dataset.<br>\n",
    "There are two things we can do so far.\n",
    "- Either drop the rows with high number of null values\n",
    "- Or Impute null values with zero or median/mean/etc<br>\n",
    "\n",
    "We cant drop the rows because the train and test are already divided into 70-30. And in addition sample.csv was (30000, 2) where non of the rows was dropped. So, we will impute all the null values"
   ]
  },
  {
   "cell_type": "code",
   "execution_count": 31,
   "id": "19d89fcd",
   "metadata": {
    "scrolled": false
   },
   "outputs": [
    {
     "data": {
      "text/plain": [
       "['loc_ic_t2f_mou_8',\n",
       " 'roam_og_mou_8',\n",
       " 'std_ic_t2f_mou_8',\n",
       " 'std_og_t2t_mou_8',\n",
       " 'std_og_t2c_mou_8',\n",
       " 'loc_og_mou_8',\n",
       " 'std_ic_t2m_mou_8',\n",
       " 'loc_og_t2c_mou_8',\n",
       " 'std_ic_t2o_mou_8',\n",
       " 'std_og_mou_8',\n",
       " 'loc_og_t2f_mou_8',\n",
       " 'isd_og_mou_8',\n",
       " 'loc_og_t2m_mou_8',\n",
       " 'loc_og_t2t_mou_8',\n",
       " 'std_og_t2f_mou_8',\n",
       " 'spl_og_mou_8',\n",
       " 'std_ic_mou_8',\n",
       " 'onnet_mou_8',\n",
       " 'spl_ic_mou_8',\n",
       " 'ic_others_8',\n",
       " 'loc_ic_t2m_mou_8',\n",
       " 'isd_ic_mou_8',\n",
       " 'loc_ic_t2t_mou_8',\n",
       " 'std_ic_t2t_mou_8',\n",
       " 'loc_ic_mou_8',\n",
       " 'std_og_t2m_mou_8',\n",
       " 'offnet_mou_8',\n",
       " 'og_others_8',\n",
       " 'roam_ic_mou_8',\n",
       " 'isd_og_mou_6',\n",
       " 'spl_og_mou_6',\n",
       " 'loc_ic_t2t_mou_6',\n",
       " 'std_ic_t2m_mou_6',\n",
       " 'loc_ic_t2m_mou_6',\n",
       " 'std_og_mou_6',\n",
       " 'std_ic_t2t_mou_6',\n",
       " 'loc_ic_mou_6',\n",
       " 'std_ic_t2f_mou_6',\n",
       " 'std_og_t2c_mou_6',\n",
       " 'og_others_6',\n",
       " 'loc_ic_t2f_mou_6',\n",
       " 'loc_og_t2t_mou_6',\n",
       " 'loc_og_t2m_mou_6',\n",
       " 'ic_others_6',\n",
       " 'onnet_mou_6',\n",
       " 'isd_ic_mou_6',\n",
       " 'offnet_mou_6',\n",
       " 'roam_ic_mou_6',\n",
       " 'roam_og_mou_6',\n",
       " 'spl_ic_mou_6',\n",
       " 'std_og_t2f_mou_6',\n",
       " 'std_og_t2t_mou_6',\n",
       " 'loc_og_t2f_mou_6',\n",
       " 'std_ic_mou_6',\n",
       " 'loc_og_t2c_mou_6',\n",
       " 'loc_og_mou_6',\n",
       " 'std_ic_t2o_mou_6',\n",
       " 'std_og_t2m_mou_6',\n",
       " 'std_ic_mou_7',\n",
       " 'std_ic_t2m_mou_7',\n",
       " 'spl_ic_mou_7',\n",
       " 'std_ic_t2t_mou_7',\n",
       " 'std_ic_t2o_mou_7',\n",
       " 'loc_ic_t2f_mou_7',\n",
       " 'loc_ic_mou_7',\n",
       " 'isd_ic_mou_7',\n",
       " 'ic_others_7',\n",
       " 'std_ic_t2f_mou_7',\n",
       " 'og_others_7',\n",
       " 'loc_og_t2c_mou_7',\n",
       " 'std_og_t2c_mou_7',\n",
       " 'loc_og_t2m_mou_7',\n",
       " 'loc_og_t2f_mou_7',\n",
       " 'roam_og_mou_7',\n",
       " 'loc_og_mou_7',\n",
       " 'std_og_t2t_mou_7',\n",
       " 'std_og_t2m_mou_7',\n",
       " 'std_og_t2f_mou_7',\n",
       " 'std_og_mou_7',\n",
       " 'loc_ic_t2m_mou_7',\n",
       " 'isd_og_mou_7',\n",
       " 'spl_og_mou_7',\n",
       " 'roam_ic_mou_7',\n",
       " 'offnet_mou_7',\n",
       " 'onnet_mou_7',\n",
       " 'loc_ic_t2t_mou_7',\n",
       " 'loc_og_t2t_mou_7',\n",
       " 'loc_ic_t2o_mou',\n",
       " 'loc_og_t2o_mou',\n",
       " 'std_og_t2o_mou']"
      ]
     },
     "execution_count": 31,
     "metadata": {},
     "output_type": "execute_result"
    }
   ],
   "source": [
    "missing_values = (train.isnull().sum() / len(train) * 100).sort_values(ascending=False)\n",
    "unwanted_vars = missing_values[missing_values>0]\n",
    "unwanted_vars.index.tolist()"
   ]
  },
  {
   "cell_type": "markdown",
   "id": "d04b79b6",
   "metadata": {},
   "source": [
    "Here we can see almost all the variables are realated MOU (Minutes of usage voice calls)<br>\n",
    "We can impute zero for those where there are null value, which will result in 0 minutes of usage voice call(makes sence)"
   ]
  },
  {
   "cell_type": "code",
   "execution_count": 32,
   "id": "a56d4e5c",
   "metadata": {
    "scrolled": true
   },
   "outputs": [],
   "source": [
    "train = train.fillna(0)\n",
    "test = test.fillna(0)"
   ]
  },
  {
   "cell_type": "code",
   "execution_count": 33,
   "id": "77a28378",
   "metadata": {},
   "outputs": [
    {
     "name": "stdout",
     "output_type": "stream",
     "text": [
      "Train: (69999, 135)\n",
      "Test: (30000, 134)\n"
     ]
    }
   ],
   "source": [
    "data_shape()"
   ]
  },
  {
   "cell_type": "code",
   "execution_count": 34,
   "id": "edfd1982",
   "metadata": {},
   "outputs": [
    {
     "data": {
      "text/plain": [
       "0"
      ]
     },
     "execution_count": 34,
     "metadata": {},
     "output_type": "execute_result"
    }
   ],
   "source": [
    "train.isnull().sum().sum()"
   ]
  },
  {
   "cell_type": "code",
   "execution_count": 35,
   "id": "89cac5e0",
   "metadata": {},
   "outputs": [
    {
     "data": {
      "text/plain": [
       "0"
      ]
     },
     "execution_count": 35,
     "metadata": {},
     "output_type": "execute_result"
    }
   ],
   "source": [
    "test.isnull().sum().sum()"
   ]
  },
  {
   "cell_type": "markdown",
   "id": "d232511d",
   "metadata": {},
   "source": [
    "__Finally we were able to successfully impute all the null values__"
   ]
  },
  {
   "cell_type": "markdown",
   "id": "06d8d25f",
   "metadata": {},
   "source": [
    "# EDA"
   ]
  },
  {
   "cell_type": "code",
   "execution_count": 36,
   "id": "4bbd5b43",
   "metadata": {},
   "outputs": [
    {
     "name": "stdout",
     "output_type": "stream",
     "text": [
      "<class 'pandas.core.frame.DataFrame'>\n",
      "RangeIndex: 69999 entries, 0 to 69998\n",
      "Data columns (total 135 columns):\n",
      " #    Column              Dtype  \n",
      "---   ------              -----  \n",
      " 0    id                  int64  \n",
      " 1    loc_og_t2o_mou      float64\n",
      " 2    std_og_t2o_mou      float64\n",
      " 3    loc_ic_t2o_mou      float64\n",
      " 4    arpu_6              float64\n",
      " 5    arpu_7              float64\n",
      " 6    arpu_8              float64\n",
      " 7    onnet_mou_6         float64\n",
      " 8    onnet_mou_7         float64\n",
      " 9    onnet_mou_8         float64\n",
      " 10   offnet_mou_6        float64\n",
      " 11   offnet_mou_7        float64\n",
      " 12   offnet_mou_8        float64\n",
      " 13   roam_ic_mou_6       float64\n",
      " 14   roam_ic_mou_7       float64\n",
      " 15   roam_ic_mou_8       float64\n",
      " 16   roam_og_mou_6       float64\n",
      " 17   roam_og_mou_7       float64\n",
      " 18   roam_og_mou_8       float64\n",
      " 19   loc_og_t2t_mou_6    float64\n",
      " 20   loc_og_t2t_mou_7    float64\n",
      " 21   loc_og_t2t_mou_8    float64\n",
      " 22   loc_og_t2m_mou_6    float64\n",
      " 23   loc_og_t2m_mou_7    float64\n",
      " 24   loc_og_t2m_mou_8    float64\n",
      " 25   loc_og_t2f_mou_6    float64\n",
      " 26   loc_og_t2f_mou_7    float64\n",
      " 27   loc_og_t2f_mou_8    float64\n",
      " 28   loc_og_t2c_mou_6    float64\n",
      " 29   loc_og_t2c_mou_7    float64\n",
      " 30   loc_og_t2c_mou_8    float64\n",
      " 31   loc_og_mou_6        float64\n",
      " 32   loc_og_mou_7        float64\n",
      " 33   loc_og_mou_8        float64\n",
      " 34   std_og_t2t_mou_6    float64\n",
      " 35   std_og_t2t_mou_7    float64\n",
      " 36   std_og_t2t_mou_8    float64\n",
      " 37   std_og_t2m_mou_6    float64\n",
      " 38   std_og_t2m_mou_7    float64\n",
      " 39   std_og_t2m_mou_8    float64\n",
      " 40   std_og_t2f_mou_6    float64\n",
      " 41   std_og_t2f_mou_7    float64\n",
      " 42   std_og_t2f_mou_8    float64\n",
      " 43   std_og_t2c_mou_6    float64\n",
      " 44   std_og_t2c_mou_7    float64\n",
      " 45   std_og_t2c_mou_8    float64\n",
      " 46   std_og_mou_6        float64\n",
      " 47   std_og_mou_7        float64\n",
      " 48   std_og_mou_8        float64\n",
      " 49   isd_og_mou_6        float64\n",
      " 50   isd_og_mou_7        float64\n",
      " 51   isd_og_mou_8        float64\n",
      " 52   spl_og_mou_6        float64\n",
      " 53   spl_og_mou_7        float64\n",
      " 54   spl_og_mou_8        float64\n",
      " 55   og_others_6         float64\n",
      " 56   og_others_7         float64\n",
      " 57   og_others_8         float64\n",
      " 58   total_og_mou_6      float64\n",
      " 59   total_og_mou_7      float64\n",
      " 60   total_og_mou_8      float64\n",
      " 61   loc_ic_t2t_mou_6    float64\n",
      " 62   loc_ic_t2t_mou_7    float64\n",
      " 63   loc_ic_t2t_mou_8    float64\n",
      " 64   loc_ic_t2m_mou_6    float64\n",
      " 65   loc_ic_t2m_mou_7    float64\n",
      " 66   loc_ic_t2m_mou_8    float64\n",
      " 67   loc_ic_t2f_mou_6    float64\n",
      " 68   loc_ic_t2f_mou_7    float64\n",
      " 69   loc_ic_t2f_mou_8    float64\n",
      " 70   loc_ic_mou_6        float64\n",
      " 71   loc_ic_mou_7        float64\n",
      " 72   loc_ic_mou_8        float64\n",
      " 73   std_ic_t2t_mou_6    float64\n",
      " 74   std_ic_t2t_mou_7    float64\n",
      " 75   std_ic_t2t_mou_8    float64\n",
      " 76   std_ic_t2m_mou_6    float64\n",
      " 77   std_ic_t2m_mou_7    float64\n",
      " 78   std_ic_t2m_mou_8    float64\n",
      " 79   std_ic_t2f_mou_6    float64\n",
      " 80   std_ic_t2f_mou_7    float64\n",
      " 81   std_ic_t2f_mou_8    float64\n",
      " 82   std_ic_t2o_mou_6    float64\n",
      " 83   std_ic_t2o_mou_7    float64\n",
      " 84   std_ic_t2o_mou_8    float64\n",
      " 85   std_ic_mou_6        float64\n",
      " 86   std_ic_mou_7        float64\n",
      " 87   std_ic_mou_8        float64\n",
      " 88   total_ic_mou_6      float64\n",
      " 89   total_ic_mou_7      float64\n",
      " 90   total_ic_mou_8      float64\n",
      " 91   spl_ic_mou_6        float64\n",
      " 92   spl_ic_mou_7        float64\n",
      " 93   spl_ic_mou_8        float64\n",
      " 94   isd_ic_mou_6        float64\n",
      " 95   isd_ic_mou_7        float64\n",
      " 96   isd_ic_mou_8        float64\n",
      " 97   ic_others_6         float64\n",
      " 98   ic_others_7         float64\n",
      " 99   ic_others_8         float64\n",
      " 100  total_rech_num_6    int64  \n",
      " 101  total_rech_num_7    int64  \n",
      " 102  total_rech_num_8    int64  \n",
      " 103  total_rech_amt_6    int64  \n",
      " 104  total_rech_amt_7    int64  \n",
      " 105  total_rech_amt_8    int64  \n",
      " 106  max_rech_amt_6      int64  \n",
      " 107  max_rech_amt_7      int64  \n",
      " 108  max_rech_amt_8      int64  \n",
      " 109  last_day_rch_amt_6  int64  \n",
      " 110  last_day_rch_amt_7  int64  \n",
      " 111  last_day_rch_amt_8  int64  \n",
      " 112  vol_2g_mb_6         float64\n",
      " 113  vol_2g_mb_7         float64\n",
      " 114  vol_2g_mb_8         float64\n",
      " 115  vol_3g_mb_6         float64\n",
      " 116  vol_3g_mb_7         float64\n",
      " 117  vol_3g_mb_8         float64\n",
      " 118  monthly_2g_6        int64  \n",
      " 119  monthly_2g_7        int64  \n",
      " 120  monthly_2g_8        int64  \n",
      " 121  sachet_2g_6         int64  \n",
      " 122  sachet_2g_7         int64  \n",
      " 123  sachet_2g_8         int64  \n",
      " 124  monthly_3g_6        int64  \n",
      " 125  monthly_3g_7        int64  \n",
      " 126  monthly_3g_8        int64  \n",
      " 127  sachet_3g_6         int64  \n",
      " 128  sachet_3g_7         int64  \n",
      " 129  sachet_3g_8         int64  \n",
      " 130  aon                 int64  \n",
      " 131  aug_vbc_3g          float64\n",
      " 132  jul_vbc_3g          float64\n",
      " 133  jun_vbc_3g          float64\n",
      " 134  churn_probability   int64  \n",
      "dtypes: float64(108), int64(27)\n",
      "memory usage: 72.1 MB\n"
     ]
    }
   ],
   "source": [
    "train.info(verbose=1)"
   ]
  },
  {
   "cell_type": "code",
   "execution_count": 37,
   "id": "a7cf6eac",
   "metadata": {},
   "outputs": [
    {
     "data": {
      "image/png": "[encoded data removed]",
      "text/plain": [
       "<Figure size 800x400 with 1 Axes>"
      ]
     },
     "metadata": {},
     "output_type": "display_data"
    },
    {
     "data": {
      "image/png": "[encoded data removed]",
      "text/plain": [
       "<Figure size 800x400 with 1 Axes>"
      ]
     },
     "metadata": {},
     "output_type": "display_data"
    },
    {
     "data": {
      "image/png": "[encoded data removed]",
      "text/plain": [
       "<Figure size 800x400 with 1 Axes>"
      ]
     },
     "metadata": {},
     "output_type": "display_data"
    },
    {
     "data": {
      "image/png": "[encoded data removed]",
      "text/plain": [
       "<Figure size 800x400 with 1 Axes>"
      ]
     },
     "metadata": {},
     "output_type": "display_data"
    },
    {
     "data": {
      "image/png": "[encoded data removed]",
      "text/plain": [
       "<Figure size 800x400 with 1 Axes>"
      ]
     },
     "metadata": {},
     "output_type": "display_data"
    }
   ],
   "source": [
    "few_selected_columns_1 = ['arpu_6', 'total_rech_amt_6', 'total_rech_num_6', 'max_rech_amt_6', 'last_day_rch_amt_6']\n",
    "\n",
    "# Plot histograms for selected numerical variables\n",
    "for var in few_selected_columns_1:\n",
    "    plt.figure(figsize=(8, 4))\n",
    "    sns.histplot(train[var], kde=True, color='skyblue')\n",
    "    plt.title(f'Histogram of {var}')\n",
    "    plt.xlabel(var)\n",
    "    plt.ylabel('Frequency')\n",
    "    plt.show()\n"
   ]
  },
  {
   "cell_type": "code",
   "execution_count": 38,
   "id": "56b3b516",
   "metadata": {},
   "outputs": [
    {
     "data": {
      "image/png": "[encoded data removed]",
      "text/plain": [
       "<Figure size 1000x600 with 1 Axes>"
      ]
     },
     "metadata": {},
     "output_type": "display_data"
    }
   ],
   "source": [
    "few_selected_columns_2 = ['total_rech_amt_6', 'total_rech_amt_7', 'total_rech_amt_8', 'vol_2g_mb_6', 'vol_2g_mb_7']\n",
    "\n",
    "plt.figure(figsize=(10, 6))\n",
    "train[few_selected_columns_2].boxplot()\n",
    "plt.title('Box plots for Selected Columns')\n",
    "plt.xlabel('Columns')\n",
    "plt.ylabel('Values')\n",
    "plt.xticks(rotation=45)\n",
    "plt.show()"
   ]
  },
  {
   "cell_type": "code",
   "execution_count": 39,
   "id": "a00f17b9",
   "metadata": {},
   "outputs": [
    {
     "data": {
      "image/png": "[encoded data removed]",
      "text/plain": [
       "<Figure size 1000x600 with 1 Axes>"
      ]
     },
     "metadata": {},
     "output_type": "display_data"
    }
   ],
   "source": [
    "few_selected_columns_3 = ['arpu_6', 'arpu_7', 'arpu_8', 'total_rech_amt_6', 'total_rech_amt_7']\n",
    "\n",
    "plt.figure(figsize=(10, 6))\n",
    "for col in few_selected_columns_3:\n",
    "    plt.scatter(train[col], train['churn_probability'], label=col, alpha=0.5)\n",
    "\n",
    "plt.title('Bivariate Analysis: Scatter Plots')\n",
    "plt.xlabel('Numeric Variables')\n",
    "plt.ylabel('Churn Probability')\n",
    "plt.legend()\n",
    "plt.show()"
   ]
  },
  {
   "cell_type": "code",
   "execution_count": 40,
   "id": "495ca647",
   "metadata": {},
   "outputs": [
    {
     "data": {
      "image/png": "[encoded data removed]",
      "text/plain": [
       "<Figure size 1000x800 with 2 Axes>"
      ]
     },
     "metadata": {},
     "output_type": "display_data"
    }
   ],
   "source": [
    "few_selected_columns_4 = ['arpu_7', 'total_rech_amt_7', 'monthly_3g_7', 'churn_probability']\n",
    "\n",
    "multivariate_data = train[few_selected_columns_4]\n",
    "\n",
    "correlation_matrix = multivariate_data.corr()\n",
    "\n",
    "plt.figure(figsize=(10, 8))\n",
    "sns.heatmap(correlation_matrix, annot=True, cmap='coolwarm', fmt=\".2f\")\n",
    "plt.title('Correlation Heatmap of Selected Variables with Churn Probability')\n",
    "plt.show()\n"
   ]
  },
  {
   "cell_type": "markdown",
   "id": "49e71d57",
   "metadata": {},
   "source": [
    "# Feature Scaling"
   ]
  },
  {
   "cell_type": "markdown",
   "id": "4c1751c0",
   "metadata": {},
   "source": [
    "__Since, we already have train and test set. We will just divide train set to X_train and y_train__"
   ]
  },
  {
   "cell_type": "code",
   "execution_count": 45,
   "id": "6c7021a8",
   "metadata": {},
   "outputs": [
    {
     "data": {
      "text/html": [
       "<div>\n",
       "<style scoped>\n",
       "    .dataframe tbody tr th:only-of-type {\n",
       "        vertical-align: middle;\n",
       "    }\n",
       "\n",
       "    .dataframe tbody tr th {\n",
       "        vertical-align: top;\n",
       "    }\n",
       "\n",
       "    .dataframe thead th {\n",
       "        text-align: right;\n",
       "    }\n",
       "</style>\n",
       "<table border=\"1\" class=\"dataframe\">\n",
       "  <thead>\n",
       "    <tr style=\"text-align: right;\">\n",
       "      <th></th>\n",
       "      <th>loc_og_t2o_mou</th>\n",
       "      <th>std_og_t2o_mou</th>\n",
       "      <th>loc_ic_t2o_mou</th>\n",
       "      <th>arpu_6</th>\n",
       "      <th>arpu_7</th>\n",
       "      <th>arpu_8</th>\n",
       "      <th>onnet_mou_6</th>\n",
       "      <th>onnet_mou_7</th>\n",
       "      <th>onnet_mou_8</th>\n",
       "      <th>offnet_mou_6</th>\n",
       "      <th>...</th>\n",
       "      <th>monthly_3g_6</th>\n",
       "      <th>monthly_3g_7</th>\n",
       "      <th>monthly_3g_8</th>\n",
       "      <th>sachet_3g_6</th>\n",
       "      <th>sachet_3g_7</th>\n",
       "      <th>sachet_3g_8</th>\n",
       "      <th>aon</th>\n",
       "      <th>aug_vbc_3g</th>\n",
       "      <th>jul_vbc_3g</th>\n",
       "      <th>jun_vbc_3g</th>\n",
       "    </tr>\n",
       "  </thead>\n",
       "  <tbody>\n",
       "    <tr>\n",
       "      <th>0</th>\n",
       "      <td>0.0</td>\n",
       "      <td>0.0</td>\n",
       "      <td>0.0</td>\n",
       "      <td>31.277</td>\n",
       "      <td>87.009</td>\n",
       "      <td>7.527</td>\n",
       "      <td>48.58</td>\n",
       "      <td>124.38</td>\n",
       "      <td>1.29</td>\n",
       "      <td>32.24</td>\n",
       "      <td>...</td>\n",
       "      <td>0</td>\n",
       "      <td>0</td>\n",
       "      <td>0</td>\n",
       "      <td>0</td>\n",
       "      <td>0</td>\n",
       "      <td>0</td>\n",
       "      <td>1958</td>\n",
       "      <td>0.0</td>\n",
       "      <td>0.0</td>\n",
       "      <td>0.0</td>\n",
       "    </tr>\n",
       "    <tr>\n",
       "      <th>1</th>\n",
       "      <td>0.0</td>\n",
       "      <td>0.0</td>\n",
       "      <td>0.0</td>\n",
       "      <td>0.000</td>\n",
       "      <td>122.787</td>\n",
       "      <td>42.953</td>\n",
       "      <td>0.00</td>\n",
       "      <td>0.00</td>\n",
       "      <td>0.00</td>\n",
       "      <td>0.00</td>\n",
       "      <td>...</td>\n",
       "      <td>0</td>\n",
       "      <td>1</td>\n",
       "      <td>0</td>\n",
       "      <td>0</td>\n",
       "      <td>0</td>\n",
       "      <td>0</td>\n",
       "      <td>710</td>\n",
       "      <td>0.0</td>\n",
       "      <td>0.0</td>\n",
       "      <td>0.0</td>\n",
       "    </tr>\n",
       "    <tr>\n",
       "      <th>2</th>\n",
       "      <td>0.0</td>\n",
       "      <td>0.0</td>\n",
       "      <td>0.0</td>\n",
       "      <td>60.806</td>\n",
       "      <td>103.176</td>\n",
       "      <td>0.000</td>\n",
       "      <td>0.53</td>\n",
       "      <td>15.93</td>\n",
       "      <td>0.00</td>\n",
       "      <td>53.99</td>\n",
       "      <td>...</td>\n",
       "      <td>0</td>\n",
       "      <td>0</td>\n",
       "      <td>0</td>\n",
       "      <td>0</td>\n",
       "      <td>0</td>\n",
       "      <td>0</td>\n",
       "      <td>882</td>\n",
       "      <td>0.0</td>\n",
       "      <td>0.0</td>\n",
       "      <td>0.0</td>\n",
       "    </tr>\n",
       "    <tr>\n",
       "      <th>3</th>\n",
       "      <td>0.0</td>\n",
       "      <td>0.0</td>\n",
       "      <td>0.0</td>\n",
       "      <td>156.362</td>\n",
       "      <td>205.260</td>\n",
       "      <td>111.095</td>\n",
       "      <td>7.26</td>\n",
       "      <td>16.01</td>\n",
       "      <td>0.00</td>\n",
       "      <td>68.76</td>\n",
       "      <td>...</td>\n",
       "      <td>0</td>\n",
       "      <td>0</td>\n",
       "      <td>0</td>\n",
       "      <td>0</td>\n",
       "      <td>0</td>\n",
       "      <td>0</td>\n",
       "      <td>982</td>\n",
       "      <td>0.0</td>\n",
       "      <td>0.0</td>\n",
       "      <td>0.0</td>\n",
       "    </tr>\n",
       "    <tr>\n",
       "      <th>4</th>\n",
       "      <td>0.0</td>\n",
       "      <td>0.0</td>\n",
       "      <td>0.0</td>\n",
       "      <td>240.708</td>\n",
       "      <td>128.191</td>\n",
       "      <td>101.565</td>\n",
       "      <td>21.28</td>\n",
       "      <td>4.83</td>\n",
       "      <td>6.13</td>\n",
       "      <td>56.99</td>\n",
       "      <td>...</td>\n",
       "      <td>0</td>\n",
       "      <td>0</td>\n",
       "      <td>0</td>\n",
       "      <td>0</td>\n",
       "      <td>1</td>\n",
       "      <td>0</td>\n",
       "      <td>647</td>\n",
       "      <td>0.0</td>\n",
       "      <td>0.0</td>\n",
       "      <td>0.0</td>\n",
       "    </tr>\n",
       "  </tbody>\n",
       "</table>\n",
       "<p>5 rows × 133 columns</p>\n",
       "</div>"
      ],
      "text/plain": [
       "   loc_og_t2o_mou  std_og_t2o_mou  loc_ic_t2o_mou   arpu_6   arpu_7   arpu_8  \\\n",
       "0             0.0             0.0             0.0   31.277   87.009    7.527   \n",
       "1             0.0             0.0             0.0    0.000  122.787   42.953   \n",
       "2             0.0             0.0             0.0   60.806  103.176    0.000   \n",
       "3             0.0             0.0             0.0  156.362  205.260  111.095   \n",
       "4             0.0             0.0             0.0  240.708  128.191  101.565   \n",
       "\n",
       "   onnet_mou_6  onnet_mou_7  onnet_mou_8  offnet_mou_6  ...  monthly_3g_6  \\\n",
       "0        48.58       124.38         1.29         32.24  ...             0   \n",
       "1         0.00         0.00         0.00          0.00  ...             0   \n",
       "2         0.53        15.93         0.00         53.99  ...             0   \n",
       "3         7.26        16.01         0.00         68.76  ...             0   \n",
       "4        21.28         4.83         6.13         56.99  ...             0   \n",
       "\n",
       "   monthly_3g_7  monthly_3g_8  sachet_3g_6  sachet_3g_7  sachet_3g_8   aon  \\\n",
       "0             0             0            0            0            0  1958   \n",
       "1             1             0            0            0            0   710   \n",
       "2             0             0            0            0            0   882   \n",
       "3             0             0            0            0            0   982   \n",
       "4             0             0            0            1            0   647   \n",
       "\n",
       "   aug_vbc_3g  jul_vbc_3g  jun_vbc_3g  \n",
       "0         0.0         0.0         0.0  \n",
       "1         0.0         0.0         0.0  \n",
       "2         0.0         0.0         0.0  \n",
       "3         0.0         0.0         0.0  \n",
       "4         0.0         0.0         0.0  \n",
       "\n",
       "[5 rows x 133 columns]"
      ]
     },
     "execution_count": 45,
     "metadata": {},
     "output_type": "execute_result"
    }
   ],
   "source": [
    "X_train = train.drop(['id','churn_probability'], axis=1)\n",
    "X_train.head()"
   ]
  },
  {
   "cell_type": "code",
   "execution_count": 46,
   "id": "330f4e0e",
   "metadata": {},
   "outputs": [
    {
     "data": {
      "text/plain": [
       "0    0\n",
       "1    0\n",
       "2    0\n",
       "3    0\n",
       "4    0\n",
       "Name: churn_probability, dtype: int64"
      ]
     },
     "execution_count": 46,
     "metadata": {},
     "output_type": "execute_result"
    }
   ],
   "source": [
    "y_train = train['churn_probability']\n",
    "y_train.head()"
   ]
  },
  {
   "cell_type": "markdown",
   "id": "2e00bf4c",
   "metadata": {},
   "source": [
    "__Lets scale the features(float64 vars) using Standard Scaler__"
   ]
  },
  {
   "cell_type": "code",
   "execution_count": 47,
   "id": "e3171113",
   "metadata": {},
   "outputs": [
    {
     "data": {
      "text/html": [
       "<div>\n",
       "<style scoped>\n",
       "    .dataframe tbody tr th:only-of-type {\n",
       "        vertical-align: middle;\n",
       "    }\n",
       "\n",
       "    .dataframe tbody tr th {\n",
       "        vertical-align: top;\n",
       "    }\n",
       "\n",
       "    .dataframe thead th {\n",
       "        text-align: right;\n",
       "    }\n",
       "</style>\n",
       "<table border=\"1\" class=\"dataframe\">\n",
       "  <thead>\n",
       "    <tr style=\"text-align: right;\">\n",
       "      <th></th>\n",
       "      <th>loc_og_t2o_mou</th>\n",
       "      <th>std_og_t2o_mou</th>\n",
       "      <th>loc_ic_t2o_mou</th>\n",
       "      <th>arpu_6</th>\n",
       "      <th>arpu_7</th>\n",
       "      <th>arpu_8</th>\n",
       "      <th>onnet_mou_6</th>\n",
       "      <th>onnet_mou_7</th>\n",
       "      <th>onnet_mou_8</th>\n",
       "      <th>offnet_mou_6</th>\n",
       "      <th>...</th>\n",
       "      <th>monthly_3g_6</th>\n",
       "      <th>monthly_3g_7</th>\n",
       "      <th>monthly_3g_8</th>\n",
       "      <th>sachet_3g_6</th>\n",
       "      <th>sachet_3g_7</th>\n",
       "      <th>sachet_3g_8</th>\n",
       "      <th>aon</th>\n",
       "      <th>aug_vbc_3g</th>\n",
       "      <th>jul_vbc_3g</th>\n",
       "      <th>jun_vbc_3g</th>\n",
       "    </tr>\n",
       "  </thead>\n",
       "  <tbody>\n",
       "    <tr>\n",
       "      <th>0</th>\n",
       "      <td>0.0</td>\n",
       "      <td>0.0</td>\n",
       "      <td>0.0</td>\n",
       "      <td>-0.753587</td>\n",
       "      <td>-0.555159</td>\n",
       "      <td>-0.771000</td>\n",
       "      <td>-0.268737</td>\n",
       "      <td>-0.014281</td>\n",
       "      <td>-0.408716</td>\n",
       "      <td>-0.507419</td>\n",
       "      <td>...</td>\n",
       "      <td>0</td>\n",
       "      <td>0</td>\n",
       "      <td>0</td>\n",
       "      <td>0</td>\n",
       "      <td>0</td>\n",
       "      <td>0</td>\n",
       "      <td>1958</td>\n",
       "      <td>-0.252885</td>\n",
       "      <td>-0.246124</td>\n",
       "      <td>-0.233557</td>\n",
       "    </tr>\n",
       "    <tr>\n",
       "      <th>1</th>\n",
       "      <td>0.0</td>\n",
       "      <td>0.0</td>\n",
       "      <td>0.0</td>\n",
       "      <td>-0.847171</td>\n",
       "      <td>-0.451263</td>\n",
       "      <td>-0.670336</td>\n",
       "      <td>-0.433352</td>\n",
       "      <td>-0.420322</td>\n",
       "      <td>-0.412946</td>\n",
       "      <td>-0.610455</td>\n",
       "      <td>...</td>\n",
       "      <td>0</td>\n",
       "      <td>1</td>\n",
       "      <td>0</td>\n",
       "      <td>0</td>\n",
       "      <td>0</td>\n",
       "      <td>0</td>\n",
       "      <td>710</td>\n",
       "      <td>-0.252885</td>\n",
       "      <td>-0.246124</td>\n",
       "      <td>-0.233557</td>\n",
       "    </tr>\n",
       "    <tr>\n",
       "      <th>2</th>\n",
       "      <td>0.0</td>\n",
       "      <td>0.0</td>\n",
       "      <td>0.0</td>\n",
       "      <td>-0.665232</td>\n",
       "      <td>-0.508211</td>\n",
       "      <td>-0.792389</td>\n",
       "      <td>-0.431556</td>\n",
       "      <td>-0.368318</td>\n",
       "      <td>-0.412946</td>\n",
       "      <td>-0.437907</td>\n",
       "      <td>...</td>\n",
       "      <td>0</td>\n",
       "      <td>0</td>\n",
       "      <td>0</td>\n",
       "      <td>0</td>\n",
       "      <td>0</td>\n",
       "      <td>0</td>\n",
       "      <td>882</td>\n",
       "      <td>-0.252885</td>\n",
       "      <td>-0.246124</td>\n",
       "      <td>-0.233557</td>\n",
       "    </tr>\n",
       "    <tr>\n",
       "      <th>3</th>\n",
       "      <td>0.0</td>\n",
       "      <td>0.0</td>\n",
       "      <td>0.0</td>\n",
       "      <td>-0.379318</td>\n",
       "      <td>-0.211770</td>\n",
       "      <td>-0.476708</td>\n",
       "      <td>-0.408751</td>\n",
       "      <td>-0.368057</td>\n",
       "      <td>-0.412946</td>\n",
       "      <td>-0.390704</td>\n",
       "      <td>...</td>\n",
       "      <td>0</td>\n",
       "      <td>0</td>\n",
       "      <td>0</td>\n",
       "      <td>0</td>\n",
       "      <td>0</td>\n",
       "      <td>0</td>\n",
       "      <td>982</td>\n",
       "      <td>-0.252885</td>\n",
       "      <td>-0.246124</td>\n",
       "      <td>-0.233557</td>\n",
       "    </tr>\n",
       "    <tr>\n",
       "      <th>4</th>\n",
       "      <td>0.0</td>\n",
       "      <td>0.0</td>\n",
       "      <td>0.0</td>\n",
       "      <td>-0.126945</td>\n",
       "      <td>-0.435570</td>\n",
       "      <td>-0.503788</td>\n",
       "      <td>-0.361244</td>\n",
       "      <td>-0.404554</td>\n",
       "      <td>-0.392846</td>\n",
       "      <td>-0.428320</td>\n",
       "      <td>...</td>\n",
       "      <td>0</td>\n",
       "      <td>0</td>\n",
       "      <td>0</td>\n",
       "      <td>0</td>\n",
       "      <td>1</td>\n",
       "      <td>0</td>\n",
       "      <td>647</td>\n",
       "      <td>-0.252885</td>\n",
       "      <td>-0.246124</td>\n",
       "      <td>-0.233557</td>\n",
       "    </tr>\n",
       "  </tbody>\n",
       "</table>\n",
       "<p>5 rows × 133 columns</p>\n",
       "</div>"
      ],
      "text/plain": [
       "   loc_og_t2o_mou  std_og_t2o_mou  loc_ic_t2o_mou    arpu_6    arpu_7  \\\n",
       "0             0.0             0.0             0.0 -0.753587 -0.555159   \n",
       "1             0.0             0.0             0.0 -0.847171 -0.451263   \n",
       "2             0.0             0.0             0.0 -0.665232 -0.508211   \n",
       "3             0.0             0.0             0.0 -0.379318 -0.211770   \n",
       "4             0.0             0.0             0.0 -0.126945 -0.435570   \n",
       "\n",
       "     arpu_8  onnet_mou_6  onnet_mou_7  onnet_mou_8  offnet_mou_6  ...  \\\n",
       "0 -0.771000    -0.268737    -0.014281    -0.408716     -0.507419  ...   \n",
       "1 -0.670336    -0.433352    -0.420322    -0.412946     -0.610455  ...   \n",
       "2 -0.792389    -0.431556    -0.368318    -0.412946     -0.437907  ...   \n",
       "3 -0.476708    -0.408751    -0.368057    -0.412946     -0.390704  ...   \n",
       "4 -0.503788    -0.361244    -0.404554    -0.392846     -0.428320  ...   \n",
       "\n",
       "   monthly_3g_6  monthly_3g_7  monthly_3g_8  sachet_3g_6  sachet_3g_7  \\\n",
       "0             0             0             0            0            0   \n",
       "1             0             1             0            0            0   \n",
       "2             0             0             0            0            0   \n",
       "3             0             0             0            0            0   \n",
       "4             0             0             0            0            1   \n",
       "\n",
       "   sachet_3g_8   aon  aug_vbc_3g  jul_vbc_3g  jun_vbc_3g  \n",
       "0            0  1958   -0.252885   -0.246124   -0.233557  \n",
       "1            0   710   -0.252885   -0.246124   -0.233557  \n",
       "2            0   882   -0.252885   -0.246124   -0.233557  \n",
       "3            0   982   -0.252885   -0.246124   -0.233557  \n",
       "4            0   647   -0.252885   -0.246124   -0.233557  \n",
       "\n",
       "[5 rows x 133 columns]"
      ]
     },
     "execution_count": 47,
     "metadata": {},
     "output_type": "execute_result"
    }
   ],
   "source": [
    "cols = X_train.select_dtypes(include=['float64']).columns\n",
    "scaler = StandardScaler()\n",
    "X_train[cols] = scaler.fit_transform(X_train[cols])\n",
    "X_train.head()"
   ]
  },
  {
   "cell_type": "markdown",
   "id": "ac163903",
   "metadata": {},
   "source": [
    "### Checking the Churn Rate"
   ]
  },
  {
   "cell_type": "code",
   "execution_count": 48,
   "id": "a66f85f7",
   "metadata": {},
   "outputs": [
    {
     "data": {
      "text/plain": [
       "10.188716981671167"
      ]
     },
     "execution_count": 48,
     "metadata": {},
     "output_type": "execute_result"
    }
   ],
   "source": [
    "churn_rate = (sum(train['churn_probability'])/len(train['churn_probability'].index))*100\n",
    "churn_rate"
   ]
  },
  {
   "cell_type": "markdown",
   "id": "5a09e152",
   "metadata": {},
   "source": [
    "# Looking at Correlations"
   ]
  },
  {
   "cell_type": "code",
   "execution_count": 49,
   "id": "1fabcc59",
   "metadata": {},
   "outputs": [],
   "source": [
    "%matplotlib inline"
   ]
  },
  {
   "cell_type": "code",
   "execution_count": 50,
   "id": "8a260a83",
   "metadata": {},
   "outputs": [
    {
     "name": "stdout",
     "output_type": "stream",
     "text": [
      "total_rech_amt_8  arpu_8              0.958333\n",
      "total_rech_amt_7  arpu_7              0.955298\n",
      "total_rech_amt_6  arpu_6              0.952776\n",
      "isd_og_mou_8      isd_og_mou_7        0.947006\n",
      "isd_og_mou_7      isd_og_mou_6        0.934022\n",
      "isd_og_mou_8      isd_og_mou_6        0.924139\n",
      "total_ic_mou_6    loc_ic_mou_6        0.904457\n",
      "total_ic_mou_8    loc_ic_mou_8        0.896980\n",
      "total_ic_mou_7    loc_ic_mou_7        0.892899\n",
      "std_og_t2t_mou_8  onnet_mou_8         0.863429\n",
      "std_og_t2t_mou_7  onnet_mou_7         0.862664\n",
      "std_ic_mou_7      std_ic_t2m_mou_7    0.859621\n",
      "total_og_mou_8    std_og_mou_8        0.859475\n",
      "std_og_t2m_mou_8  offnet_mou_8        0.857885\n",
      "total_og_mou_7    std_og_mou_7        0.857320\n",
      "std_og_t2m_mou_7  offnet_mou_7        0.855804\n",
      "std_og_t2t_mou_6  onnet_mou_6         0.855785\n",
      "std_ic_mou_8      std_ic_t2m_mou_8    0.855778\n",
      "std_ic_mou_6      std_ic_t2m_mou_6    0.853522\n",
      "total_og_mou_6    std_og_mou_6        0.840865\n",
      "loc_og_mou_8      loc_og_mou_7        0.834978\n",
      "std_og_t2m_mou_6  offnet_mou_6        0.831909\n",
      "loc_ic_mou_8      loc_ic_mou_7        0.829162\n",
      "loc_ic_mou_6      loc_ic_t2m_mou_6    0.823757\n",
      "total_ic_mou_8    total_ic_mou_7      0.817588\n",
      "loc_ic_mou_8      loc_ic_t2m_mou_8    0.816496\n",
      "loc_og_mou_6      loc_og_t2m_mou_6    0.816215\n",
      "loc_og_t2t_mou_8  loc_og_t2t_mou_7    0.815772\n",
      "loc_og_t2m_mou_8  loc_og_t2m_mou_7    0.815128\n",
      "loc_og_mou_7      loc_og_mou_6        0.813185\n",
      "loc_ic_t2t_mou_8  loc_ic_t2t_mou_7    0.804753\n",
      "loc_ic_mou_7      loc_ic_t2m_mou_7    0.802692\n",
      "dtype: float64\n"
     ]
    }
   ],
   "source": [
    "correlation_matrix = X_train.corr().abs()\n",
    "\n",
    "mask = np.triu(np.ones_like(correlation_matrix, dtype=bool))\n",
    "\n",
    "highly_correlated = correlation_matrix.mask(mask).stack().sort_values(ascending=False)\n",
    "\n",
    "threshold = 0.8\n",
    "highly_correlated = highly_correlated[highly_correlated > threshold]\n",
    "\n",
    "print(highly_correlated)"
   ]
  },
  {
   "cell_type": "code",
   "execution_count": 51,
   "id": "647ced7b",
   "metadata": {},
   "outputs": [],
   "source": [
    "correlated_pairs_to_drop = [\n",
    "('total_rech_amt_8',  'arpu_8'),\n",
    "('total_rech_amt_7',  'arpu_7'),\n",
    "('total_rech_amt_6',  'arpu_6'),\n",
    "('isd_og_mou_8',      'isd_og_mou_7'),\n",
    "('isd_og_mou_7',      'isd_og_mou_6'),\n",
    "('isd_og_mou_8',      'isd_og_mou_6'),\n",
    "('total_ic_mou_6',    'loc_ic_mou_6'),\n",
    "('total_ic_mou_8',    'loc_ic_mou_8'),\n",
    "('total_ic_mou_7',    'loc_ic_mou_7'),\n",
    "('std_og_t2t_mou_8',  'onnet_mou_8'),\n",
    "('std_og_t2t_mou_7',  'onnet_mou_7'),\n",
    "('std_ic_mou_7',      'std_ic_t2m_mou_7'),\n",
    "('total_og_mou_8',    'std_og_mou_8'),\n",
    "('std_og_t2m_mou_8',  'offnet_mou_8'),\n",
    "('total_og_mou_7',    'std_og_mou_7'),\n",
    "('std_og_t2m_mou_7',  'offnet_mou_7'),\n",
    "('std_og_t2t_mou_6',  'onnet_mou_6'),\n",
    "('std_ic_mou_8',      'std_ic_t2m_mou_8'),\n",
    "('std_ic_mou_6',      'std_ic_t2m_mou_6'),\n",
    "('total_og_mou_6',    'std_og_mou_6'),\n",
    "('loc_og_mou_8',      'loc_og_mou_7'),\n",
    "('std_og_t2m_mou_6',  'offnet_mou_6'),\n",
    "('loc_ic_mou_8',      'loc_ic_mou_7'),\n",
    "('loc_ic_mou_6',      'loc_ic_t2m_mou_6'),\n",
    "('total_ic_mou_8',    'total_ic_mou_7'),\n",
    "('loc_ic_mou_8',      'loc_ic_t2m_mou_8'),\n",
    "('loc_og_mou_6',      'loc_og_t2m_mou_6'),\n",
    "('loc_og_t2t_mou_8',  'loc_og_t2t_mou_7'),\n",
    "('loc_og_t2m_mou_8',  'loc_og_t2m_mou_7'),\n",
    "('loc_og_mou_7',      'loc_og_mou_6'),\n",
    "('loc_ic_t2t_mou_8',  'loc_ic_t2t_mou_7'),\n",
    "('loc_ic_mou_7',      'loc_ic_t2m_mou_7')\n",
    "]"
   ]
  },
  {
   "cell_type": "code",
   "execution_count": 52,
   "id": "a3249f44",
   "metadata": {},
   "outputs": [
    {
     "data": {
      "text/plain": [
       "(69999, 103)"
      ]
     },
     "execution_count": 52,
     "metadata": {},
     "output_type": "execute_result"
    }
   ],
   "source": [
    "X_train.drop(columns=[pair[1] for pair in correlated_pairs_to_drop], inplace=True)\n",
    "X_train.shape"
   ]
  },
  {
   "cell_type": "markdown",
   "id": "81ef0ecd",
   "metadata": {},
   "source": [
    "For now, we drop only in train set.<br>\n",
    "Later we will check test set as well."
   ]
  },
  {
   "cell_type": "markdown",
   "id": "5156552f",
   "metadata": {},
   "source": [
    "# Model Building"
   ]
  },
  {
   "cell_type": "code",
   "execution_count": 54,
   "id": "c41b7940",
   "metadata": {
    "scrolled": true
   },
   "outputs": [
    {
     "data": {
      "text/html": [
       "<table class=\"simpletable\">\n",
       "<caption>Generalized Linear Model Regression Results</caption>\n",
       "<tr>\n",
       "  <th>Dep. Variable:</th>   <td>churn_probability</td> <th>  No. Observations:  </th>   <td> 69999</td>  \n",
       "</tr>\n",
       "<tr>\n",
       "  <th>Model:</th>                  <td>GLM</td>        <th>  Df Residuals:      </th>   <td> 69904</td>  \n",
       "</tr>\n",
       "<tr>\n",
       "  <th>Model Family:</th>        <td>Binomial</td>      <th>  Df Model:          </th>   <td>    94</td>  \n",
       "</tr>\n",
       "<tr>\n",
       "  <th>Link Function:</th>         <td>Logit</td>       <th>  Scale:             </th>  <td>  1.0000</td> \n",
       "</tr>\n",
       "<tr>\n",
       "  <th>Method:</th>                <td>IRLS</td>        <th>  Log-Likelihood:    </th>  <td>     nan</td> \n",
       "</tr>\n",
       "<tr>\n",
       "  <th>Date:</th>            <td>Thu, 08 Feb 2024</td>  <th>  Deviance:          </th> <td>6.5992e+05</td>\n",
       "</tr>\n",
       "<tr>\n",
       "  <th>Time:</th>                <td>00:38:46</td>      <th>  Pearson chi2:      </th>  <td>3.23e+19</td> \n",
       "</tr>\n",
       "<tr>\n",
       "  <th>No. Iterations:</th>         <td>100</td>        <th>  Pseudo R-squ. (CS):</th>   <td>   nan</td>  \n",
       "</tr>\n",
       "<tr>\n",
       "  <th>Covariance Type:</th>     <td>nonrobust</td>     <th>                     </th>      <td> </td>    \n",
       "</tr>\n",
       "</table>\n",
       "<table class=\"simpletable\">\n",
       "<tr>\n",
       "           <td></td>             <th>coef</th>     <th>std err</th>      <th>z</th>      <th>P>|z|</th>  <th>[0.025</th>    <th>0.975]</th>  \n",
       "</tr>\n",
       "<tr>\n",
       "  <th>const</th>              <td>-8.671e+14</td> <td> 7.76e+05</td> <td>-1.12e+09</td> <td> 0.000</td> <td>-8.67e+14</td> <td>-8.67e+14</td>\n",
       "</tr>\n",
       "<tr>\n",
       "  <th>loc_og_t2o_mou</th>     <td> 2.879e+09</td> <td>    9.002</td> <td>  3.2e+08</td> <td> 0.000</td> <td> 2.88e+09</td> <td> 2.88e+09</td>\n",
       "</tr>\n",
       "<tr>\n",
       "  <th>std_og_t2o_mou</th>     <td>-2.802e+09</td> <td>   17.016</td> <td>-1.65e+08</td> <td> 0.000</td> <td> -2.8e+09</td> <td> -2.8e+09</td>\n",
       "</tr>\n",
       "<tr>\n",
       "  <th>loc_ic_t2o_mou</th>     <td> 2.927e+08</td> <td>    0.883</td> <td> 3.32e+08</td> <td> 0.000</td> <td> 2.93e+08</td> <td> 2.93e+08</td>\n",
       "</tr>\n",
       "<tr>\n",
       "  <th>roam_ic_mou_6</th>      <td> 1.523e+13</td> <td> 3.43e+05</td> <td> 4.44e+07</td> <td> 0.000</td> <td> 1.52e+13</td> <td> 1.52e+13</td>\n",
       "</tr>\n",
       "<tr>\n",
       "  <th>roam_ic_mou_7</th>      <td>-2.561e+12</td> <td> 4.01e+05</td> <td>-6.39e+06</td> <td> 0.000</td> <td>-2.56e+12</td> <td>-2.56e+12</td>\n",
       "</tr>\n",
       "<tr>\n",
       "  <th>roam_ic_mou_8</th>      <td>-1.982e+13</td> <td> 3.75e+05</td> <td>-5.29e+07</td> <td> 0.000</td> <td>-1.98e+13</td> <td>-1.98e+13</td>\n",
       "</tr>\n",
       "<tr>\n",
       "  <th>roam_og_mou_6</th>      <td>-3.274e+13</td> <td> 3.77e+05</td> <td>-8.69e+07</td> <td> 0.000</td> <td>-3.27e+13</td> <td>-3.27e+13</td>\n",
       "</tr>\n",
       "<tr>\n",
       "  <th>roam_og_mou_7</th>      <td>-3.727e+13</td> <td> 4.09e+05</td> <td>-9.12e+07</td> <td> 0.000</td> <td>-3.73e+13</td> <td>-3.73e+13</td>\n",
       "</tr>\n",
       "<tr>\n",
       "  <th>roam_og_mou_8</th>      <td>  3.11e+13</td> <td> 3.73e+05</td> <td> 8.33e+07</td> <td> 0.000</td> <td> 3.11e+13</td> <td> 3.11e+13</td>\n",
       "</tr>\n",
       "<tr>\n",
       "  <th>loc_og_t2t_mou_6</th>   <td> 2.951e+13</td> <td> 5.56e+05</td> <td>  5.3e+07</td> <td> 0.000</td> <td> 2.95e+13</td> <td> 2.95e+13</td>\n",
       "</tr>\n",
       "<tr>\n",
       "  <th>loc_og_t2t_mou_8</th>   <td>-1.563e+18</td> <td> 6.52e+09</td> <td> -2.4e+08</td> <td> 0.000</td> <td>-1.56e+18</td> <td>-1.56e+18</td>\n",
       "</tr>\n",
       "<tr>\n",
       "  <th>loc_og_t2m_mou_8</th>   <td>-1.567e+18</td> <td> 6.53e+09</td> <td> -2.4e+08</td> <td> 0.000</td> <td>-1.57e+18</td> <td>-1.57e+18</td>\n",
       "</tr>\n",
       "<tr>\n",
       "  <th>loc_og_t2f_mou_6</th>   <td>-1.382e+13</td> <td>  4.3e+05</td> <td>-3.21e+07</td> <td> 0.000</td> <td>-1.38e+13</td> <td>-1.38e+13</td>\n",
       "</tr>\n",
       "<tr>\n",
       "  <th>loc_og_t2f_mou_7</th>   <td> 2.734e+12</td> <td> 4.81e+05</td> <td> 5.68e+06</td> <td> 0.000</td> <td> 2.73e+12</td> <td> 2.73e+12</td>\n",
       "</tr>\n",
       "<tr>\n",
       "  <th>loc_og_t2f_mou_8</th>   <td>-1.323e+17</td> <td> 5.51e+08</td> <td> -2.4e+08</td> <td> 0.000</td> <td>-1.32e+17</td> <td>-1.32e+17</td>\n",
       "</tr>\n",
       "<tr>\n",
       "  <th>loc_og_t2c_mou_6</th>   <td>-1.453e+13</td> <td> 3.21e+05</td> <td>-4.52e+07</td> <td> 0.000</td> <td>-1.45e+13</td> <td>-1.45e+13</td>\n",
       "</tr>\n",
       "<tr>\n",
       "  <th>loc_og_t2c_mou_7</th>   <td> 1.056e+13</td> <td> 3.41e+05</td> <td>  3.1e+07</td> <td> 0.000</td> <td> 1.06e+13</td> <td> 1.06e+13</td>\n",
       "</tr>\n",
       "<tr>\n",
       "  <th>loc_og_t2c_mou_8</th>   <td> 1.118e+13</td> <td> 3.38e+05</td> <td> 3.31e+07</td> <td> 0.000</td> <td> 1.12e+13</td> <td> 1.12e+13</td>\n",
       "</tr>\n",
       "<tr>\n",
       "  <th>loc_og_mou_8</th>       <td> 4.676e+17</td> <td> 1.34e+10</td> <td>  3.5e+07</td> <td> 0.000</td> <td> 4.68e+17</td> <td> 4.68e+17</td>\n",
       "</tr>\n",
       "<tr>\n",
       "  <th>std_og_t2t_mou_6</th>   <td>-2.334e+12</td> <td> 7.82e+05</td> <td>-2.99e+06</td> <td> 0.000</td> <td>-2.33e+12</td> <td>-2.33e+12</td>\n",
       "</tr>\n",
       "<tr>\n",
       "  <th>std_og_t2t_mou_7</th>   <td>-3.205e+13</td> <td>    8e+05</td> <td>   -4e+07</td> <td> 0.000</td> <td> -3.2e+13</td> <td> -3.2e+13</td>\n",
       "</tr>\n",
       "<tr>\n",
       "  <th>std_og_t2t_mou_8</th>   <td> -2.21e+18</td> <td> 8.85e+09</td> <td> -2.5e+08</td> <td> 0.000</td> <td>-2.21e+18</td> <td>-2.21e+18</td>\n",
       "</tr>\n",
       "<tr>\n",
       "  <th>std_og_t2m_mou_6</th>   <td>-2.465e+12</td> <td> 7.91e+05</td> <td>-3.12e+06</td> <td> 0.000</td> <td>-2.46e+12</td> <td>-2.46e+12</td>\n",
       "</tr>\n",
       "<tr>\n",
       "  <th>std_og_t2m_mou_7</th>   <td>-8.961e+12</td> <td> 8.02e+05</td> <td>-1.12e+07</td> <td> 0.000</td> <td>-8.96e+12</td> <td>-8.96e+12</td>\n",
       "</tr>\n",
       "<tr>\n",
       "  <th>std_og_t2m_mou_8</th>   <td>-2.236e+18</td> <td> 8.95e+09</td> <td> -2.5e+08</td> <td> 0.000</td> <td>-2.24e+18</td> <td>-2.24e+18</td>\n",
       "</tr>\n",
       "<tr>\n",
       "  <th>std_og_t2f_mou_6</th>   <td>-4.122e+12</td> <td> 3.49e+05</td> <td>-1.18e+07</td> <td> 0.000</td> <td>-4.12e+12</td> <td>-4.12e+12</td>\n",
       "</tr>\n",
       "<tr>\n",
       "  <th>std_og_t2f_mou_7</th>   <td> 8.929e+12</td> <td> 3.98e+05</td> <td> 2.24e+07</td> <td> 0.000</td> <td> 8.93e+12</td> <td> 8.93e+12</td>\n",
       "</tr>\n",
       "<tr>\n",
       "  <th>std_og_t2f_mou_8</th>   <td> -6.36e+16</td> <td> 2.55e+08</td> <td> -2.5e+08</td> <td> 0.000</td> <td>-6.36e+16</td> <td>-6.36e+16</td>\n",
       "</tr>\n",
       "<tr>\n",
       "  <th>std_og_t2c_mou_6</th>   <td> 1.534e+07</td> <td>    0.085</td> <td>  1.8e+08</td> <td> 0.000</td> <td> 1.53e+07</td> <td> 1.53e+07</td>\n",
       "</tr>\n",
       "<tr>\n",
       "  <th>std_og_t2c_mou_7</th>   <td> 2.829e+07</td> <td>    0.112</td> <td> 2.52e+08</td> <td> 0.000</td> <td> 2.83e+07</td> <td> 2.83e+07</td>\n",
       "</tr>\n",
       "<tr>\n",
       "  <th>std_og_t2c_mou_8</th>   <td>-8.003e+05</td> <td>    0.069</td> <td>-1.16e+07</td> <td> 0.000</td> <td>   -8e+05</td> <td>   -8e+05</td>\n",
       "</tr>\n",
       "<tr>\n",
       "  <th>isd_og_mou_8</th>       <td>-2.442e+17</td> <td> 9.77e+08</td> <td> -2.5e+08</td> <td> 0.000</td> <td>-2.44e+17</td> <td>-2.44e+17</td>\n",
       "</tr>\n",
       "<tr>\n",
       "  <th>spl_og_mou_6</th>       <td> 3.322e+12</td> <td> 3.64e+05</td> <td> 9.12e+06</td> <td> 0.000</td> <td> 3.32e+12</td> <td> 3.32e+12</td>\n",
       "</tr>\n",
       "<tr>\n",
       "  <th>spl_og_mou_7</th>       <td> 6.843e+12</td> <td> 3.87e+05</td> <td> 1.77e+07</td> <td> 0.000</td> <td> 6.84e+12</td> <td> 6.84e+12</td>\n",
       "</tr>\n",
       "<tr>\n",
       "  <th>spl_og_mou_8</th>       <td>-1.466e+17</td> <td> 5.86e+08</td> <td> -2.5e+08</td> <td> 0.000</td> <td>-1.47e+17</td> <td>-1.47e+17</td>\n",
       "</tr>\n",
       "<tr>\n",
       "  <th>og_others_6</th>        <td>-5.529e+12</td> <td> 3.16e+05</td> <td>-1.75e+07</td> <td> 0.000</td> <td>-5.53e+12</td> <td>-5.53e+12</td>\n",
       "</tr>\n",
       "<tr>\n",
       "  <th>og_others_7</th>        <td>-9.666e+09</td> <td> 3.13e+05</td> <td>-3.09e+04</td> <td> 0.000</td> <td>-9.67e+09</td> <td>-9.67e+09</td>\n",
       "</tr>\n",
       "<tr>\n",
       "  <th>og_others_8</th>        <td> -1.85e+16</td> <td> 7.38e+07</td> <td>-2.51e+08</td> <td> 0.000</td> <td>-1.85e+16</td> <td>-1.85e+16</td>\n",
       "</tr>\n",
       "<tr>\n",
       "  <th>total_og_mou_6</th>     <td>-9.571e+13</td> <td> 1.36e+06</td> <td>-7.06e+07</td> <td> 0.000</td> <td>-9.57e+13</td> <td>-9.57e+13</td>\n",
       "</tr>\n",
       "<tr>\n",
       "  <th>total_og_mou_7</th>     <td> 6.309e+13</td> <td>  1.2e+06</td> <td> 5.25e+07</td> <td> 0.000</td> <td> 6.31e+13</td> <td> 6.31e+13</td>\n",
       "</tr>\n",
       "<tr>\n",
       "  <th>total_og_mou_8</th>     <td> 4.055e+18</td> <td> 1.62e+10</td> <td>  2.5e+08</td> <td> 0.000</td> <td> 4.05e+18</td> <td> 4.05e+18</td>\n",
       "</tr>\n",
       "<tr>\n",
       "  <th>loc_ic_t2t_mou_6</th>   <td>-8.832e+12</td> <td>  4.9e+05</td> <td> -1.8e+07</td> <td> 0.000</td> <td>-8.83e+12</td> <td>-8.83e+12</td>\n",
       "</tr>\n",
       "<tr>\n",
       "  <th>loc_ic_t2t_mou_8</th>   <td> 2.095e+14</td> <td> 4.88e+05</td> <td>  4.3e+08</td> <td> 0.000</td> <td>  2.1e+14</td> <td>  2.1e+14</td>\n",
       "</tr>\n",
       "<tr>\n",
       "  <th>loc_ic_t2f_mou_6</th>   <td> 3.754e+12</td> <td> 4.42e+05</td> <td> 8.49e+06</td> <td> 0.000</td> <td> 3.75e+12</td> <td> 3.75e+12</td>\n",
       "</tr>\n",
       "<tr>\n",
       "  <th>loc_ic_t2f_mou_7</th>   <td> 3.094e+13</td> <td> 5.04e+05</td> <td> 6.15e+07</td> <td> 0.000</td> <td> 3.09e+13</td> <td> 3.09e+13</td>\n",
       "</tr>\n",
       "<tr>\n",
       "  <th>loc_ic_t2f_mou_8</th>   <td>-6.929e+13</td> <td>  4.5e+05</td> <td>-1.54e+08</td> <td> 0.000</td> <td>-6.93e+13</td> <td>-6.93e+13</td>\n",
       "</tr>\n",
       "<tr>\n",
       "  <th>std_ic_t2t_mou_6</th>   <td>-1.345e+13</td> <td> 4.43e+05</td> <td>-3.04e+07</td> <td> 0.000</td> <td>-1.35e+13</td> <td>-1.35e+13</td>\n",
       "</tr>\n",
       "<tr>\n",
       "  <th>std_ic_t2t_mou_7</th>   <td> 4.268e+13</td> <td> 5.07e+05</td> <td> 8.42e+07</td> <td> 0.000</td> <td> 4.27e+13</td> <td> 4.27e+13</td>\n",
       "</tr>\n",
       "<tr>\n",
       "  <th>std_ic_t2t_mou_8</th>   <td>-3.065e+13</td> <td> 4.43e+05</td> <td>-6.92e+07</td> <td> 0.000</td> <td>-3.07e+13</td> <td>-3.07e+13</td>\n",
       "</tr>\n",
       "<tr>\n",
       "  <th>std_ic_t2f_mou_6</th>   <td> 1.383e+13</td> <td> 3.97e+05</td> <td> 3.48e+07</td> <td> 0.000</td> <td> 1.38e+13</td> <td> 1.38e+13</td>\n",
       "</tr>\n",
       "<tr>\n",
       "  <th>std_ic_t2f_mou_7</th>   <td> 1.393e+13</td> <td> 4.31e+05</td> <td> 3.23e+07</td> <td> 0.000</td> <td> 1.39e+13</td> <td> 1.39e+13</td>\n",
       "</tr>\n",
       "<tr>\n",
       "  <th>std_ic_t2f_mou_8</th>   <td>-1.061e+14</td> <td> 4.01e+05</td> <td>-2.65e+08</td> <td> 0.000</td> <td>-1.06e+14</td> <td>-1.06e+14</td>\n",
       "</tr>\n",
       "<tr>\n",
       "  <th>std_ic_t2o_mou_6</th>   <td> 5.492e+07</td> <td>    0.247</td> <td> 2.22e+08</td> <td> 0.000</td> <td> 5.49e+07</td> <td> 5.49e+07</td>\n",
       "</tr>\n",
       "<tr>\n",
       "  <th>std_ic_t2o_mou_7</th>   <td>-1.041e+07</td> <td>    0.090</td> <td>-1.16e+08</td> <td> 0.000</td> <td>-1.04e+07</td> <td>-1.04e+07</td>\n",
       "</tr>\n",
       "<tr>\n",
       "  <th>std_ic_t2o_mou_8</th>   <td> 1.858e+07</td> <td>    0.055</td> <td> 3.38e+08</td> <td> 0.000</td> <td> 1.86e+07</td> <td> 1.86e+07</td>\n",
       "</tr>\n",
       "<tr>\n",
       "  <th>std_ic_mou_6</th>       <td> 5.212e+12</td> <td> 5.32e+05</td> <td>  9.8e+06</td> <td> 0.000</td> <td> 5.21e+12</td> <td> 5.21e+12</td>\n",
       "</tr>\n",
       "<tr>\n",
       "  <th>std_ic_mou_7</th>       <td>-3.397e+13</td> <td> 5.88e+05</td> <td>-5.78e+07</td> <td> 0.000</td> <td> -3.4e+13</td> <td> -3.4e+13</td>\n",
       "</tr>\n",
       "<tr>\n",
       "  <th>std_ic_mou_8</th>       <td> 2.268e+14</td> <td>  5.9e+05</td> <td> 3.84e+08</td> <td> 0.000</td> <td> 2.27e+14</td> <td> 2.27e+14</td>\n",
       "</tr>\n",
       "<tr>\n",
       "  <th>total_ic_mou_6</th>     <td> 6.428e+13</td> <td> 6.71e+05</td> <td> 9.58e+07</td> <td> 0.000</td> <td> 6.43e+13</td> <td> 6.43e+13</td>\n",
       "</tr>\n",
       "<tr>\n",
       "  <th>total_ic_mou_8</th>     <td>-7.975e+14</td> <td> 6.76e+05</td> <td>-1.18e+09</td> <td> 0.000</td> <td>-7.97e+14</td> <td>-7.97e+14</td>\n",
       "</tr>\n",
       "<tr>\n",
       "  <th>spl_ic_mou_6</th>       <td>-8.885e+12</td> <td> 2.82e+05</td> <td>-3.15e+07</td> <td> 0.000</td> <td>-8.88e+12</td> <td>-8.88e+12</td>\n",
       "</tr>\n",
       "<tr>\n",
       "  <th>spl_ic_mou_7</th>       <td>-1.497e+12</td> <td> 2.81e+05</td> <td>-5.32e+06</td> <td> 0.000</td> <td> -1.5e+12</td> <td> -1.5e+12</td>\n",
       "</tr>\n",
       "<tr>\n",
       "  <th>spl_ic_mou_8</th>       <td>-2.779e+14</td> <td> 2.62e+05</td> <td>-1.06e+09</td> <td> 0.000</td> <td>-2.78e+14</td> <td>-2.78e+14</td>\n",
       "</tr>\n",
       "<tr>\n",
       "  <th>isd_ic_mou_6</th>       <td>-1.838e+13</td> <td> 4.39e+05</td> <td>-4.19e+07</td> <td> 0.000</td> <td>-1.84e+13</td> <td>-1.84e+13</td>\n",
       "</tr>\n",
       "<tr>\n",
       "  <th>isd_ic_mou_7</th>       <td>-7.943e+12</td> <td> 4.96e+05</td> <td> -1.6e+07</td> <td> 0.000</td> <td>-7.94e+12</td> <td>-7.94e+12</td>\n",
       "</tr>\n",
       "<tr>\n",
       "  <th>isd_ic_mou_8</th>       <td> 1.814e+14</td> <td> 4.01e+05</td> <td> 4.52e+08</td> <td> 0.000</td> <td> 1.81e+14</td> <td> 1.81e+14</td>\n",
       "</tr>\n",
       "<tr>\n",
       "  <th>ic_others_6</th>        <td>-8.971e+12</td> <td> 3.51e+05</td> <td>-2.55e+07</td> <td> 0.000</td> <td>-8.97e+12</td> <td>-8.97e+12</td>\n",
       "</tr>\n",
       "<tr>\n",
       "  <th>ic_others_7</th>        <td> 7.365e+12</td> <td> 3.61e+05</td> <td> 2.04e+07</td> <td> 0.000</td> <td> 7.36e+12</td> <td> 7.36e+12</td>\n",
       "</tr>\n",
       "<tr>\n",
       "  <th>ic_others_8</th>        <td> 1.006e+13</td> <td> 3.23e+05</td> <td> 3.11e+07</td> <td> 0.000</td> <td> 1.01e+13</td> <td> 1.01e+13</td>\n",
       "</tr>\n",
       "<tr>\n",
       "  <th>total_rech_num_6</th>   <td>-8.715e+12</td> <td> 6.97e+04</td> <td>-1.25e+08</td> <td> 0.000</td> <td>-8.72e+12</td> <td>-8.72e+12</td>\n",
       "</tr>\n",
       "<tr>\n",
       "  <th>total_rech_num_7</th>   <td> 1.679e+12</td> <td> 8.23e+04</td> <td> 2.04e+07</td> <td> 0.000</td> <td> 1.68e+12</td> <td> 1.68e+12</td>\n",
       "</tr>\n",
       "<tr>\n",
       "  <th>total_rech_num_8</th>   <td> -9.07e+11</td> <td> 7.22e+04</td> <td>-1.26e+07</td> <td> 0.000</td> <td>-9.07e+11</td> <td>-9.07e+11</td>\n",
       "</tr>\n",
       "<tr>\n",
       "  <th>total_rech_amt_6</th>   <td> 2.429e+11</td> <td> 1906.241</td> <td> 1.27e+08</td> <td> 0.000</td> <td> 2.43e+11</td> <td> 2.43e+11</td>\n",
       "</tr>\n",
       "<tr>\n",
       "  <th>total_rech_amt_7</th>   <td> 1.568e+09</td> <td> 2017.240</td> <td> 7.77e+05</td> <td> 0.000</td> <td> 1.57e+09</td> <td> 1.57e+09</td>\n",
       "</tr>\n",
       "<tr>\n",
       "  <th>total_rech_amt_8</th>   <td>-1.061e+11</td> <td> 1791.168</td> <td>-5.93e+07</td> <td> 0.000</td> <td>-1.06e+11</td> <td>-1.06e+11</td>\n",
       "</tr>\n",
       "<tr>\n",
       "  <th>max_rech_amt_6</th>     <td>-9.403e+11</td> <td> 3863.025</td> <td>-2.43e+08</td> <td> 0.000</td> <td> -9.4e+11</td> <td> -9.4e+11</td>\n",
       "</tr>\n",
       "<tr>\n",
       "  <th>max_rech_amt_7</th>     <td>-2.898e+10</td> <td> 3892.492</td> <td>-7.45e+06</td> <td> 0.000</td> <td> -2.9e+10</td> <td> -2.9e+10</td>\n",
       "</tr>\n",
       "<tr>\n",
       "  <th>max_rech_amt_8</th>     <td> 1.199e+12</td> <td> 3818.398</td> <td> 3.14e+08</td> <td> 0.000</td> <td>  1.2e+12</td> <td>  1.2e+12</td>\n",
       "</tr>\n",
       "<tr>\n",
       "  <th>last_day_rch_amt_6</th> <td> 1.088e+11</td> <td> 3701.611</td> <td> 2.94e+07</td> <td> 0.000</td> <td> 1.09e+11</td> <td> 1.09e+11</td>\n",
       "</tr>\n",
       "<tr>\n",
       "  <th>last_day_rch_amt_7</th> <td> 2.484e+11</td> <td> 3733.957</td> <td> 6.65e+07</td> <td> 0.000</td> <td> 2.48e+11</td> <td> 2.48e+11</td>\n",
       "</tr>\n",
       "<tr>\n",
       "  <th>last_day_rch_amt_8</th> <td> -1.14e+12</td> <td> 3575.788</td> <td>-3.19e+08</td> <td> 0.000</td> <td>-1.14e+12</td> <td>-1.14e+12</td>\n",
       "</tr>\n",
       "<tr>\n",
       "  <th>vol_2g_mb_6</th>        <td>-9.774e+12</td> <td> 3.69e+05</td> <td>-2.65e+07</td> <td> 0.000</td> <td>-9.77e+12</td> <td>-9.77e+12</td>\n",
       "</tr>\n",
       "<tr>\n",
       "  <th>vol_2g_mb_7</th>        <td> 1.041e+13</td> <td> 4.12e+05</td> <td> 2.53e+07</td> <td> 0.000</td> <td> 1.04e+13</td> <td> 1.04e+13</td>\n",
       "</tr>\n",
       "<tr>\n",
       "  <th>vol_2g_mb_8</th>        <td> -3.68e+13</td> <td> 3.65e+05</td> <td>-1.01e+08</td> <td> 0.000</td> <td>-3.68e+13</td> <td>-3.68e+13</td>\n",
       "</tr>\n",
       "<tr>\n",
       "  <th>vol_3g_mb_6</th>        <td>-1.734e+12</td> <td> 4.99e+05</td> <td>-3.48e+06</td> <td> 0.000</td> <td>-1.73e+12</td> <td>-1.73e+12</td>\n",
       "</tr>\n",
       "<tr>\n",
       "  <th>vol_3g_mb_7</th>        <td>-4.115e+12</td> <td> 6.01e+05</td> <td>-6.84e+06</td> <td> 0.000</td> <td>-4.12e+12</td> <td>-4.12e+12</td>\n",
       "</tr>\n",
       "<tr>\n",
       "  <th>vol_3g_mb_8</th>        <td>-1.102e+13</td> <td> 5.64e+05</td> <td>-1.95e+07</td> <td> 0.000</td> <td> -1.1e+13</td> <td> -1.1e+13</td>\n",
       "</tr>\n",
       "<tr>\n",
       "  <th>monthly_2g_6</th>       <td>-3.313e+13</td> <td> 1.19e+06</td> <td>-2.79e+07</td> <td> 0.000</td> <td>-3.31e+13</td> <td>-3.31e+13</td>\n",
       "</tr>\n",
       "<tr>\n",
       "  <th>monthly_2g_7</th>       <td>-2.914e+13</td> <td> 1.19e+06</td> <td>-2.45e+07</td> <td> 0.000</td> <td>-2.91e+13</td> <td>-2.91e+13</td>\n",
       "</tr>\n",
       "<tr>\n",
       "  <th>monthly_2g_8</th>       <td>-1.529e+14</td> <td> 1.17e+06</td> <td> -1.3e+08</td> <td> 0.000</td> <td>-1.53e+14</td> <td>-1.53e+14</td>\n",
       "</tr>\n",
       "<tr>\n",
       "  <th>sachet_2g_6</th>        <td> 6.814e+12</td> <td> 2.68e+05</td> <td> 2.54e+07</td> <td> 0.000</td> <td> 6.81e+12</td> <td> 6.81e+12</td>\n",
       "</tr>\n",
       "<tr>\n",
       "  <th>sachet_2g_7</th>        <td> 6.841e+12</td> <td> 2.74e+05</td> <td>  2.5e+07</td> <td> 0.000</td> <td> 6.84e+12</td> <td> 6.84e+12</td>\n",
       "</tr>\n",
       "<tr>\n",
       "  <th>sachet_2g_8</th>        <td>-5.516e+13</td> <td> 2.45e+05</td> <td>-2.25e+08</td> <td> 0.000</td> <td>-5.52e+13</td> <td>-5.52e+13</td>\n",
       "</tr>\n",
       "<tr>\n",
       "  <th>monthly_3g_6</th>       <td>-5.632e+12</td> <td> 1.14e+06</td> <td>-4.96e+06</td> <td> 0.000</td> <td>-5.63e+12</td> <td>-5.63e+12</td>\n",
       "</tr>\n",
       "<tr>\n",
       "  <th>monthly_3g_7</th>       <td> -1.08e+12</td> <td> 1.17e+06</td> <td>-9.19e+05</td> <td> 0.000</td> <td>-1.08e+12</td> <td>-1.08e+12</td>\n",
       "</tr>\n",
       "<tr>\n",
       "  <th>monthly_3g_8</th>       <td> -6.96e+13</td> <td> 1.12e+06</td> <td> -6.2e+07</td> <td> 0.000</td> <td>-6.96e+13</td> <td>-6.96e+13</td>\n",
       "</tr>\n",
       "<tr>\n",
       "  <th>sachet_3g_6</th>        <td> 1.985e+13</td> <td> 6.13e+05</td> <td> 3.24e+07</td> <td> 0.000</td> <td> 1.99e+13</td> <td> 1.99e+13</td>\n",
       "</tr>\n",
       "<tr>\n",
       "  <th>sachet_3g_7</th>        <td> 1.874e+13</td> <td> 6.45e+05</td> <td>  2.9e+07</td> <td> 0.000</td> <td> 1.87e+13</td> <td> 1.87e+13</td>\n",
       "</tr>\n",
       "<tr>\n",
       "  <th>sachet_3g_8</th>        <td>-9.853e+13</td> <td> 5.35e+05</td> <td>-1.84e+08</td> <td> 0.000</td> <td>-9.85e+13</td> <td>-9.85e+13</td>\n",
       "</tr>\n",
       "<tr>\n",
       "  <th>aon</th>                <td> 4.253e+09</td> <td>  287.222</td> <td> 1.48e+07</td> <td> 0.000</td> <td> 4.25e+09</td> <td> 4.25e+09</td>\n",
       "</tr>\n",
       "<tr>\n",
       "  <th>aug_vbc_3g</th>         <td>-4.308e+13</td> <td> 4.35e+05</td> <td> -9.9e+07</td> <td> 0.000</td> <td>-4.31e+13</td> <td>-4.31e+13</td>\n",
       "</tr>\n",
       "<tr>\n",
       "  <th>jul_vbc_3g</th>         <td> 1.442e+13</td> <td> 4.79e+05</td> <td> 3.01e+07</td> <td> 0.000</td> <td> 1.44e+13</td> <td> 1.44e+13</td>\n",
       "</tr>\n",
       "<tr>\n",
       "  <th>jun_vbc_3g</th>         <td> 6.032e+11</td> <td> 4.22e+05</td> <td> 1.43e+06</td> <td> 0.000</td> <td> 6.03e+11</td> <td> 6.03e+11</td>\n",
       "</tr>\n",
       "</table>"
      ],
      "text/plain": [
       "<class 'statsmodels.iolib.summary.Summary'>\n",
       "\"\"\"\n",
       "                 Generalized Linear Model Regression Results                  \n",
       "==============================================================================\n",
       "Dep. Variable:      churn_probability   No. Observations:                69999\n",
       "Model:                            GLM   Df Residuals:                    69904\n",
       "Model Family:                Binomial   Df Model:                           94\n",
       "Link Function:                  Logit   Scale:                          1.0000\n",
       "Method:                          IRLS   Log-Likelihood:                    nan\n",
       "Date:                Thu, 08 Feb 2024   Deviance:                   6.5992e+05\n",
       "Time:                        00:38:46   Pearson chi2:                 3.23e+19\n",
       "No. Iterations:                   100   Pseudo R-squ. (CS):                nan\n",
       "Covariance Type:            nonrobust                                         \n",
       "======================================================================================\n",
       "                         coef    std err          z      P>|z|      [0.025      0.975]\n",
       "--------------------------------------------------------------------------------------\n",
       "const              -8.671e+14   7.76e+05  -1.12e+09      0.000   -8.67e+14   -8.67e+14\n",
       "loc_og_t2o_mou      2.879e+09      9.002    3.2e+08      0.000    2.88e+09    2.88e+09\n",
       "std_og_t2o_mou     -2.802e+09     17.016  -1.65e+08      0.000    -2.8e+09    -2.8e+09\n",
       "loc_ic_t2o_mou      2.927e+08      0.883   3.32e+08      0.000    2.93e+08    2.93e+08\n",
       "roam_ic_mou_6       1.523e+13   3.43e+05   4.44e+07      0.000    1.52e+13    1.52e+13\n",
       "roam_ic_mou_7      -2.561e+12   4.01e+05  -6.39e+06      0.000   -2.56e+12   -2.56e+12\n",
       "roam_ic_mou_8      -1.982e+13   3.75e+05  -5.29e+07      0.000   -1.98e+13   -1.98e+13\n",
       "roam_og_mou_6      -3.274e+13   3.77e+05  -8.69e+07      0.000   -3.27e+13   -3.27e+13\n",
       "roam_og_mou_7      -3.727e+13   4.09e+05  -9.12e+07      0.000   -3.73e+13   -3.73e+13\n",
       "roam_og_mou_8        3.11e+13   3.73e+05   8.33e+07      0.000    3.11e+13    3.11e+13\n",
       "loc_og_t2t_mou_6    2.951e+13   5.56e+05    5.3e+07      0.000    2.95e+13    2.95e+13\n",
       "loc_og_t2t_mou_8   -1.563e+18   6.52e+09   -2.4e+08      0.000   -1.56e+18   -1.56e+18\n",
       "loc_og_t2m_mou_8   -1.567e+18   6.53e+09   -2.4e+08      0.000   -1.57e+18   -1.57e+18\n",
       "loc_og_t2f_mou_6   -1.382e+13    4.3e+05  -3.21e+07      0.000   -1.38e+13   -1.38e+13\n",
       "loc_og_t2f_mou_7    2.734e+12   4.81e+05   5.68e+06      0.000    2.73e+12    2.73e+12\n",
       "loc_og_t2f_mou_8   -1.323e+17   5.51e+08   -2.4e+08      0.000   -1.32e+17   -1.32e+17\n",
       "loc_og_t2c_mou_6   -1.453e+13   3.21e+05  -4.52e+07      0.000   -1.45e+13   -1.45e+13\n",
       "loc_og_t2c_mou_7    1.056e+13   3.41e+05    3.1e+07      0.000    1.06e+13    1.06e+13\n",
       "loc_og_t2c_mou_8    1.118e+13   3.38e+05   3.31e+07      0.000    1.12e+13    1.12e+13\n",
       "loc_og_mou_8        4.676e+17   1.34e+10    3.5e+07      0.000    4.68e+17    4.68e+17\n",
       "std_og_t2t_mou_6   -2.334e+12   7.82e+05  -2.99e+06      0.000   -2.33e+12   -2.33e+12\n",
       "std_og_t2t_mou_7   -3.205e+13      8e+05     -4e+07      0.000    -3.2e+13    -3.2e+13\n",
       "std_og_t2t_mou_8    -2.21e+18   8.85e+09   -2.5e+08      0.000   -2.21e+18   -2.21e+18\n",
       "std_og_t2m_mou_6   -2.465e+12   7.91e+05  -3.12e+06      0.000   -2.46e+12   -2.46e+12\n",
       "std_og_t2m_mou_7   -8.961e+12   8.02e+05  -1.12e+07      0.000   -8.96e+12   -8.96e+12\n",
       "std_og_t2m_mou_8   -2.236e+18   8.95e+09   -2.5e+08      0.000   -2.24e+18   -2.24e+18\n",
       "std_og_t2f_mou_6   -4.122e+12   3.49e+05  -1.18e+07      0.000   -4.12e+12   -4.12e+12\n",
       "std_og_t2f_mou_7    8.929e+12   3.98e+05   2.24e+07      0.000    8.93e+12    8.93e+12\n",
       "std_og_t2f_mou_8    -6.36e+16   2.55e+08   -2.5e+08      0.000   -6.36e+16   -6.36e+16\n",
       "std_og_t2c_mou_6    1.534e+07      0.085    1.8e+08      0.000    1.53e+07    1.53e+07\n",
       "std_og_t2c_mou_7    2.829e+07      0.112   2.52e+08      0.000    2.83e+07    2.83e+07\n",
       "std_og_t2c_mou_8   -8.003e+05      0.069  -1.16e+07      0.000      -8e+05      -8e+05\n",
       "isd_og_mou_8       -2.442e+17   9.77e+08   -2.5e+08      0.000   -2.44e+17   -2.44e+17\n",
       "spl_og_mou_6        3.322e+12   3.64e+05   9.12e+06      0.000    3.32e+12    3.32e+12\n",
       "spl_og_mou_7        6.843e+12   3.87e+05   1.77e+07      0.000    6.84e+12    6.84e+12\n",
       "spl_og_mou_8       -1.466e+17   5.86e+08   -2.5e+08      0.000   -1.47e+17   -1.47e+17\n",
       "og_others_6        -5.529e+12   3.16e+05  -1.75e+07      0.000   -5.53e+12   -5.53e+12\n",
       "og_others_7        -9.666e+09   3.13e+05  -3.09e+04      0.000   -9.67e+09   -9.67e+09\n",
       "og_others_8         -1.85e+16   7.38e+07  -2.51e+08      0.000   -1.85e+16   -1.85e+16\n",
       "total_og_mou_6     -9.571e+13   1.36e+06  -7.06e+07      0.000   -9.57e+13   -9.57e+13\n",
       "total_og_mou_7      6.309e+13    1.2e+06   5.25e+07      0.000    6.31e+13    6.31e+13\n",
       "total_og_mou_8      4.055e+18   1.62e+10    2.5e+08      0.000    4.05e+18    4.05e+18\n",
       "loc_ic_t2t_mou_6   -8.832e+12    4.9e+05   -1.8e+07      0.000   -8.83e+12   -8.83e+12\n",
       "loc_ic_t2t_mou_8    2.095e+14   4.88e+05    4.3e+08      0.000     2.1e+14     2.1e+14\n",
       "loc_ic_t2f_mou_6    3.754e+12   4.42e+05   8.49e+06      0.000    3.75e+12    3.75e+12\n",
       "loc_ic_t2f_mou_7    3.094e+13   5.04e+05   6.15e+07      0.000    3.09e+13    3.09e+13\n",
       "loc_ic_t2f_mou_8   -6.929e+13    4.5e+05  -1.54e+08      0.000   -6.93e+13   -6.93e+13\n",
       "std_ic_t2t_mou_6   -1.345e+13   4.43e+05  -3.04e+07      0.000   -1.35e+13   -1.35e+13\n",
       "std_ic_t2t_mou_7    4.268e+13   5.07e+05   8.42e+07      0.000    4.27e+13    4.27e+13\n",
       "std_ic_t2t_mou_8   -3.065e+13   4.43e+05  -6.92e+07      0.000   -3.07e+13   -3.07e+13\n",
       "std_ic_t2f_mou_6    1.383e+13   3.97e+05   3.48e+07      0.000    1.38e+13    1.38e+13\n",
       "std_ic_t2f_mou_7    1.393e+13   4.31e+05   3.23e+07      0.000    1.39e+13    1.39e+13\n",
       "std_ic_t2f_mou_8   -1.061e+14   4.01e+05  -2.65e+08      0.000   -1.06e+14   -1.06e+14\n",
       "std_ic_t2o_mou_6    5.492e+07      0.247   2.22e+08      0.000    5.49e+07    5.49e+07\n",
       "std_ic_t2o_mou_7   -1.041e+07      0.090  -1.16e+08      0.000   -1.04e+07   -1.04e+07\n",
       "std_ic_t2o_mou_8    1.858e+07      0.055   3.38e+08      0.000    1.86e+07    1.86e+07\n",
       "std_ic_mou_6        5.212e+12   5.32e+05    9.8e+06      0.000    5.21e+12    5.21e+12\n",
       "std_ic_mou_7       -3.397e+13   5.88e+05  -5.78e+07      0.000    -3.4e+13    -3.4e+13\n",
       "std_ic_mou_8        2.268e+14    5.9e+05   3.84e+08      0.000    2.27e+14    2.27e+14\n",
       "total_ic_mou_6      6.428e+13   6.71e+05   9.58e+07      0.000    6.43e+13    6.43e+13\n",
       "total_ic_mou_8     -7.975e+14   6.76e+05  -1.18e+09      0.000   -7.97e+14   -7.97e+14\n",
       "spl_ic_mou_6       -8.885e+12   2.82e+05  -3.15e+07      0.000   -8.88e+12   -8.88e+12\n",
       "spl_ic_mou_7       -1.497e+12   2.81e+05  -5.32e+06      0.000    -1.5e+12    -1.5e+12\n",
       "spl_ic_mou_8       -2.779e+14   2.62e+05  -1.06e+09      0.000   -2.78e+14   -2.78e+14\n",
       "isd_ic_mou_6       -1.838e+13   4.39e+05  -4.19e+07      0.000   -1.84e+13   -1.84e+13\n",
       "isd_ic_mou_7       -7.943e+12   4.96e+05   -1.6e+07      0.000   -7.94e+12   -7.94e+12\n",
       "isd_ic_mou_8        1.814e+14   4.01e+05   4.52e+08      0.000    1.81e+14    1.81e+14\n",
       "ic_others_6        -8.971e+12   3.51e+05  -2.55e+07      0.000   -8.97e+12   -8.97e+12\n",
       "ic_others_7         7.365e+12   3.61e+05   2.04e+07      0.000    7.36e+12    7.36e+12\n",
       "ic_others_8         1.006e+13   3.23e+05   3.11e+07      0.000    1.01e+13    1.01e+13\n",
       "total_rech_num_6   -8.715e+12   6.97e+04  -1.25e+08      0.000   -8.72e+12   -8.72e+12\n",
       "total_rech_num_7    1.679e+12   8.23e+04   2.04e+07      0.000    1.68e+12    1.68e+12\n",
       "total_rech_num_8    -9.07e+11   7.22e+04  -1.26e+07      0.000   -9.07e+11   -9.07e+11\n",
       "total_rech_amt_6    2.429e+11   1906.241   1.27e+08      0.000    2.43e+11    2.43e+11\n",
       "total_rech_amt_7    1.568e+09   2017.240   7.77e+05      0.000    1.57e+09    1.57e+09\n",
       "total_rech_amt_8   -1.061e+11   1791.168  -5.93e+07      0.000   -1.06e+11   -1.06e+11\n",
       "max_rech_amt_6     -9.403e+11   3863.025  -2.43e+08      0.000    -9.4e+11    -9.4e+11\n",
       "max_rech_amt_7     -2.898e+10   3892.492  -7.45e+06      0.000    -2.9e+10    -2.9e+10\n",
       "max_rech_amt_8      1.199e+12   3818.398   3.14e+08      0.000     1.2e+12     1.2e+12\n",
       "last_day_rch_amt_6  1.088e+11   3701.611   2.94e+07      0.000    1.09e+11    1.09e+11\n",
       "last_day_rch_amt_7  2.484e+11   3733.957   6.65e+07      0.000    2.48e+11    2.48e+11\n",
       "last_day_rch_amt_8  -1.14e+12   3575.788  -3.19e+08      0.000   -1.14e+12   -1.14e+12\n",
       "vol_2g_mb_6        -9.774e+12   3.69e+05  -2.65e+07      0.000   -9.77e+12   -9.77e+12\n",
       "vol_2g_mb_7         1.041e+13   4.12e+05   2.53e+07      0.000    1.04e+13    1.04e+13\n",
       "vol_2g_mb_8         -3.68e+13   3.65e+05  -1.01e+08      0.000   -3.68e+13   -3.68e+13\n",
       "vol_3g_mb_6        -1.734e+12   4.99e+05  -3.48e+06      0.000   -1.73e+12   -1.73e+12\n",
       "vol_3g_mb_7        -4.115e+12   6.01e+05  -6.84e+06      0.000   -4.12e+12   -4.12e+12\n",
       "vol_3g_mb_8        -1.102e+13   5.64e+05  -1.95e+07      0.000    -1.1e+13    -1.1e+13\n",
       "monthly_2g_6       -3.313e+13   1.19e+06  -2.79e+07      0.000   -3.31e+13   -3.31e+13\n",
       "monthly_2g_7       -2.914e+13   1.19e+06  -2.45e+07      0.000   -2.91e+13   -2.91e+13\n",
       "monthly_2g_8       -1.529e+14   1.17e+06   -1.3e+08      0.000   -1.53e+14   -1.53e+14\n",
       "sachet_2g_6         6.814e+12   2.68e+05   2.54e+07      0.000    6.81e+12    6.81e+12\n",
       "sachet_2g_7         6.841e+12   2.74e+05    2.5e+07      0.000    6.84e+12    6.84e+12\n",
       "sachet_2g_8        -5.516e+13   2.45e+05  -2.25e+08      0.000   -5.52e+13   -5.52e+13\n",
       "monthly_3g_6       -5.632e+12   1.14e+06  -4.96e+06      0.000   -5.63e+12   -5.63e+12\n",
       "monthly_3g_7        -1.08e+12   1.17e+06  -9.19e+05      0.000   -1.08e+12   -1.08e+12\n",
       "monthly_3g_8        -6.96e+13   1.12e+06   -6.2e+07      0.000   -6.96e+13   -6.96e+13\n",
       "sachet_3g_6         1.985e+13   6.13e+05   3.24e+07      0.000    1.99e+13    1.99e+13\n",
       "sachet_3g_7         1.874e+13   6.45e+05    2.9e+07      0.000    1.87e+13    1.87e+13\n",
       "sachet_3g_8        -9.853e+13   5.35e+05  -1.84e+08      0.000   -9.85e+13   -9.85e+13\n",
       "aon                 4.253e+09    287.222   1.48e+07      0.000    4.25e+09    4.25e+09\n",
       "aug_vbc_3g         -4.308e+13   4.35e+05   -9.9e+07      0.000   -4.31e+13   -4.31e+13\n",
       "jul_vbc_3g          1.442e+13   4.79e+05   3.01e+07      0.000    1.44e+13    1.44e+13\n",
       "jun_vbc_3g          6.032e+11   4.22e+05   1.43e+06      0.000    6.03e+11    6.03e+11\n",
       "======================================================================================\n",
       "\"\"\""
      ]
     },
     "execution_count": 54,
     "metadata": {},
     "output_type": "execute_result"
    }
   ],
   "source": [
    "# Logistic regression model\n",
    "logm1 = sm.GLM(y_train,(sm.add_constant(X_train)), family = sm.families.Binomial())\n",
    "logm1.fit().summary()"
   ]
  },
  {
   "cell_type": "markdown",
   "id": "3d9464ed",
   "metadata": {},
   "source": [
    "Just a random model just to check the different values. All the values like Log-Likelihood, Coef, etc are not up to the mark. We will use RFE to select only the significance vars"
   ]
  },
  {
   "cell_type": "markdown",
   "id": "30011dfa",
   "metadata": {},
   "source": [
    "# Feature Selection RFE"
   ]
  },
  {
   "cell_type": "code",
   "execution_count": 55,
   "id": "39ca57aa",
   "metadata": {},
   "outputs": [],
   "source": [
    "from sklearn.linear_model import LogisticRegression\n",
    "logreg = LogisticRegression()"
   ]
  },
  {
   "cell_type": "code",
   "execution_count": 56,
   "id": "6af6ff5f",
   "metadata": {},
   "outputs": [],
   "source": [
    "from sklearn.feature_selection import RFE\n",
    "rfe = RFE(logreg, n_features_to_select=25)             # running RFE with 25 variables as output\n",
    "rfe = rfe.fit(X_train, y_train)"
   ]
  },
  {
   "cell_type": "code",
   "execution_count": 57,
   "id": "1f53258e",
   "metadata": {},
   "outputs": [
    {
     "data": {
      "text/plain": [
       "array([False, False, False, False, False, False, False, False, False,\n",
       "       False, False,  True, False, False, False, False, False, False,\n",
       "        True, False,  True, False, False,  True, False, False, False,\n",
       "        True, False, False, False, False, False, False,  True, False,\n",
       "       False,  True,  True,  True,  True, False,  True, False, False,\n",
       "        True, False, False, False, False, False,  True, False, False,\n",
       "       False, False, False,  True,  True,  True, False, False,  True,\n",
       "       False, False,  True, False, False, False, False, False, False,\n",
       "       False, False, False, False, False, False, False, False, False,\n",
       "       False, False,  True, False, False,  True, False,  True,  True,\n",
       "       False, False,  True, False, False, False,  True, False,  True,\n",
       "       False, False, False, False])"
      ]
     },
     "execution_count": 57,
     "metadata": {},
     "output_type": "execute_result"
    }
   ],
   "source": [
    "rfe.support_"
   ]
  },
  {
   "cell_type": "code",
   "execution_count": 58,
   "id": "ac343fe4",
   "metadata": {},
   "outputs": [
    {
     "data": {
      "text/plain": [
       "[('loc_og_t2o_mou', False, 79),\n",
       " ('std_og_t2o_mou', False, 78),\n",
       " ('loc_ic_t2o_mou', False, 77),\n",
       " ('roam_ic_mou_6', False, 2),\n",
       " ('roam_ic_mou_7', False, 41),\n",
       " ('roam_ic_mou_8', False, 53),\n",
       " ('roam_og_mou_6', False, 50),\n",
       " ('roam_og_mou_7', False, 11),\n",
       " ('roam_og_mou_8', False, 21),\n",
       " ('loc_og_t2t_mou_6', False, 34),\n",
       " ('loc_og_t2t_mou_8', False, 10),\n",
       " ('loc_og_t2m_mou_8', True, 1),\n",
       " ('loc_og_t2f_mou_6', False, 46),\n",
       " ('loc_og_t2f_mou_7', False, 17),\n",
       " ('loc_og_t2f_mou_8', False, 7),\n",
       " ('loc_og_t2c_mou_6', False, 22),\n",
       " ('loc_og_t2c_mou_7', False, 20),\n",
       " ('loc_og_t2c_mou_8', False, 55),\n",
       " ('loc_og_mou_8', True, 1),\n",
       " ('std_og_t2t_mou_6', False, 28),\n",
       " ('std_og_t2t_mou_7', True, 1),\n",
       " ('std_og_t2t_mou_8', False, 43),\n",
       " ('std_og_t2m_mou_6', False, 54),\n",
       " ('std_og_t2m_mou_7', True, 1),\n",
       " ('std_og_t2m_mou_8', False, 40),\n",
       " ('std_og_t2f_mou_6', False, 67),\n",
       " ('std_og_t2f_mou_7', False, 27),\n",
       " ('std_og_t2f_mou_8', True, 1),\n",
       " ('std_og_t2c_mou_6', False, 71),\n",
       " ('std_og_t2c_mou_7', False, 72),\n",
       " ('std_og_t2c_mou_8', False, 73),\n",
       " ('isd_og_mou_8', False, 33),\n",
       " ('spl_og_mou_6', False, 42),\n",
       " ('spl_og_mou_7', False, 70),\n",
       " ('spl_og_mou_8', True, 1),\n",
       " ('og_others_6', False, 61),\n",
       " ('og_others_7', False, 57),\n",
       " ('og_others_8', True, 1),\n",
       " ('total_og_mou_6', True, 1),\n",
       " ('total_og_mou_7', True, 1),\n",
       " ('total_og_mou_8', True, 1),\n",
       " ('loc_ic_t2t_mou_6', False, 31),\n",
       " ('loc_ic_t2t_mou_8', True, 1),\n",
       " ('loc_ic_t2f_mou_6', False, 32),\n",
       " ('loc_ic_t2f_mou_7', False, 3),\n",
       " ('loc_ic_t2f_mou_8', True, 1),\n",
       " ('std_ic_t2t_mou_6', False, 36),\n",
       " ('std_ic_t2t_mou_7', False, 5),\n",
       " ('std_ic_t2t_mou_8', False, 9),\n",
       " ('std_ic_t2f_mou_6', False, 47),\n",
       " ('std_ic_t2f_mou_7', False, 45),\n",
       " ('std_ic_t2f_mou_8', True, 1),\n",
       " ('std_ic_t2o_mou_6', False, 76),\n",
       " ('std_ic_t2o_mou_7', False, 75),\n",
       " ('std_ic_t2o_mou_8', False, 74),\n",
       " ('std_ic_mou_6', False, 29),\n",
       " ('std_ic_mou_7', False, 25),\n",
       " ('std_ic_mou_8', True, 1),\n",
       " ('total_ic_mou_6', True, 1),\n",
       " ('total_ic_mou_8', True, 1),\n",
       " ('spl_ic_mou_6', False, 24),\n",
       " ('spl_ic_mou_7', False, 6),\n",
       " ('spl_ic_mou_8', True, 1),\n",
       " ('isd_ic_mou_6', False, 38),\n",
       " ('isd_ic_mou_7', False, 35),\n",
       " ('isd_ic_mou_8', True, 1),\n",
       " ('ic_others_6', False, 51),\n",
       " ('ic_others_7', False, 23),\n",
       " ('ic_others_8', False, 15),\n",
       " ('total_rech_num_6', False, 52),\n",
       " ('total_rech_num_7', False, 26),\n",
       " ('total_rech_num_8', False, 13),\n",
       " ('total_rech_amt_6', False, 68),\n",
       " ('total_rech_amt_7', False, 60),\n",
       " ('total_rech_amt_8', False, 66),\n",
       " ('max_rech_amt_6', False, 69),\n",
       " ('max_rech_amt_7', False, 56),\n",
       " ('max_rech_amt_8', False, 48),\n",
       " ('last_day_rch_amt_6', False, 63),\n",
       " ('last_day_rch_amt_7', False, 49),\n",
       " ('last_day_rch_amt_8', False, 39),\n",
       " ('vol_2g_mb_6', False, 58),\n",
       " ('vol_2g_mb_7', False, 16),\n",
       " ('vol_2g_mb_8', True, 1),\n",
       " ('vol_3g_mb_6', False, 19),\n",
       " ('vol_3g_mb_7', False, 64),\n",
       " ('vol_3g_mb_8', True, 1),\n",
       " ('monthly_2g_6', False, 18),\n",
       " ('monthly_2g_7', True, 1),\n",
       " ('monthly_2g_8', True, 1),\n",
       " ('sachet_2g_6', False, 14),\n",
       " ('sachet_2g_7', False, 44),\n",
       " ('sachet_2g_8', True, 1),\n",
       " ('monthly_3g_6', False, 37),\n",
       " ('monthly_3g_7', False, 12),\n",
       " ('monthly_3g_8', False, 62),\n",
       " ('sachet_3g_6', True, 1),\n",
       " ('sachet_3g_7', False, 65),\n",
       " ('sachet_3g_8', True, 1),\n",
       " ('aon', False, 59),\n",
       " ('aug_vbc_3g', False, 4),\n",
       " ('jul_vbc_3g', False, 8),\n",
       " ('jun_vbc_3g', False, 30)]"
      ]
     },
     "execution_count": 58,
     "metadata": {},
     "output_type": "execute_result"
    }
   ],
   "source": [
    "list(zip(X_train.columns, rfe.support_, rfe.ranking_))"
   ]
  },
  {
   "cell_type": "code",
   "execution_count": 59,
   "id": "48ad785f",
   "metadata": {},
   "outputs": [],
   "source": [
    "col = X_train.columns[rfe.support_]"
   ]
  },
  {
   "cell_type": "code",
   "execution_count": 60,
   "id": "6262cd90",
   "metadata": {
    "scrolled": true
   },
   "outputs": [
    {
     "data": {
      "text/plain": [
       "Index(['loc_og_t2o_mou', 'std_og_t2o_mou', 'loc_ic_t2o_mou', 'roam_ic_mou_6',\n",
       "       'roam_ic_mou_7', 'roam_ic_mou_8', 'roam_og_mou_6', 'roam_og_mou_7',\n",
       "       'roam_og_mou_8', 'loc_og_t2t_mou_6', 'loc_og_t2t_mou_8',\n",
       "       'loc_og_t2f_mou_6', 'loc_og_t2f_mou_7', 'loc_og_t2f_mou_8',\n",
       "       'loc_og_t2c_mou_6', 'loc_og_t2c_mou_7', 'loc_og_t2c_mou_8',\n",
       "       'std_og_t2t_mou_6', 'std_og_t2t_mou_8', 'std_og_t2m_mou_6',\n",
       "       'std_og_t2m_mou_8', 'std_og_t2f_mou_6', 'std_og_t2f_mou_7',\n",
       "       'std_og_t2c_mou_6', 'std_og_t2c_mou_7', 'std_og_t2c_mou_8',\n",
       "       'isd_og_mou_8', 'spl_og_mou_6', 'spl_og_mou_7', 'og_others_6',\n",
       "       'og_others_7', 'loc_ic_t2t_mou_6', 'loc_ic_t2f_mou_6',\n",
       "       'loc_ic_t2f_mou_7', 'std_ic_t2t_mou_6', 'std_ic_t2t_mou_7',\n",
       "       'std_ic_t2t_mou_8', 'std_ic_t2f_mou_6', 'std_ic_t2f_mou_7',\n",
       "       'std_ic_t2o_mou_6', 'std_ic_t2o_mou_7', 'std_ic_t2o_mou_8',\n",
       "       'std_ic_mou_6', 'std_ic_mou_7', 'spl_ic_mou_6', 'spl_ic_mou_7',\n",
       "       'isd_ic_mou_6', 'isd_ic_mou_7', 'ic_others_6', 'ic_others_7',\n",
       "       'ic_others_8', 'total_rech_num_6', 'total_rech_num_7',\n",
       "       'total_rech_num_8', 'total_rech_amt_6', 'total_rech_amt_7',\n",
       "       'total_rech_amt_8', 'max_rech_amt_6', 'max_rech_amt_7',\n",
       "       'max_rech_amt_8', 'last_day_rch_amt_6', 'last_day_rch_amt_7',\n",
       "       'last_day_rch_amt_8', 'vol_2g_mb_6', 'vol_2g_mb_7', 'vol_3g_mb_6',\n",
       "       'vol_3g_mb_7', 'monthly_2g_6', 'sachet_2g_6', 'sachet_2g_7',\n",
       "       'monthly_3g_6', 'monthly_3g_7', 'monthly_3g_8', 'sachet_3g_7', 'aon',\n",
       "       'aug_vbc_3g', 'jul_vbc_3g', 'jun_vbc_3g'],\n",
       "      dtype='object')"
      ]
     },
     "execution_count": 60,
     "metadata": {},
     "output_type": "execute_result"
    }
   ],
   "source": [
    "X_train.columns[~rfe.support_]"
   ]
  },
  {
   "cell_type": "code",
   "execution_count": 61,
   "id": "e0562913",
   "metadata": {},
   "outputs": [
    {
     "data": {
      "text/html": [
       "<table class=\"simpletable\">\n",
       "<caption>Generalized Linear Model Regression Results</caption>\n",
       "<tr>\n",
       "  <th>Dep. Variable:</th>   <td>churn_probability</td> <th>  No. Observations:  </th>  <td> 69999</td> \n",
       "</tr>\n",
       "<tr>\n",
       "  <th>Model:</th>                  <td>GLM</td>        <th>  Df Residuals:      </th>  <td> 69973</td> \n",
       "</tr>\n",
       "<tr>\n",
       "  <th>Model Family:</th>        <td>Binomial</td>      <th>  Df Model:          </th>  <td>    25</td> \n",
       "</tr>\n",
       "<tr>\n",
       "  <th>Link Function:</th>         <td>Logit</td>       <th>  Scale:             </th> <td>  1.0000</td>\n",
       "</tr>\n",
       "<tr>\n",
       "  <th>Method:</th>                <td>IRLS</td>        <th>  Log-Likelihood:    </th> <td> -16103.</td>\n",
       "</tr>\n",
       "<tr>\n",
       "  <th>Date:</th>            <td>Thu, 08 Feb 2024</td>  <th>  Deviance:          </th> <td>  32207.</td>\n",
       "</tr>\n",
       "<tr>\n",
       "  <th>Time:</th>                <td>00:39:52</td>      <th>  Pearson chi2:      </th> <td>8.35e+12</td>\n",
       "</tr>\n",
       "<tr>\n",
       "  <th>No. Iterations:</th>         <td>12</td>         <th>  Pseudo R-squ. (CS):</th>  <td>0.1799</td> \n",
       "</tr>\n",
       "<tr>\n",
       "  <th>Covariance Type:</th>     <td>nonrobust</td>     <th>                     </th>     <td> </td>   \n",
       "</tr>\n",
       "</table>\n",
       "<table class=\"simpletable\">\n",
       "<tr>\n",
       "          <td></td>            <th>coef</th>     <th>std err</th>      <th>z</th>      <th>P>|z|</th>  <th>[0.025</th>    <th>0.975]</th>  \n",
       "</tr>\n",
       "<tr>\n",
       "  <th>const</th>            <td>   -4.3682</td> <td>    0.051</td> <td>  -84.836</td> <td> 0.000</td> <td>   -4.469</td> <td>   -4.267</td>\n",
       "</tr>\n",
       "<tr>\n",
       "  <th>loc_og_t2m_mou_8</th> <td>   -0.5759</td> <td>    0.141</td> <td>   -4.087</td> <td> 0.000</td> <td>   -0.852</td> <td>   -0.300</td>\n",
       "</tr>\n",
       "<tr>\n",
       "  <th>loc_og_mou_8</th>     <td>   -0.7086</td> <td>    0.157</td> <td>   -4.505</td> <td> 0.000</td> <td>   -1.017</td> <td>   -0.400</td>\n",
       "</tr>\n",
       "<tr>\n",
       "  <th>std_og_t2t_mou_7</th> <td>   -0.1688</td> <td>    0.047</td> <td>   -3.625</td> <td> 0.000</td> <td>   -0.260</td> <td>   -0.078</td>\n",
       "</tr>\n",
       "<tr>\n",
       "  <th>std_og_t2m_mou_7</th> <td>   -0.1365</td> <td>    0.047</td> <td>   -2.910</td> <td> 0.004</td> <td>   -0.228</td> <td>   -0.045</td>\n",
       "</tr>\n",
       "<tr>\n",
       "  <th>std_og_t2f_mou_8</th> <td>   -0.1853</td> <td>    0.053</td> <td>   -3.523</td> <td> 0.000</td> <td>   -0.288</td> <td>   -0.082</td>\n",
       "</tr>\n",
       "<tr>\n",
       "  <th>spl_og_mou_8</th>     <td>   -0.2855</td> <td>    0.042</td> <td>   -6.781</td> <td> 0.000</td> <td>   -0.368</td> <td>   -0.203</td>\n",
       "</tr>\n",
       "<tr>\n",
       "  <th>og_others_8</th>      <td>   -1.7161</td> <td>    1.003</td> <td>   -1.711</td> <td> 0.087</td> <td>   -3.682</td> <td>    0.250</td>\n",
       "</tr>\n",
       "<tr>\n",
       "  <th>total_og_mou_6</th>   <td>    0.2059</td> <td>    0.020</td> <td>   10.441</td> <td> 0.000</td> <td>    0.167</td> <td>    0.245</td>\n",
       "</tr>\n",
       "<tr>\n",
       "  <th>total_og_mou_7</th>   <td>    0.4948</td> <td>    0.075</td> <td>    6.573</td> <td> 0.000</td> <td>    0.347</td> <td>    0.642</td>\n",
       "</tr>\n",
       "<tr>\n",
       "  <th>total_og_mou_8</th>   <td>   -0.8046</td> <td>    0.042</td> <td>  -18.958</td> <td> 0.000</td> <td>   -0.888</td> <td>   -0.721</td>\n",
       "</tr>\n",
       "<tr>\n",
       "  <th>loc_ic_t2t_mou_8</th> <td>    0.8738</td> <td>    0.149</td> <td>    5.857</td> <td> 0.000</td> <td>    0.581</td> <td>    1.166</td>\n",
       "</tr>\n",
       "<tr>\n",
       "  <th>loc_ic_t2f_mou_8</th> <td>   -0.3839</td> <td>    0.103</td> <td>   -3.714</td> <td> 0.000</td> <td>   -0.586</td> <td>   -0.181</td>\n",
       "</tr>\n",
       "<tr>\n",
       "  <th>std_ic_t2f_mou_8</th> <td>   -0.4392</td> <td>    0.110</td> <td>   -3.991</td> <td> 0.000</td> <td>   -0.655</td> <td>   -0.223</td>\n",
       "</tr>\n",
       "<tr>\n",
       "  <th>std_ic_mou_8</th>     <td>    1.1272</td> <td>    0.084</td> <td>   13.374</td> <td> 0.000</td> <td>    0.962</td> <td>    1.292</td>\n",
       "</tr>\n",
       "<tr>\n",
       "  <th>total_ic_mou_6</th>   <td>    0.3221</td> <td>    0.024</td> <td>   13.512</td> <td> 0.000</td> <td>    0.275</td> <td>    0.369</td>\n",
       "</tr>\n",
       "<tr>\n",
       "  <th>total_ic_mou_8</th>   <td>   -4.4630</td> <td>    0.171</td> <td>  -26.067</td> <td> 0.000</td> <td>   -4.799</td> <td>   -4.127</td>\n",
       "</tr>\n",
       "<tr>\n",
       "  <th>spl_ic_mou_8</th>     <td>   -1.1181</td> <td>    0.063</td> <td>  -17.617</td> <td> 0.000</td> <td>   -1.242</td> <td>   -0.994</td>\n",
       "</tr>\n",
       "<tr>\n",
       "  <th>isd_ic_mou_8</th>     <td>    0.9442</td> <td>    0.042</td> <td>   22.224</td> <td> 0.000</td> <td>    0.861</td> <td>    1.027</td>\n",
       "</tr>\n",
       "<tr>\n",
       "  <th>vol_2g_mb_8</th>      <td>   -0.2256</td> <td>    0.041</td> <td>   -5.451</td> <td> 0.000</td> <td>   -0.307</td> <td>   -0.144</td>\n",
       "</tr>\n",
       "<tr>\n",
       "  <th>vol_3g_mb_8</th>      <td>   -0.3205</td> <td>    0.037</td> <td>   -8.716</td> <td> 0.000</td> <td>   -0.393</td> <td>   -0.248</td>\n",
       "</tr>\n",
       "<tr>\n",
       "  <th>monthly_2g_7</th>     <td>   -0.3015</td> <td>    0.078</td> <td>   -3.862</td> <td> 0.000</td> <td>   -0.454</td> <td>   -0.148</td>\n",
       "</tr>\n",
       "<tr>\n",
       "  <th>monthly_2g_8</th>     <td>   -1.0226</td> <td>    0.120</td> <td>   -8.550</td> <td> 0.000</td> <td>   -1.257</td> <td>   -0.788</td>\n",
       "</tr>\n",
       "<tr>\n",
       "  <th>sachet_2g_8</th>      <td>   -0.2526</td> <td>    0.024</td> <td>  -10.559</td> <td> 0.000</td> <td>   -0.300</td> <td>   -0.206</td>\n",
       "</tr>\n",
       "<tr>\n",
       "  <th>sachet_3g_6</th>      <td>    0.1821</td> <td>    0.035</td> <td>    5.160</td> <td> 0.000</td> <td>    0.113</td> <td>    0.251</td>\n",
       "</tr>\n",
       "<tr>\n",
       "  <th>sachet_3g_8</th>      <td>   -0.2850</td> <td>    0.065</td> <td>   -4.365</td> <td> 0.000</td> <td>   -0.413</td> <td>   -0.157</td>\n",
       "</tr>\n",
       "</table>"
      ],
      "text/plain": [
       "<class 'statsmodels.iolib.summary.Summary'>\n",
       "\"\"\"\n",
       "                 Generalized Linear Model Regression Results                  \n",
       "==============================================================================\n",
       "Dep. Variable:      churn_probability   No. Observations:                69999\n",
       "Model:                            GLM   Df Residuals:                    69973\n",
       "Model Family:                Binomial   Df Model:                           25\n",
       "Link Function:                  Logit   Scale:                          1.0000\n",
       "Method:                          IRLS   Log-Likelihood:                -16103.\n",
       "Date:                Thu, 08 Feb 2024   Deviance:                       32207.\n",
       "Time:                        00:39:52   Pearson chi2:                 8.35e+12\n",
       "No. Iterations:                    12   Pseudo R-squ. (CS):             0.1799\n",
       "Covariance Type:            nonrobust                                         \n",
       "====================================================================================\n",
       "                       coef    std err          z      P>|z|      [0.025      0.975]\n",
       "------------------------------------------------------------------------------------\n",
       "const               -4.3682      0.051    -84.836      0.000      -4.469      -4.267\n",
       "loc_og_t2m_mou_8    -0.5759      0.141     -4.087      0.000      -0.852      -0.300\n",
       "loc_og_mou_8        -0.7086      0.157     -4.505      0.000      -1.017      -0.400\n",
       "std_og_t2t_mou_7    -0.1688      0.047     -3.625      0.000      -0.260      -0.078\n",
       "std_og_t2m_mou_7    -0.1365      0.047     -2.910      0.004      -0.228      -0.045\n",
       "std_og_t2f_mou_8    -0.1853      0.053     -3.523      0.000      -0.288      -0.082\n",
       "spl_og_mou_8        -0.2855      0.042     -6.781      0.000      -0.368      -0.203\n",
       "og_others_8         -1.7161      1.003     -1.711      0.087      -3.682       0.250\n",
       "total_og_mou_6       0.2059      0.020     10.441      0.000       0.167       0.245\n",
       "total_og_mou_7       0.4948      0.075      6.573      0.000       0.347       0.642\n",
       "total_og_mou_8      -0.8046      0.042    -18.958      0.000      -0.888      -0.721\n",
       "loc_ic_t2t_mou_8     0.8738      0.149      5.857      0.000       0.581       1.166\n",
       "loc_ic_t2f_mou_8    -0.3839      0.103     -3.714      0.000      -0.586      -0.181\n",
       "std_ic_t2f_mou_8    -0.4392      0.110     -3.991      0.000      -0.655      -0.223\n",
       "std_ic_mou_8         1.1272      0.084     13.374      0.000       0.962       1.292\n",
       "total_ic_mou_6       0.3221      0.024     13.512      0.000       0.275       0.369\n",
       "total_ic_mou_8      -4.4630      0.171    -26.067      0.000      -4.799      -4.127\n",
       "spl_ic_mou_8        -1.1181      0.063    -17.617      0.000      -1.242      -0.994\n",
       "isd_ic_mou_8         0.9442      0.042     22.224      0.000       0.861       1.027\n",
       "vol_2g_mb_8         -0.2256      0.041     -5.451      0.000      -0.307      -0.144\n",
       "vol_3g_mb_8         -0.3205      0.037     -8.716      0.000      -0.393      -0.248\n",
       "monthly_2g_7        -0.3015      0.078     -3.862      0.000      -0.454      -0.148\n",
       "monthly_2g_8        -1.0226      0.120     -8.550      0.000      -1.257      -0.788\n",
       "sachet_2g_8         -0.2526      0.024    -10.559      0.000      -0.300      -0.206\n",
       "sachet_3g_6          0.1821      0.035      5.160      0.000       0.113       0.251\n",
       "sachet_3g_8         -0.2850      0.065     -4.365      0.000      -0.413      -0.157\n",
       "====================================================================================\n",
       "\"\"\""
      ]
     },
     "execution_count": 61,
     "metadata": {},
     "output_type": "execute_result"
    }
   ],
   "source": [
    "X_train_sm = sm.add_constant(X_train[col])\n",
    "logm2 = sm.GLM(y_train,X_train_sm, family = sm.families.Binomial())\n",
    "res = logm2.fit()\n",
    "res.summary()"
   ]
  },
  {
   "cell_type": "markdown",
   "id": "8615eda5",
   "metadata": {},
   "source": [
    "### Lets now check the predition on train set using this model"
   ]
  },
  {
   "cell_type": "code",
   "execution_count": 62,
   "id": "3ceba014",
   "metadata": {},
   "outputs": [
    {
     "data": {
      "text/plain": [
       "0    0.002375\n",
       "1    0.163582\n",
       "2    0.290092\n",
       "3    0.096970\n",
       "4    0.053254\n",
       "5    0.008367\n",
       "6    0.120074\n",
       "7    0.063115\n",
       "8    0.341189\n",
       "9    0.007286\n",
       "dtype: float64"
      ]
     },
     "execution_count": 62,
     "metadata": {},
     "output_type": "execute_result"
    }
   ],
   "source": [
    "# Getting the predicted values on the train set\n",
    "y_train_pred = res.predict(X_train_sm)\n",
    "y_train_pred[:10]"
   ]
  },
  {
   "cell_type": "code",
   "execution_count": 63,
   "id": "4b19b67b",
   "metadata": {},
   "outputs": [
    {
     "data": {
      "text/plain": [
       "array([0.00237496, 0.16358158, 0.29009221, 0.09696976, 0.05325384,\n",
       "       0.00836661, 0.12007425, 0.06311503, 0.34118873, 0.00728624])"
      ]
     },
     "execution_count": 63,
     "metadata": {},
     "output_type": "execute_result"
    }
   ],
   "source": [
    "y_train_pred = y_train_pred.values.reshape(-1)\n",
    "y_train_pred[:10]"
   ]
  },
  {
   "cell_type": "code",
   "execution_count": 64,
   "id": "72b27d16",
   "metadata": {},
   "outputs": [
    {
     "data": {
      "text/html": [
       "<div>\n",
       "<style scoped>\n",
       "    .dataframe tbody tr th:only-of-type {\n",
       "        vertical-align: middle;\n",
       "    }\n",
       "\n",
       "    .dataframe tbody tr th {\n",
       "        vertical-align: top;\n",
       "    }\n",
       "\n",
       "    .dataframe thead th {\n",
       "        text-align: right;\n",
       "    }\n",
       "</style>\n",
       "<table border=\"1\" class=\"dataframe\">\n",
       "  <thead>\n",
       "    <tr style=\"text-align: right;\">\n",
       "      <th></th>\n",
       "      <th>Actual_Churn</th>\n",
       "      <th>Predicted_Churn_float</th>\n",
       "      <th>id</th>\n",
       "    </tr>\n",
       "  </thead>\n",
       "  <tbody>\n",
       "    <tr>\n",
       "      <th>0</th>\n",
       "      <td>0</td>\n",
       "      <td>0.002375</td>\n",
       "      <td>0</td>\n",
       "    </tr>\n",
       "    <tr>\n",
       "      <th>1</th>\n",
       "      <td>0</td>\n",
       "      <td>0.163582</td>\n",
       "      <td>1</td>\n",
       "    </tr>\n",
       "    <tr>\n",
       "      <th>2</th>\n",
       "      <td>0</td>\n",
       "      <td>0.290092</td>\n",
       "      <td>2</td>\n",
       "    </tr>\n",
       "    <tr>\n",
       "      <th>3</th>\n",
       "      <td>0</td>\n",
       "      <td>0.096970</td>\n",
       "      <td>3</td>\n",
       "    </tr>\n",
       "    <tr>\n",
       "      <th>4</th>\n",
       "      <td>0</td>\n",
       "      <td>0.053254</td>\n",
       "      <td>4</td>\n",
       "    </tr>\n",
       "  </tbody>\n",
       "</table>\n",
       "</div>"
      ],
      "text/plain": [
       "   Actual_Churn  Predicted_Churn_float  id\n",
       "0             0               0.002375   0\n",
       "1             0               0.163582   1\n",
       "2             0               0.290092   2\n",
       "3             0               0.096970   3\n",
       "4             0               0.053254   4"
      ]
     },
     "execution_count": 64,
     "metadata": {},
     "output_type": "execute_result"
    }
   ],
   "source": [
    "y_train_pred_final = pd.DataFrame({'Actual_Churn':y_train.values, 'Predicted_Churn_float':y_train_pred})\n",
    "y_train_pred_final['id'] = y_train.index\n",
    "y_train_pred_final.head()"
   ]
  },
  {
   "cell_type": "code",
   "execution_count": 66,
   "id": "4f2ce567",
   "metadata": {},
   "outputs": [
    {
     "data": {
      "text/html": [
       "<div>\n",
       "<style scoped>\n",
       "    .dataframe tbody tr th:only-of-type {\n",
       "        vertical-align: middle;\n",
       "    }\n",
       "\n",
       "    .dataframe tbody tr th {\n",
       "        vertical-align: top;\n",
       "    }\n",
       "\n",
       "    .dataframe thead th {\n",
       "        text-align: right;\n",
       "    }\n",
       "</style>\n",
       "<table border=\"1\" class=\"dataframe\">\n",
       "  <thead>\n",
       "    <tr style=\"text-align: right;\">\n",
       "      <th></th>\n",
       "      <th>Actual_Churn</th>\n",
       "      <th>Predicted_Churn_float</th>\n",
       "      <th>id</th>\n",
       "      <th>Predicted_Churn</th>\n",
       "    </tr>\n",
       "  </thead>\n",
       "  <tbody>\n",
       "    <tr>\n",
       "      <th>0</th>\n",
       "      <td>0</td>\n",
       "      <td>0.002375</td>\n",
       "      <td>0</td>\n",
       "      <td>0</td>\n",
       "    </tr>\n",
       "    <tr>\n",
       "      <th>1</th>\n",
       "      <td>0</td>\n",
       "      <td>0.163582</td>\n",
       "      <td>1</td>\n",
       "      <td>0</td>\n",
       "    </tr>\n",
       "    <tr>\n",
       "      <th>2</th>\n",
       "      <td>0</td>\n",
       "      <td>0.290092</td>\n",
       "      <td>2</td>\n",
       "      <td>0</td>\n",
       "    </tr>\n",
       "    <tr>\n",
       "      <th>3</th>\n",
       "      <td>0</td>\n",
       "      <td>0.096970</td>\n",
       "      <td>3</td>\n",
       "      <td>0</td>\n",
       "    </tr>\n",
       "    <tr>\n",
       "      <th>4</th>\n",
       "      <td>0</td>\n",
       "      <td>0.053254</td>\n",
       "      <td>4</td>\n",
       "      <td>0</td>\n",
       "    </tr>\n",
       "  </tbody>\n",
       "</table>\n",
       "</div>"
      ],
      "text/plain": [
       "   Actual_Churn  Predicted_Churn_float  id  Predicted_Churn\n",
       "0             0               0.002375   0                0\n",
       "1             0               0.163582   1                0\n",
       "2             0               0.290092   2                0\n",
       "3             0               0.096970   3                0\n",
       "4             0               0.053254   4                0"
      ]
     },
     "execution_count": 66,
     "metadata": {},
     "output_type": "execute_result"
    }
   ],
   "source": [
    "y_train_pred_final['Predicted_Churn'] = y_train_pred_final.Predicted_Churn_float.map(lambda x: 1 if x > 0.5 else 0)\n",
    "\n",
    "# Let's see the head\n",
    "y_train_pred_final.head()"
   ]
  },
  {
   "cell_type": "code",
   "execution_count": 67,
   "id": "9e20cbac",
   "metadata": {},
   "outputs": [
    {
     "name": "stdout",
     "output_type": "stream",
     "text": [
      "[[62406   461]\n",
      " [ 6187   945]]\n"
     ]
    }
   ],
   "source": [
    "# Confusion matrix \n",
    "confusion = metrics.confusion_matrix(y_train_pred_final.Actual_Churn, y_train_pred_final.Predicted_Churn )\n",
    "print(confusion)"
   ]
  },
  {
   "cell_type": "code",
   "execution_count": 68,
   "id": "ac521ca1",
   "metadata": {},
   "outputs": [
    {
     "name": "stdout",
     "output_type": "stream",
     "text": [
      "0.9050272146744953\n"
     ]
    }
   ],
   "source": [
    "print(metrics.accuracy_score(y_train_pred_final.Actual_Churn, y_train_pred_final.Predicted_Churn))"
   ]
  },
  {
   "cell_type": "code",
   "execution_count": 69,
   "id": "982eed64",
   "metadata": {},
   "outputs": [],
   "source": [
    "from statsmodels.stats.outliers_influence import variance_inflation_factor"
   ]
  },
  {
   "cell_type": "code",
   "execution_count": 70,
   "id": "bd93c93a",
   "metadata": {},
   "outputs": [
    {
     "data": {
      "text/html": [
       "<div>\n",
       "<style scoped>\n",
       "    .dataframe tbody tr th:only-of-type {\n",
       "        vertical-align: middle;\n",
       "    }\n",
       "\n",
       "    .dataframe tbody tr th {\n",
       "        vertical-align: top;\n",
       "    }\n",
       "\n",
       "    .dataframe thead th {\n",
       "        text-align: right;\n",
       "    }\n",
       "</style>\n",
       "<table border=\"1\" class=\"dataframe\">\n",
       "  <thead>\n",
       "    <tr style=\"text-align: right;\">\n",
       "      <th></th>\n",
       "      <th>Features</th>\n",
       "      <th>VIF</th>\n",
       "    </tr>\n",
       "  </thead>\n",
       "  <tbody>\n",
       "    <tr>\n",
       "      <th>8</th>\n",
       "      <td>total_og_mou_7</td>\n",
       "      <td>13.19</td>\n",
       "    </tr>\n",
       "    <tr>\n",
       "      <th>1</th>\n",
       "      <td>loc_og_mou_8</td>\n",
       "      <td>6.22</td>\n",
       "    </tr>\n",
       "    <tr>\n",
       "      <th>3</th>\n",
       "      <td>std_og_t2m_mou_7</td>\n",
       "      <td>5.77</td>\n",
       "    </tr>\n",
       "    <tr>\n",
       "      <th>2</th>\n",
       "      <td>std_og_t2t_mou_7</td>\n",
       "      <td>5.72</td>\n",
       "    </tr>\n",
       "    <tr>\n",
       "      <th>15</th>\n",
       "      <td>total_ic_mou_8</td>\n",
       "      <td>5.29</td>\n",
       "    </tr>\n",
       "    <tr>\n",
       "      <th>9</th>\n",
       "      <td>total_og_mou_8</td>\n",
       "      <td>3.56</td>\n",
       "    </tr>\n",
       "    <tr>\n",
       "      <th>0</th>\n",
       "      <td>loc_og_t2m_mou_8</td>\n",
       "      <td>3.04</td>\n",
       "    </tr>\n",
       "    <tr>\n",
       "      <th>10</th>\n",
       "      <td>loc_ic_t2t_mou_8</td>\n",
       "      <td>2.37</td>\n",
       "    </tr>\n",
       "    <tr>\n",
       "      <th>7</th>\n",
       "      <td>total_og_mou_6</td>\n",
       "      <td>2.27</td>\n",
       "    </tr>\n",
       "    <tr>\n",
       "      <th>14</th>\n",
       "      <td>total_ic_mou_6</td>\n",
       "      <td>2.08</td>\n",
       "    </tr>\n",
       "    <tr>\n",
       "      <th>13</th>\n",
       "      <td>std_ic_mou_8</td>\n",
       "      <td>1.81</td>\n",
       "    </tr>\n",
       "    <tr>\n",
       "      <th>21</th>\n",
       "      <td>monthly_2g_8</td>\n",
       "      <td>1.61</td>\n",
       "    </tr>\n",
       "    <tr>\n",
       "      <th>20</th>\n",
       "      <td>monthly_2g_7</td>\n",
       "      <td>1.49</td>\n",
       "    </tr>\n",
       "    <tr>\n",
       "      <th>24</th>\n",
       "      <td>sachet_3g_8</td>\n",
       "      <td>1.47</td>\n",
       "    </tr>\n",
       "    <tr>\n",
       "      <th>23</th>\n",
       "      <td>sachet_3g_6</td>\n",
       "      <td>1.34</td>\n",
       "    </tr>\n",
       "    <tr>\n",
       "      <th>18</th>\n",
       "      <td>vol_2g_mb_8</td>\n",
       "      <td>1.25</td>\n",
       "    </tr>\n",
       "    <tr>\n",
       "      <th>11</th>\n",
       "      <td>loc_ic_t2f_mou_8</td>\n",
       "      <td>1.24</td>\n",
       "    </tr>\n",
       "    <tr>\n",
       "      <th>17</th>\n",
       "      <td>isd_ic_mou_8</td>\n",
       "      <td>1.24</td>\n",
       "    </tr>\n",
       "    <tr>\n",
       "      <th>22</th>\n",
       "      <td>sachet_2g_8</td>\n",
       "      <td>1.18</td>\n",
       "    </tr>\n",
       "    <tr>\n",
       "      <th>19</th>\n",
       "      <td>vol_3g_mb_8</td>\n",
       "      <td>1.16</td>\n",
       "    </tr>\n",
       "    <tr>\n",
       "      <th>12</th>\n",
       "      <td>std_ic_t2f_mou_8</td>\n",
       "      <td>1.10</td>\n",
       "    </tr>\n",
       "    <tr>\n",
       "      <th>5</th>\n",
       "      <td>spl_og_mou_8</td>\n",
       "      <td>1.06</td>\n",
       "    </tr>\n",
       "    <tr>\n",
       "      <th>4</th>\n",
       "      <td>std_og_t2f_mou_8</td>\n",
       "      <td>1.05</td>\n",
       "    </tr>\n",
       "    <tr>\n",
       "      <th>16</th>\n",
       "      <td>spl_ic_mou_8</td>\n",
       "      <td>1.02</td>\n",
       "    </tr>\n",
       "    <tr>\n",
       "      <th>6</th>\n",
       "      <td>og_others_8</td>\n",
       "      <td>1.00</td>\n",
       "    </tr>\n",
       "  </tbody>\n",
       "</table>\n",
       "</div>"
      ],
      "text/plain": [
       "            Features    VIF\n",
       "8     total_og_mou_7  13.19\n",
       "1       loc_og_mou_8   6.22\n",
       "3   std_og_t2m_mou_7   5.77\n",
       "2   std_og_t2t_mou_7   5.72\n",
       "15    total_ic_mou_8   5.29\n",
       "9     total_og_mou_8   3.56\n",
       "0   loc_og_t2m_mou_8   3.04\n",
       "10  loc_ic_t2t_mou_8   2.37\n",
       "7     total_og_mou_6   2.27\n",
       "14    total_ic_mou_6   2.08\n",
       "13      std_ic_mou_8   1.81\n",
       "21      monthly_2g_8   1.61\n",
       "20      monthly_2g_7   1.49\n",
       "24       sachet_3g_8   1.47\n",
       "23       sachet_3g_6   1.34\n",
       "18       vol_2g_mb_8   1.25\n",
       "11  loc_ic_t2f_mou_8   1.24\n",
       "17      isd_ic_mou_8   1.24\n",
       "22       sachet_2g_8   1.18\n",
       "19       vol_3g_mb_8   1.16\n",
       "12  std_ic_t2f_mou_8   1.10\n",
       "5       spl_og_mou_8   1.06\n",
       "4   std_og_t2f_mou_8   1.05\n",
       "16      spl_ic_mou_8   1.02\n",
       "6        og_others_8   1.00"
      ]
     },
     "execution_count": 70,
     "metadata": {},
     "output_type": "execute_result"
    }
   ],
   "source": [
    "# Create a dataframe that will contain the names of all the feature variables and their respective VIFs\n",
    "vif = pd.DataFrame()\n",
    "vif['Features'] = X_train[col].columns\n",
    "vif['VIF'] = [variance_inflation_factor(X_train[col].values, i) for i in range(X_train[col].shape[1])]\n",
    "vif['VIF'] = round(vif['VIF'], 2)\n",
    "vif = vif.sort_values(by = \"VIF\", ascending = False)\n",
    "vif"
   ]
  },
  {
   "cell_type": "markdown",
   "id": "7a893acc",
   "metadata": {},
   "source": [
    "Lets drop `total_og_mou_7`"
   ]
  },
  {
   "cell_type": "code",
   "execution_count": 71,
   "id": "8f4ad832",
   "metadata": {},
   "outputs": [
    {
     "data": {
      "text/plain": [
       "Index(['loc_og_t2m_mou_8', 'loc_og_mou_8', 'std_og_t2t_mou_7',\n",
       "       'std_og_t2m_mou_7', 'std_og_t2f_mou_8', 'spl_og_mou_8', 'og_others_8',\n",
       "       'total_og_mou_6', 'total_og_mou_8', 'loc_ic_t2t_mou_8',\n",
       "       'loc_ic_t2f_mou_8', 'std_ic_t2f_mou_8', 'std_ic_mou_8',\n",
       "       'total_ic_mou_6', 'total_ic_mou_8', 'spl_ic_mou_8', 'isd_ic_mou_8',\n",
       "       'vol_2g_mb_8', 'vol_3g_mb_8', 'monthly_2g_7', 'monthly_2g_8',\n",
       "       'sachet_2g_8', 'sachet_3g_6', 'sachet_3g_8'],\n",
       "      dtype='object')"
      ]
     },
     "execution_count": 71,
     "metadata": {},
     "output_type": "execute_result"
    }
   ],
   "source": [
    "col = col.drop('total_og_mou_7', 1)\n",
    "col"
   ]
  },
  {
   "cell_type": "code",
   "execution_count": 72,
   "id": "901691d1",
   "metadata": {},
   "outputs": [
    {
     "data": {
      "text/html": [
       "<table class=\"simpletable\">\n",
       "<caption>Generalized Linear Model Regression Results</caption>\n",
       "<tr>\n",
       "  <th>Dep. Variable:</th>   <td>churn_probability</td> <th>  No. Observations:  </th>  <td> 69999</td> \n",
       "</tr>\n",
       "<tr>\n",
       "  <th>Model:</th>                  <td>GLM</td>        <th>  Df Residuals:      </th>  <td> 69974</td> \n",
       "</tr>\n",
       "<tr>\n",
       "  <th>Model Family:</th>        <td>Binomial</td>      <th>  Df Model:          </th>  <td>    24</td> \n",
       "</tr>\n",
       "<tr>\n",
       "  <th>Link Function:</th>         <td>Logit</td>       <th>  Scale:             </th> <td>  1.0000</td>\n",
       "</tr>\n",
       "<tr>\n",
       "  <th>Method:</th>                <td>IRLS</td>        <th>  Log-Likelihood:    </th> <td> -16124.</td>\n",
       "</tr>\n",
       "<tr>\n",
       "  <th>Date:</th>            <td>Thu, 08 Feb 2024</td>  <th>  Deviance:          </th> <td>  32248.</td>\n",
       "</tr>\n",
       "<tr>\n",
       "  <th>Time:</th>                <td>00:39:59</td>      <th>  Pearson chi2:      </th> <td>6.90e+12</td>\n",
       "</tr>\n",
       "<tr>\n",
       "  <th>No. Iterations:</th>         <td>12</td>         <th>  Pseudo R-squ. (CS):</th>  <td>0.1794</td> \n",
       "</tr>\n",
       "<tr>\n",
       "  <th>Covariance Type:</th>     <td>nonrobust</td>     <th>                     </th>     <td> </td>   \n",
       "</tr>\n",
       "</table>\n",
       "<table class=\"simpletable\">\n",
       "<tr>\n",
       "          <td></td>            <th>coef</th>     <th>std err</th>      <th>z</th>      <th>P>|z|</th>  <th>[0.025</th>    <th>0.975]</th>  \n",
       "</tr>\n",
       "<tr>\n",
       "  <th>const</th>            <td>   -4.3522</td> <td>    0.051</td> <td>  -84.818</td> <td> 0.000</td> <td>   -4.453</td> <td>   -4.252</td>\n",
       "</tr>\n",
       "<tr>\n",
       "  <th>loc_og_t2m_mou_8</th> <td>   -0.6019</td> <td>    0.143</td> <td>   -4.221</td> <td> 0.000</td> <td>   -0.881</td> <td>   -0.322</td>\n",
       "</tr>\n",
       "<tr>\n",
       "  <th>loc_og_mou_8</th>     <td>   -0.4259</td> <td>    0.153</td> <td>   -2.776</td> <td> 0.006</td> <td>   -0.727</td> <td>   -0.125</td>\n",
       "</tr>\n",
       "<tr>\n",
       "  <th>std_og_t2t_mou_7</th> <td>    0.1104</td> <td>    0.020</td> <td>    5.558</td> <td> 0.000</td> <td>    0.071</td> <td>    0.149</td>\n",
       "</tr>\n",
       "<tr>\n",
       "  <th>std_og_t2m_mou_7</th> <td>    0.1451</td> <td>    0.020</td> <td>    7.314</td> <td> 0.000</td> <td>    0.106</td> <td>    0.184</td>\n",
       "</tr>\n",
       "<tr>\n",
       "  <th>std_og_t2f_mou_8</th> <td>   -0.1818</td> <td>    0.053</td> <td>   -3.452</td> <td> 0.001</td> <td>   -0.285</td> <td>   -0.079</td>\n",
       "</tr>\n",
       "<tr>\n",
       "  <th>spl_og_mou_8</th>     <td>   -0.2725</td> <td>    0.042</td> <td>   -6.470</td> <td> 0.000</td> <td>   -0.355</td> <td>   -0.190</td>\n",
       "</tr>\n",
       "<tr>\n",
       "  <th>og_others_8</th>      <td>   -1.7007</td> <td>    1.010</td> <td>   -1.683</td> <td> 0.092</td> <td>   -3.681</td> <td>    0.280</td>\n",
       "</tr>\n",
       "<tr>\n",
       "  <th>total_og_mou_6</th>   <td>    0.2229</td> <td>    0.020</td> <td>   11.347</td> <td> 0.000</td> <td>    0.184</td> <td>    0.261</td>\n",
       "</tr>\n",
       "<tr>\n",
       "  <th>total_og_mou_8</th>   <td>   -0.8400</td> <td>    0.043</td> <td>  -19.582</td> <td> 0.000</td> <td>   -0.924</td> <td>   -0.756</td>\n",
       "</tr>\n",
       "<tr>\n",
       "  <th>loc_ic_t2t_mou_8</th> <td>    0.8619</td> <td>    0.149</td> <td>    5.784</td> <td> 0.000</td> <td>    0.570</td> <td>    1.154</td>\n",
       "</tr>\n",
       "<tr>\n",
       "  <th>loc_ic_t2f_mou_8</th> <td>   -0.3862</td> <td>    0.103</td> <td>   -3.743</td> <td> 0.000</td> <td>   -0.588</td> <td>   -0.184</td>\n",
       "</tr>\n",
       "<tr>\n",
       "  <th>std_ic_t2f_mou_8</th> <td>   -0.4196</td> <td>    0.108</td> <td>   -3.873</td> <td> 0.000</td> <td>   -0.632</td> <td>   -0.207</td>\n",
       "</tr>\n",
       "<tr>\n",
       "  <th>std_ic_mou_8</th>     <td>    1.1084</td> <td>    0.084</td> <td>   13.159</td> <td> 0.000</td> <td>    0.943</td> <td>    1.273</td>\n",
       "</tr>\n",
       "<tr>\n",
       "  <th>total_ic_mou_6</th>   <td>    0.3443</td> <td>    0.024</td> <td>   14.497</td> <td> 0.000</td> <td>    0.298</td> <td>    0.391</td>\n",
       "</tr>\n",
       "<tr>\n",
       "  <th>total_ic_mou_8</th>   <td>   -4.4532</td> <td>    0.171</td> <td>  -26.039</td> <td> 0.000</td> <td>   -4.788</td> <td>   -4.118</td>\n",
       "</tr>\n",
       "<tr>\n",
       "  <th>spl_ic_mou_8</th>     <td>   -1.1235</td> <td>    0.064</td> <td>  -17.665</td> <td> 0.000</td> <td>   -1.248</td> <td>   -0.999</td>\n",
       "</tr>\n",
       "<tr>\n",
       "  <th>isd_ic_mou_8</th>     <td>    0.9392</td> <td>    0.042</td> <td>   22.180</td> <td> 0.000</td> <td>    0.856</td> <td>    1.022</td>\n",
       "</tr>\n",
       "<tr>\n",
       "  <th>vol_2g_mb_8</th>      <td>   -0.2280</td> <td>    0.041</td> <td>   -5.499</td> <td> 0.000</td> <td>   -0.309</td> <td>   -0.147</td>\n",
       "</tr>\n",
       "<tr>\n",
       "  <th>vol_3g_mb_8</th>      <td>   -0.3242</td> <td>    0.037</td> <td>   -8.782</td> <td> 0.000</td> <td>   -0.397</td> <td>   -0.252</td>\n",
       "</tr>\n",
       "<tr>\n",
       "  <th>monthly_2g_7</th>     <td>   -0.2851</td> <td>    0.078</td> <td>   -3.668</td> <td> 0.000</td> <td>   -0.437</td> <td>   -0.133</td>\n",
       "</tr>\n",
       "<tr>\n",
       "  <th>monthly_2g_8</th>     <td>   -1.0354</td> <td>    0.120</td> <td>   -8.650</td> <td> 0.000</td> <td>   -1.270</td> <td>   -0.801</td>\n",
       "</tr>\n",
       "<tr>\n",
       "  <th>sachet_2g_8</th>      <td>   -0.2515</td> <td>    0.024</td> <td>  -10.535</td> <td> 0.000</td> <td>   -0.298</td> <td>   -0.205</td>\n",
       "</tr>\n",
       "<tr>\n",
       "  <th>sachet_3g_6</th>      <td>    0.1845</td> <td>    0.035</td> <td>    5.225</td> <td> 0.000</td> <td>    0.115</td> <td>    0.254</td>\n",
       "</tr>\n",
       "<tr>\n",
       "  <th>sachet_3g_8</th>      <td>   -0.2890</td> <td>    0.065</td> <td>   -4.414</td> <td> 0.000</td> <td>   -0.417</td> <td>   -0.161</td>\n",
       "</tr>\n",
       "</table>"
      ],
      "text/plain": [
       "<class 'statsmodels.iolib.summary.Summary'>\n",
       "\"\"\"\n",
       "                 Generalized Linear Model Regression Results                  \n",
       "==============================================================================\n",
       "Dep. Variable:      churn_probability   No. Observations:                69999\n",
       "Model:                            GLM   Df Residuals:                    69974\n",
       "Model Family:                Binomial   Df Model:                           24\n",
       "Link Function:                  Logit   Scale:                          1.0000\n",
       "Method:                          IRLS   Log-Likelihood:                -16124.\n",
       "Date:                Thu, 08 Feb 2024   Deviance:                       32248.\n",
       "Time:                        00:39:59   Pearson chi2:                 6.90e+12\n",
       "No. Iterations:                    12   Pseudo R-squ. (CS):             0.1794\n",
       "Covariance Type:            nonrobust                                         \n",
       "====================================================================================\n",
       "                       coef    std err          z      P>|z|      [0.025      0.975]\n",
       "------------------------------------------------------------------------------------\n",
       "const               -4.3522      0.051    -84.818      0.000      -4.453      -4.252\n",
       "loc_og_t2m_mou_8    -0.6019      0.143     -4.221      0.000      -0.881      -0.322\n",
       "loc_og_mou_8        -0.4259      0.153     -2.776      0.006      -0.727      -0.125\n",
       "std_og_t2t_mou_7     0.1104      0.020      5.558      0.000       0.071       0.149\n",
       "std_og_t2m_mou_7     0.1451      0.020      7.314      0.000       0.106       0.184\n",
       "std_og_t2f_mou_8    -0.1818      0.053     -3.452      0.001      -0.285      -0.079\n",
       "spl_og_mou_8        -0.2725      0.042     -6.470      0.000      -0.355      -0.190\n",
       "og_others_8         -1.7007      1.010     -1.683      0.092      -3.681       0.280\n",
       "total_og_mou_6       0.2229      0.020     11.347      0.000       0.184       0.261\n",
       "total_og_mou_8      -0.8400      0.043    -19.582      0.000      -0.924      -0.756\n",
       "loc_ic_t2t_mou_8     0.8619      0.149      5.784      0.000       0.570       1.154\n",
       "loc_ic_t2f_mou_8    -0.3862      0.103     -3.743      0.000      -0.588      -0.184\n",
       "std_ic_t2f_mou_8    -0.4196      0.108     -3.873      0.000      -0.632      -0.207\n",
       "std_ic_mou_8         1.1084      0.084     13.159      0.000       0.943       1.273\n",
       "total_ic_mou_6       0.3443      0.024     14.497      0.000       0.298       0.391\n",
       "total_ic_mou_8      -4.4532      0.171    -26.039      0.000      -4.788      -4.118\n",
       "spl_ic_mou_8        -1.1235      0.064    -17.665      0.000      -1.248      -0.999\n",
       "isd_ic_mou_8         0.9392      0.042     22.180      0.000       0.856       1.022\n",
       "vol_2g_mb_8         -0.2280      0.041     -5.499      0.000      -0.309      -0.147\n",
       "vol_3g_mb_8         -0.3242      0.037     -8.782      0.000      -0.397      -0.252\n",
       "monthly_2g_7        -0.2851      0.078     -3.668      0.000      -0.437      -0.133\n",
       "monthly_2g_8        -1.0354      0.120     -8.650      0.000      -1.270      -0.801\n",
       "sachet_2g_8         -0.2515      0.024    -10.535      0.000      -0.298      -0.205\n",
       "sachet_3g_6          0.1845      0.035      5.225      0.000       0.115       0.254\n",
       "sachet_3g_8         -0.2890      0.065     -4.414      0.000      -0.417      -0.161\n",
       "====================================================================================\n",
       "\"\"\""
      ]
     },
     "execution_count": 72,
     "metadata": {},
     "output_type": "execute_result"
    }
   ],
   "source": [
    "# Let's re-run the model using the selected variables\n",
    "X_train_sm = sm.add_constant(X_train[col])\n",
    "logm3 = sm.GLM(y_train,X_train_sm, family = sm.families.Binomial())\n",
    "res = logm3.fit()\n",
    "res.summary()"
   ]
  },
  {
   "cell_type": "code",
   "execution_count": 73,
   "id": "cf283c71",
   "metadata": {},
   "outputs": [
    {
     "data": {
      "text/html": [
       "<table class=\"simpletable\">\n",
       "<caption>Generalized Linear Model Regression Results</caption>\n",
       "<tr>\n",
       "  <th>Dep. Variable:</th>   <td>churn_probability</td> <th>  No. Observations:  </th>  <td> 69999</td> \n",
       "</tr>\n",
       "<tr>\n",
       "  <th>Model:</th>                  <td>GLM</td>        <th>  Df Residuals:      </th>  <td> 69974</td> \n",
       "</tr>\n",
       "<tr>\n",
       "  <th>Model Family:</th>        <td>Binomial</td>      <th>  Df Model:          </th>  <td>    24</td> \n",
       "</tr>\n",
       "<tr>\n",
       "  <th>Link Function:</th>         <td>Logit</td>       <th>  Scale:             </th> <td>  1.0000</td>\n",
       "</tr>\n",
       "<tr>\n",
       "  <th>Method:</th>                <td>IRLS</td>        <th>  Log-Likelihood:    </th> <td> -16124.</td>\n",
       "</tr>\n",
       "<tr>\n",
       "  <th>Date:</th>            <td>Thu, 08 Feb 2024</td>  <th>  Deviance:          </th> <td>  32248.</td>\n",
       "</tr>\n",
       "<tr>\n",
       "  <th>Time:</th>                <td>00:40:00</td>      <th>  Pearson chi2:      </th> <td>6.90e+12</td>\n",
       "</tr>\n",
       "<tr>\n",
       "  <th>No. Iterations:</th>         <td>12</td>         <th>  Pseudo R-squ. (CS):</th>  <td>0.1794</td> \n",
       "</tr>\n",
       "<tr>\n",
       "  <th>Covariance Type:</th>     <td>nonrobust</td>     <th>                     </th>     <td> </td>   \n",
       "</tr>\n",
       "</table>\n",
       "<table class=\"simpletable\">\n",
       "<tr>\n",
       "          <td></td>            <th>coef</th>     <th>std err</th>      <th>z</th>      <th>P>|z|</th>  <th>[0.025</th>    <th>0.975]</th>  \n",
       "</tr>\n",
       "<tr>\n",
       "  <th>const</th>            <td>   -4.3522</td> <td>    0.051</td> <td>  -84.818</td> <td> 0.000</td> <td>   -4.453</td> <td>   -4.252</td>\n",
       "</tr>\n",
       "<tr>\n",
       "  <th>loc_og_t2m_mou_8</th> <td>   -0.6019</td> <td>    0.143</td> <td>   -4.221</td> <td> 0.000</td> <td>   -0.881</td> <td>   -0.322</td>\n",
       "</tr>\n",
       "<tr>\n",
       "  <th>loc_og_mou_8</th>     <td>   -0.4259</td> <td>    0.153</td> <td>   -2.776</td> <td> 0.006</td> <td>   -0.727</td> <td>   -0.125</td>\n",
       "</tr>\n",
       "<tr>\n",
       "  <th>std_og_t2t_mou_7</th> <td>    0.1104</td> <td>    0.020</td> <td>    5.558</td> <td> 0.000</td> <td>    0.071</td> <td>    0.149</td>\n",
       "</tr>\n",
       "<tr>\n",
       "  <th>std_og_t2m_mou_7</th> <td>    0.1451</td> <td>    0.020</td> <td>    7.314</td> <td> 0.000</td> <td>    0.106</td> <td>    0.184</td>\n",
       "</tr>\n",
       "<tr>\n",
       "  <th>std_og_t2f_mou_8</th> <td>   -0.1818</td> <td>    0.053</td> <td>   -3.452</td> <td> 0.001</td> <td>   -0.285</td> <td>   -0.079</td>\n",
       "</tr>\n",
       "<tr>\n",
       "  <th>spl_og_mou_8</th>     <td>   -0.2725</td> <td>    0.042</td> <td>   -6.470</td> <td> 0.000</td> <td>   -0.355</td> <td>   -0.190</td>\n",
       "</tr>\n",
       "<tr>\n",
       "  <th>og_others_8</th>      <td>   -1.7007</td> <td>    1.010</td> <td>   -1.683</td> <td> 0.092</td> <td>   -3.681</td> <td>    0.280</td>\n",
       "</tr>\n",
       "<tr>\n",
       "  <th>total_og_mou_6</th>   <td>    0.2229</td> <td>    0.020</td> <td>   11.347</td> <td> 0.000</td> <td>    0.184</td> <td>    0.261</td>\n",
       "</tr>\n",
       "<tr>\n",
       "  <th>total_og_mou_8</th>   <td>   -0.8400</td> <td>    0.043</td> <td>  -19.582</td> <td> 0.000</td> <td>   -0.924</td> <td>   -0.756</td>\n",
       "</tr>\n",
       "<tr>\n",
       "  <th>loc_ic_t2t_mou_8</th> <td>    0.8619</td> <td>    0.149</td> <td>    5.784</td> <td> 0.000</td> <td>    0.570</td> <td>    1.154</td>\n",
       "</tr>\n",
       "<tr>\n",
       "  <th>loc_ic_t2f_mou_8</th> <td>   -0.3862</td> <td>    0.103</td> <td>   -3.743</td> <td> 0.000</td> <td>   -0.588</td> <td>   -0.184</td>\n",
       "</tr>\n",
       "<tr>\n",
       "  <th>std_ic_t2f_mou_8</th> <td>   -0.4196</td> <td>    0.108</td> <td>   -3.873</td> <td> 0.000</td> <td>   -0.632</td> <td>   -0.207</td>\n",
       "</tr>\n",
       "<tr>\n",
       "  <th>std_ic_mou_8</th>     <td>    1.1084</td> <td>    0.084</td> <td>   13.159</td> <td> 0.000</td> <td>    0.943</td> <td>    1.273</td>\n",
       "</tr>\n",
       "<tr>\n",
       "  <th>total_ic_mou_6</th>   <td>    0.3443</td> <td>    0.024</td> <td>   14.497</td> <td> 0.000</td> <td>    0.298</td> <td>    0.391</td>\n",
       "</tr>\n",
       "<tr>\n",
       "  <th>total_ic_mou_8</th>   <td>   -4.4532</td> <td>    0.171</td> <td>  -26.039</td> <td> 0.000</td> <td>   -4.788</td> <td>   -4.118</td>\n",
       "</tr>\n",
       "<tr>\n",
       "  <th>spl_ic_mou_8</th>     <td>   -1.1235</td> <td>    0.064</td> <td>  -17.665</td> <td> 0.000</td> <td>   -1.248</td> <td>   -0.999</td>\n",
       "</tr>\n",
       "<tr>\n",
       "  <th>isd_ic_mou_8</th>     <td>    0.9392</td> <td>    0.042</td> <td>   22.180</td> <td> 0.000</td> <td>    0.856</td> <td>    1.022</td>\n",
       "</tr>\n",
       "<tr>\n",
       "  <th>vol_2g_mb_8</th>      <td>   -0.2280</td> <td>    0.041</td> <td>   -5.499</td> <td> 0.000</td> <td>   -0.309</td> <td>   -0.147</td>\n",
       "</tr>\n",
       "<tr>\n",
       "  <th>vol_3g_mb_8</th>      <td>   -0.3242</td> <td>    0.037</td> <td>   -8.782</td> <td> 0.000</td> <td>   -0.397</td> <td>   -0.252</td>\n",
       "</tr>\n",
       "<tr>\n",
       "  <th>monthly_2g_7</th>     <td>   -0.2851</td> <td>    0.078</td> <td>   -3.668</td> <td> 0.000</td> <td>   -0.437</td> <td>   -0.133</td>\n",
       "</tr>\n",
       "<tr>\n",
       "  <th>monthly_2g_8</th>     <td>   -1.0354</td> <td>    0.120</td> <td>   -8.650</td> <td> 0.000</td> <td>   -1.270</td> <td>   -0.801</td>\n",
       "</tr>\n",
       "<tr>\n",
       "  <th>sachet_2g_8</th>      <td>   -0.2515</td> <td>    0.024</td> <td>  -10.535</td> <td> 0.000</td> <td>   -0.298</td> <td>   -0.205</td>\n",
       "</tr>\n",
       "<tr>\n",
       "  <th>sachet_3g_6</th>      <td>    0.1845</td> <td>    0.035</td> <td>    5.225</td> <td> 0.000</td> <td>    0.115</td> <td>    0.254</td>\n",
       "</tr>\n",
       "<tr>\n",
       "  <th>sachet_3g_8</th>      <td>   -0.2890</td> <td>    0.065</td> <td>   -4.414</td> <td> 0.000</td> <td>   -0.417</td> <td>   -0.161</td>\n",
       "</tr>\n",
       "</table>"
      ],
      "text/plain": [
       "<class 'statsmodels.iolib.summary.Summary'>\n",
       "\"\"\"\n",
       "                 Generalized Linear Model Regression Results                  \n",
       "==============================================================================\n",
       "Dep. Variable:      churn_probability   No. Observations:                69999\n",
       "Model:                            GLM   Df Residuals:                    69974\n",
       "Model Family:                Binomial   Df Model:                           24\n",
       "Link Function:                  Logit   Scale:                          1.0000\n",
       "Method:                          IRLS   Log-Likelihood:                -16124.\n",
       "Date:                Thu, 08 Feb 2024   Deviance:                       32248.\n",
       "Time:                        00:40:00   Pearson chi2:                 6.90e+12\n",
       "No. Iterations:                    12   Pseudo R-squ. (CS):             0.1794\n",
       "Covariance Type:            nonrobust                                         \n",
       "====================================================================================\n",
       "                       coef    std err          z      P>|z|      [0.025      0.975]\n",
       "------------------------------------------------------------------------------------\n",
       "const               -4.3522      0.051    -84.818      0.000      -4.453      -4.252\n",
       "loc_og_t2m_mou_8    -0.6019      0.143     -4.221      0.000      -0.881      -0.322\n",
       "loc_og_mou_8        -0.4259      0.153     -2.776      0.006      -0.727      -0.125\n",
       "std_og_t2t_mou_7     0.1104      0.020      5.558      0.000       0.071       0.149\n",
       "std_og_t2m_mou_7     0.1451      0.020      7.314      0.000       0.106       0.184\n",
       "std_og_t2f_mou_8    -0.1818      0.053     -3.452      0.001      -0.285      -0.079\n",
       "spl_og_mou_8        -0.2725      0.042     -6.470      0.000      -0.355      -0.190\n",
       "og_others_8         -1.7007      1.010     -1.683      0.092      -3.681       0.280\n",
       "total_og_mou_6       0.2229      0.020     11.347      0.000       0.184       0.261\n",
       "total_og_mou_8      -0.8400      0.043    -19.582      0.000      -0.924      -0.756\n",
       "loc_ic_t2t_mou_8     0.8619      0.149      5.784      0.000       0.570       1.154\n",
       "loc_ic_t2f_mou_8    -0.3862      0.103     -3.743      0.000      -0.588      -0.184\n",
       "std_ic_t2f_mou_8    -0.4196      0.108     -3.873      0.000      -0.632      -0.207\n",
       "std_ic_mou_8         1.1084      0.084     13.159      0.000       0.943       1.273\n",
       "total_ic_mou_6       0.3443      0.024     14.497      0.000       0.298       0.391\n",
       "total_ic_mou_8      -4.4532      0.171    -26.039      0.000      -4.788      -4.118\n",
       "spl_ic_mou_8        -1.1235      0.064    -17.665      0.000      -1.248      -0.999\n",
       "isd_ic_mou_8         0.9392      0.042     22.180      0.000       0.856       1.022\n",
       "vol_2g_mb_8         -0.2280      0.041     -5.499      0.000      -0.309      -0.147\n",
       "vol_3g_mb_8         -0.3242      0.037     -8.782      0.000      -0.397      -0.252\n",
       "monthly_2g_7        -0.2851      0.078     -3.668      0.000      -0.437      -0.133\n",
       "monthly_2g_8        -1.0354      0.120     -8.650      0.000      -1.270      -0.801\n",
       "sachet_2g_8         -0.2515      0.024    -10.535      0.000      -0.298      -0.205\n",
       "sachet_3g_6          0.1845      0.035      5.225      0.000       0.115       0.254\n",
       "sachet_3g_8         -0.2890      0.065     -4.414      0.000      -0.417      -0.161\n",
       "====================================================================================\n",
       "\"\"\""
      ]
     },
     "execution_count": 73,
     "metadata": {},
     "output_type": "execute_result"
    }
   ],
   "source": [
    "X_train_sm = sm.add_constant(X_train[col])\n",
    "logm2 = sm.GLM(y_train,X_train_sm, family = sm.families.Binomial())\n",
    "res = logm2.fit()\n",
    "res.summary()"
   ]
  },
  {
   "cell_type": "code",
   "execution_count": 74,
   "id": "2dc13508",
   "metadata": {},
   "outputs": [
    {
     "data": {
      "text/plain": [
       "0    0.002331\n",
       "1    0.163716\n",
       "2    0.292401\n",
       "3    0.097181\n",
       "4    0.052877\n",
       "5    0.008373\n",
       "6    0.116215\n",
       "7    0.064119\n",
       "8    0.343812\n",
       "9    0.007024\n",
       "dtype: float64"
      ]
     },
     "execution_count": 74,
     "metadata": {},
     "output_type": "execute_result"
    }
   ],
   "source": [
    "# Getting the predicted values on the train set\n",
    "y_train_pred = res.predict(X_train_sm)\n",
    "y_train_pred[:10]"
   ]
  },
  {
   "cell_type": "code",
   "execution_count": 75,
   "id": "a56adc6b",
   "metadata": {},
   "outputs": [],
   "source": [
    "y_train_pred = res.predict(X_train_sm).values.reshape(-1)"
   ]
  },
  {
   "cell_type": "code",
   "execution_count": 76,
   "id": "3316998a",
   "metadata": {},
   "outputs": [
    {
     "data": {
      "text/html": [
       "<div>\n",
       "<style scoped>\n",
       "    .dataframe tbody tr th:only-of-type {\n",
       "        vertical-align: middle;\n",
       "    }\n",
       "\n",
       "    .dataframe tbody tr th {\n",
       "        vertical-align: top;\n",
       "    }\n",
       "\n",
       "    .dataframe thead th {\n",
       "        text-align: right;\n",
       "    }\n",
       "</style>\n",
       "<table border=\"1\" class=\"dataframe\">\n",
       "  <thead>\n",
       "    <tr style=\"text-align: right;\">\n",
       "      <th></th>\n",
       "      <th>Actual_Churn</th>\n",
       "      <th>Predicted_Churn_float</th>\n",
       "      <th>id</th>\n",
       "    </tr>\n",
       "  </thead>\n",
       "  <tbody>\n",
       "    <tr>\n",
       "      <th>0</th>\n",
       "      <td>0</td>\n",
       "      <td>0.002331</td>\n",
       "      <td>0</td>\n",
       "    </tr>\n",
       "    <tr>\n",
       "      <th>1</th>\n",
       "      <td>0</td>\n",
       "      <td>0.163716</td>\n",
       "      <td>1</td>\n",
       "    </tr>\n",
       "    <tr>\n",
       "      <th>2</th>\n",
       "      <td>0</td>\n",
       "      <td>0.292401</td>\n",
       "      <td>2</td>\n",
       "    </tr>\n",
       "    <tr>\n",
       "      <th>3</th>\n",
       "      <td>0</td>\n",
       "      <td>0.097181</td>\n",
       "      <td>3</td>\n",
       "    </tr>\n",
       "    <tr>\n",
       "      <th>4</th>\n",
       "      <td>0</td>\n",
       "      <td>0.052877</td>\n",
       "      <td>4</td>\n",
       "    </tr>\n",
       "  </tbody>\n",
       "</table>\n",
       "</div>"
      ],
      "text/plain": [
       "   Actual_Churn  Predicted_Churn_float  id\n",
       "0             0               0.002331   0\n",
       "1             0               0.163716   1\n",
       "2             0               0.292401   2\n",
       "3             0               0.097181   3\n",
       "4             0               0.052877   4"
      ]
     },
     "execution_count": 76,
     "metadata": {},
     "output_type": "execute_result"
    }
   ],
   "source": [
    "y_train_pred_final = pd.DataFrame({'Actual_Churn':y_train.values, 'Predicted_Churn_float':y_train_pred})\n",
    "y_train_pred_final['id'] = y_train.index\n",
    "y_train_pred_final.head()"
   ]
  },
  {
   "cell_type": "code",
   "execution_count": 77,
   "id": "0ea2a282",
   "metadata": {},
   "outputs": [],
   "source": [
    "from sklearn import metrics"
   ]
  },
  {
   "cell_type": "code",
   "execution_count": 78,
   "id": "94ddaeda",
   "metadata": {},
   "outputs": [
    {
     "data": {
      "text/html": [
       "<div>\n",
       "<style scoped>\n",
       "    .dataframe tbody tr th:only-of-type {\n",
       "        vertical-align: middle;\n",
       "    }\n",
       "\n",
       "    .dataframe tbody tr th {\n",
       "        vertical-align: top;\n",
       "    }\n",
       "\n",
       "    .dataframe thead th {\n",
       "        text-align: right;\n",
       "    }\n",
       "</style>\n",
       "<table border=\"1\" class=\"dataframe\">\n",
       "  <thead>\n",
       "    <tr style=\"text-align: right;\">\n",
       "      <th></th>\n",
       "      <th>Actual_Churn</th>\n",
       "      <th>Predicted_Churn_float</th>\n",
       "      <th>id</th>\n",
       "      <th>Predicted_Churn</th>\n",
       "    </tr>\n",
       "  </thead>\n",
       "  <tbody>\n",
       "    <tr>\n",
       "      <th>0</th>\n",
       "      <td>0</td>\n",
       "      <td>0.002331</td>\n",
       "      <td>0</td>\n",
       "      <td>0</td>\n",
       "    </tr>\n",
       "    <tr>\n",
       "      <th>1</th>\n",
       "      <td>0</td>\n",
       "      <td>0.163716</td>\n",
       "      <td>1</td>\n",
       "      <td>0</td>\n",
       "    </tr>\n",
       "    <tr>\n",
       "      <th>2</th>\n",
       "      <td>0</td>\n",
       "      <td>0.292401</td>\n",
       "      <td>2</td>\n",
       "      <td>0</td>\n",
       "    </tr>\n",
       "    <tr>\n",
       "      <th>3</th>\n",
       "      <td>0</td>\n",
       "      <td>0.097181</td>\n",
       "      <td>3</td>\n",
       "      <td>0</td>\n",
       "    </tr>\n",
       "    <tr>\n",
       "      <th>4</th>\n",
       "      <td>0</td>\n",
       "      <td>0.052877</td>\n",
       "      <td>4</td>\n",
       "      <td>0</td>\n",
       "    </tr>\n",
       "  </tbody>\n",
       "</table>\n",
       "</div>"
      ],
      "text/plain": [
       "   Actual_Churn  Predicted_Churn_float  id  Predicted_Churn\n",
       "0             0               0.002331   0                0\n",
       "1             0               0.163716   1                0\n",
       "2             0               0.292401   2                0\n",
       "3             0               0.097181   3                0\n",
       "4             0               0.052877   4                0"
      ]
     },
     "execution_count": 78,
     "metadata": {},
     "output_type": "execute_result"
    }
   ],
   "source": [
    "y_train_pred_final['Predicted_Churn'] = y_train_pred_final.Predicted_Churn_float.map(lambda x: 1 if x > 0.5 else 0)\n",
    "\n",
    "# Let's see the head\n",
    "y_train_pred_final.head()"
   ]
  },
  {
   "cell_type": "code",
   "execution_count": 79,
   "id": "895bebf2",
   "metadata": {},
   "outputs": [
    {
     "name": "stdout",
     "output_type": "stream",
     "text": [
      "[[62404   463]\n",
      " [ 6193   939]]\n"
     ]
    }
   ],
   "source": [
    "# Confusion matrix \n",
    "confusion = metrics.confusion_matrix(y_train_pred_final.Actual_Churn, y_train_pred_final.Predicted_Churn )\n",
    "print(confusion)"
   ]
  },
  {
   "cell_type": "code",
   "execution_count": 80,
   "id": "054fe2c4",
   "metadata": {},
   "outputs": [
    {
     "name": "stdout",
     "output_type": "stream",
     "text": [
      "0.9049129273275333\n"
     ]
    }
   ],
   "source": [
    "print(metrics.accuracy_score(y_train_pred_final.Actual_Churn, y_train_pred_final.Predicted_Churn))"
   ]
  },
  {
   "cell_type": "code",
   "execution_count": 81,
   "id": "8a00a44f",
   "metadata": {},
   "outputs": [
    {
     "data": {
      "text/html": [
       "<div>\n",
       "<style scoped>\n",
       "    .dataframe tbody tr th:only-of-type {\n",
       "        vertical-align: middle;\n",
       "    }\n",
       "\n",
       "    .dataframe tbody tr th {\n",
       "        vertical-align: top;\n",
       "    }\n",
       "\n",
       "    .dataframe thead th {\n",
       "        text-align: right;\n",
       "    }\n",
       "</style>\n",
       "<table border=\"1\" class=\"dataframe\">\n",
       "  <thead>\n",
       "    <tr style=\"text-align: right;\">\n",
       "      <th></th>\n",
       "      <th>Features</th>\n",
       "      <th>VIF</th>\n",
       "    </tr>\n",
       "  </thead>\n",
       "  <tbody>\n",
       "    <tr>\n",
       "      <th>14</th>\n",
       "      <td>total_ic_mou_8</td>\n",
       "      <td>5.29</td>\n",
       "    </tr>\n",
       "    <tr>\n",
       "      <th>1</th>\n",
       "      <td>loc_og_mou_8</td>\n",
       "      <td>4.10</td>\n",
       "    </tr>\n",
       "    <tr>\n",
       "      <th>8</th>\n",
       "      <td>total_og_mou_8</td>\n",
       "      <td>3.54</td>\n",
       "    </tr>\n",
       "    <tr>\n",
       "      <th>0</th>\n",
       "      <td>loc_og_t2m_mou_8</td>\n",
       "      <td>3.04</td>\n",
       "    </tr>\n",
       "    <tr>\n",
       "      <th>9</th>\n",
       "      <td>loc_ic_t2t_mou_8</td>\n",
       "      <td>2.37</td>\n",
       "    </tr>\n",
       "    <tr>\n",
       "      <th>7</th>\n",
       "      <td>total_og_mou_6</td>\n",
       "      <td>2.12</td>\n",
       "    </tr>\n",
       "    <tr>\n",
       "      <th>13</th>\n",
       "      <td>total_ic_mou_6</td>\n",
       "      <td>2.06</td>\n",
       "    </tr>\n",
       "    <tr>\n",
       "      <th>2</th>\n",
       "      <td>std_og_t2t_mou_7</td>\n",
       "      <td>2.00</td>\n",
       "    </tr>\n",
       "    <tr>\n",
       "      <th>3</th>\n",
       "      <td>std_og_t2m_mou_7</td>\n",
       "      <td>1.96</td>\n",
       "    </tr>\n",
       "    <tr>\n",
       "      <th>12</th>\n",
       "      <td>std_ic_mou_8</td>\n",
       "      <td>1.81</td>\n",
       "    </tr>\n",
       "    <tr>\n",
       "      <th>20</th>\n",
       "      <td>monthly_2g_8</td>\n",
       "      <td>1.61</td>\n",
       "    </tr>\n",
       "    <tr>\n",
       "      <th>19</th>\n",
       "      <td>monthly_2g_7</td>\n",
       "      <td>1.49</td>\n",
       "    </tr>\n",
       "    <tr>\n",
       "      <th>23</th>\n",
       "      <td>sachet_3g_8</td>\n",
       "      <td>1.47</td>\n",
       "    </tr>\n",
       "    <tr>\n",
       "      <th>22</th>\n",
       "      <td>sachet_3g_6</td>\n",
       "      <td>1.34</td>\n",
       "    </tr>\n",
       "    <tr>\n",
       "      <th>17</th>\n",
       "      <td>vol_2g_mb_8</td>\n",
       "      <td>1.25</td>\n",
       "    </tr>\n",
       "    <tr>\n",
       "      <th>10</th>\n",
       "      <td>loc_ic_t2f_mou_8</td>\n",
       "      <td>1.24</td>\n",
       "    </tr>\n",
       "    <tr>\n",
       "      <th>16</th>\n",
       "      <td>isd_ic_mou_8</td>\n",
       "      <td>1.24</td>\n",
       "    </tr>\n",
       "    <tr>\n",
       "      <th>21</th>\n",
       "      <td>sachet_2g_8</td>\n",
       "      <td>1.18</td>\n",
       "    </tr>\n",
       "    <tr>\n",
       "      <th>18</th>\n",
       "      <td>vol_3g_mb_8</td>\n",
       "      <td>1.16</td>\n",
       "    </tr>\n",
       "    <tr>\n",
       "      <th>11</th>\n",
       "      <td>std_ic_t2f_mou_8</td>\n",
       "      <td>1.10</td>\n",
       "    </tr>\n",
       "    <tr>\n",
       "      <th>5</th>\n",
       "      <td>spl_og_mou_8</td>\n",
       "      <td>1.05</td>\n",
       "    </tr>\n",
       "    <tr>\n",
       "      <th>4</th>\n",
       "      <td>std_og_t2f_mou_8</td>\n",
       "      <td>1.05</td>\n",
       "    </tr>\n",
       "    <tr>\n",
       "      <th>15</th>\n",
       "      <td>spl_ic_mou_8</td>\n",
       "      <td>1.02</td>\n",
       "    </tr>\n",
       "    <tr>\n",
       "      <th>6</th>\n",
       "      <td>og_others_8</td>\n",
       "      <td>1.00</td>\n",
       "    </tr>\n",
       "  </tbody>\n",
       "</table>\n",
       "</div>"
      ],
      "text/plain": [
       "            Features   VIF\n",
       "14    total_ic_mou_8  5.29\n",
       "1       loc_og_mou_8  4.10\n",
       "8     total_og_mou_8  3.54\n",
       "0   loc_og_t2m_mou_8  3.04\n",
       "9   loc_ic_t2t_mou_8  2.37\n",
       "7     total_og_mou_6  2.12\n",
       "13    total_ic_mou_6  2.06\n",
       "2   std_og_t2t_mou_7  2.00\n",
       "3   std_og_t2m_mou_7  1.96\n",
       "12      std_ic_mou_8  1.81\n",
       "20      monthly_2g_8  1.61\n",
       "19      monthly_2g_7  1.49\n",
       "23       sachet_3g_8  1.47\n",
       "22       sachet_3g_6  1.34\n",
       "17       vol_2g_mb_8  1.25\n",
       "10  loc_ic_t2f_mou_8  1.24\n",
       "16      isd_ic_mou_8  1.24\n",
       "21       sachet_2g_8  1.18\n",
       "18       vol_3g_mb_8  1.16\n",
       "11  std_ic_t2f_mou_8  1.10\n",
       "5       spl_og_mou_8  1.05\n",
       "4   std_og_t2f_mou_8  1.05\n",
       "15      spl_ic_mou_8  1.02\n",
       "6        og_others_8  1.00"
      ]
     },
     "execution_count": 81,
     "metadata": {},
     "output_type": "execute_result"
    }
   ],
   "source": [
    "vif = pd.DataFrame()\n",
    "vif['Features'] = X_train[col].columns\n",
    "vif['VIF'] = [variance_inflation_factor(X_train[col].values, i) for i in range(X_train[col].shape[1])]\n",
    "vif['VIF'] = round(vif['VIF'], 2)\n",
    "vif = vif.sort_values(by = \"VIF\", ascending = False)\n",
    "vif"
   ]
  },
  {
   "cell_type": "markdown",
   "id": "a9c2be73",
   "metadata": {},
   "source": [
    "Looks good!"
   ]
  },
  {
   "cell_type": "code",
   "execution_count": 82,
   "id": "55b138f4",
   "metadata": {},
   "outputs": [],
   "source": [
    "TP = confusion[1,1] # true positive \n",
    "TN = confusion[0,0] # true negatives\n",
    "FP = confusion[0,1] # false positives\n",
    "FN = confusion[1,0] # false negatives"
   ]
  },
  {
   "cell_type": "code",
   "execution_count": 83,
   "id": "ba1f8e64",
   "metadata": {},
   "outputs": [
    {
     "data": {
      "text/plain": [
       "0.13166012338754907"
      ]
     },
     "execution_count": 83,
     "metadata": {},
     "output_type": "execute_result"
    }
   ],
   "source": [
    "# Let's see the sensitivity of our logistic regression model\n",
    "TP / float(TP+FN)"
   ]
  },
  {
   "cell_type": "code",
   "execution_count": 84,
   "id": "fc0e52a1",
   "metadata": {},
   "outputs": [
    {
     "data": {
      "text/plain": [
       "0.9926352458364484"
      ]
     },
     "execution_count": 84,
     "metadata": {},
     "output_type": "execute_result"
    }
   ],
   "source": [
    "# Let us calculate specificity\n",
    "TN / float(TN+FP)"
   ]
  },
  {
   "cell_type": "code",
   "execution_count": 85,
   "id": "a644e088",
   "metadata": {},
   "outputs": [
    {
     "name": "stdout",
     "output_type": "stream",
     "text": [
      "0.007364754163551625\n"
     ]
    }
   ],
   "source": [
    "# Calculate false postive rate - predicting churn when customer does not have churned\n",
    "print(FP/ float(TN+FP))"
   ]
  },
  {
   "cell_type": "code",
   "execution_count": 86,
   "id": "113a6976",
   "metadata": {},
   "outputs": [
    {
     "name": "stdout",
     "output_type": "stream",
     "text": [
      "0.6697574893009985\n"
     ]
    }
   ],
   "source": [
    "# positive predictive value \n",
    "print (TP / float(TP+FP))"
   ]
  },
  {
   "cell_type": "code",
   "execution_count": 87,
   "id": "963b6b92",
   "metadata": {},
   "outputs": [
    {
     "name": "stdout",
     "output_type": "stream",
     "text": [
      "0.9097190839249529\n"
     ]
    }
   ],
   "source": [
    "# Negative predictive value\n",
    "print (TN / float(TN+ FN))"
   ]
  },
  {
   "cell_type": "code",
   "execution_count": 88,
   "id": "51e2e10f",
   "metadata": {},
   "outputs": [],
   "source": [
    "def draw_roc( actual, probs ):\n",
    "    fpr, tpr, thresholds = metrics.roc_curve( actual, probs,\n",
    "                                              drop_intermediate = False )\n",
    "    auc_score = metrics.roc_auc_score( actual, probs )\n",
    "    plt.figure(figsize=(5, 5))\n",
    "    plt.plot( fpr, tpr, label='ROC curve (area = %0.2f)' % auc_score )\n",
    "    plt.plot([0, 1], [0, 1], 'k--')\n",
    "    plt.xlim([0.0, 1.0])\n",
    "    plt.ylim([0.0, 1.05])\n",
    "    plt.xlabel('False Positive Rate or [1 - True Negative Rate]')\n",
    "    plt.ylabel('True Positive Rate')\n",
    "    plt.title('Receiver operating characteristic example')\n",
    "    plt.legend(loc=\"lower right\")\n",
    "    plt.show()\n",
    "\n",
    "    return None"
   ]
  },
  {
   "cell_type": "code",
   "execution_count": 89,
   "id": "e43a5a37",
   "metadata": {},
   "outputs": [],
   "source": [
    "fpr, tpr, thresholds = metrics.roc_curve( y_train_pred_final.Actual_Churn, y_train_pred_final.Predicted_Churn_float, drop_intermediate = False )"
   ]
  },
  {
   "cell_type": "code",
   "execution_count": 90,
   "id": "a632c5e0",
   "metadata": {},
   "outputs": [
    {
     "data": {
      "image/png": "[encoded data removed]",
      "text/plain": [
       "<Figure size 500x500 with 1 Axes>"
      ]
     },
     "metadata": {},
     "output_type": "display_data"
    }
   ],
   "source": [
    "draw_roc(y_train_pred_final.Actual_Churn, y_train_pred_final.Predicted_Churn_float)"
   ]
  },
  {
   "cell_type": "code",
   "execution_count": 91,
   "id": "18068a57",
   "metadata": {},
   "outputs": [
    {
     "data": {
      "text/html": [
       "<div>\n",
       "<style scoped>\n",
       "    .dataframe tbody tr th:only-of-type {\n",
       "        vertical-align: middle;\n",
       "    }\n",
       "\n",
       "    .dataframe tbody tr th {\n",
       "        vertical-align: top;\n",
       "    }\n",
       "\n",
       "    .dataframe thead th {\n",
       "        text-align: right;\n",
       "    }\n",
       "</style>\n",
       "<table border=\"1\" class=\"dataframe\">\n",
       "  <thead>\n",
       "    <tr style=\"text-align: right;\">\n",
       "      <th></th>\n",
       "      <th>Actual_Churn</th>\n",
       "      <th>Predicted_Churn_float</th>\n",
       "      <th>id</th>\n",
       "      <th>Predicted_Churn</th>\n",
       "      <th>0.0</th>\n",
       "      <th>0.1</th>\n",
       "      <th>0.2</th>\n",
       "      <th>0.3</th>\n",
       "      <th>0.4</th>\n",
       "      <th>0.5</th>\n",
       "      <th>0.6</th>\n",
       "      <th>0.7</th>\n",
       "      <th>0.8</th>\n",
       "      <th>0.9</th>\n",
       "    </tr>\n",
       "  </thead>\n",
       "  <tbody>\n",
       "    <tr>\n",
       "      <th>0</th>\n",
       "      <td>0</td>\n",
       "      <td>0.002331</td>\n",
       "      <td>0</td>\n",
       "      <td>0</td>\n",
       "      <td>1</td>\n",
       "      <td>0</td>\n",
       "      <td>0</td>\n",
       "      <td>0</td>\n",
       "      <td>0</td>\n",
       "      <td>0</td>\n",
       "      <td>0</td>\n",
       "      <td>0</td>\n",
       "      <td>0</td>\n",
       "      <td>0</td>\n",
       "    </tr>\n",
       "    <tr>\n",
       "      <th>1</th>\n",
       "      <td>0</td>\n",
       "      <td>0.163716</td>\n",
       "      <td>1</td>\n",
       "      <td>0</td>\n",
       "      <td>1</td>\n",
       "      <td>1</td>\n",
       "      <td>0</td>\n",
       "      <td>0</td>\n",
       "      <td>0</td>\n",
       "      <td>0</td>\n",
       "      <td>0</td>\n",
       "      <td>0</td>\n",
       "      <td>0</td>\n",
       "      <td>0</td>\n",
       "    </tr>\n",
       "    <tr>\n",
       "      <th>2</th>\n",
       "      <td>0</td>\n",
       "      <td>0.292401</td>\n",
       "      <td>2</td>\n",
       "      <td>0</td>\n",
       "      <td>1</td>\n",
       "      <td>1</td>\n",
       "      <td>1</td>\n",
       "      <td>0</td>\n",
       "      <td>0</td>\n",
       "      <td>0</td>\n",
       "      <td>0</td>\n",
       "      <td>0</td>\n",
       "      <td>0</td>\n",
       "      <td>0</td>\n",
       "    </tr>\n",
       "    <tr>\n",
       "      <th>3</th>\n",
       "      <td>0</td>\n",
       "      <td>0.097181</td>\n",
       "      <td>3</td>\n",
       "      <td>0</td>\n",
       "      <td>1</td>\n",
       "      <td>0</td>\n",
       "      <td>0</td>\n",
       "      <td>0</td>\n",
       "      <td>0</td>\n",
       "      <td>0</td>\n",
       "      <td>0</td>\n",
       "      <td>0</td>\n",
       "      <td>0</td>\n",
       "      <td>0</td>\n",
       "    </tr>\n",
       "    <tr>\n",
       "      <th>4</th>\n",
       "      <td>0</td>\n",
       "      <td>0.052877</td>\n",
       "      <td>4</td>\n",
       "      <td>0</td>\n",
       "      <td>1</td>\n",
       "      <td>0</td>\n",
       "      <td>0</td>\n",
       "      <td>0</td>\n",
       "      <td>0</td>\n",
       "      <td>0</td>\n",
       "      <td>0</td>\n",
       "      <td>0</td>\n",
       "      <td>0</td>\n",
       "      <td>0</td>\n",
       "    </tr>\n",
       "  </tbody>\n",
       "</table>\n",
       "</div>"
      ],
      "text/plain": [
       "   Actual_Churn  Predicted_Churn_float  id  Predicted_Churn  0.0  0.1  0.2  \\\n",
       "0             0               0.002331   0                0    1    0    0   \n",
       "1             0               0.163716   1                0    1    1    0   \n",
       "2             0               0.292401   2                0    1    1    1   \n",
       "3             0               0.097181   3                0    1    0    0   \n",
       "4             0               0.052877   4                0    1    0    0   \n",
       "\n",
       "   0.3  0.4  0.5  0.6  0.7  0.8  0.9  \n",
       "0    0    0    0    0    0    0    0  \n",
       "1    0    0    0    0    0    0    0  \n",
       "2    0    0    0    0    0    0    0  \n",
       "3    0    0    0    0    0    0    0  \n",
       "4    0    0    0    0    0    0    0  "
      ]
     },
     "execution_count": 91,
     "metadata": {},
     "output_type": "execute_result"
    }
   ],
   "source": [
    "# Let's create columns with different probability cutoffs \n",
    "numbers = [float(x)/10 for x in range(10)]\n",
    "for i in numbers:\n",
    "    y_train_pred_final[i]= y_train_pred_final.Predicted_Churn_float.map(lambda x: 1 if x > i else 0)\n",
    "y_train_pred_final.head()"
   ]
  },
  {
   "cell_type": "code",
   "execution_count": 92,
   "id": "ab18b4d8",
   "metadata": {},
   "outputs": [
    {
     "name": "stdout",
     "output_type": "stream",
     "text": [
      "     prob  accuracy     sensi     speci\n",
      "0.0   0.0  0.101887  1.000000  0.000000\n",
      "0.1   0.1  0.755011  0.868761  0.742106\n",
      "0.2   0.2  0.863569  0.798934  0.870902\n",
      "0.3   0.3  0.917656  0.716910  0.940430\n",
      "0.4   0.4  0.913527  0.321649  0.980673\n",
      "0.5   0.5  0.904913  0.131660  0.992635\n",
      "0.6   0.6  0.901313  0.059591  0.996803\n",
      "0.7   0.7  0.899684  0.027902  0.998584\n",
      "0.8   0.8  0.898899  0.012900  0.999411\n",
      "0.9   0.9  0.898527  0.005468  0.999841\n"
     ]
    }
   ],
   "source": [
    "# Now let's calculate accuracy sensitivity and specificity for various probability cutoffs.\n",
    "cutoff_df = pd.DataFrame( columns = ['prob','accuracy','sensi','speci'])\n",
    "from sklearn.metrics import confusion_matrix\n",
    "\n",
    "# TP = confusion[1,1] # true positive \n",
    "# TN = confusion[0,0] # true negatives\n",
    "# FP = confusion[0,1] # false positives\n",
    "# FN = confusion[1,0] # false negatives\n",
    "\n",
    "num = [0.0,0.1,0.2,0.3,0.4,0.5,0.6,0.7,0.8,0.9]\n",
    "for i in num:\n",
    "    cm1 = metrics.confusion_matrix(y_train_pred_final.Actual_Churn, y_train_pred_final[i] )\n",
    "    total1=sum(sum(cm1))\n",
    "    accuracy = (cm1[0,0]+cm1[1,1])/total1\n",
    "    \n",
    "    speci = cm1[0,0]/(cm1[0,0]+cm1[0,1])\n",
    "    sensi = cm1[1,1]/(cm1[1,0]+cm1[1,1])\n",
    "    cutoff_df.loc[i] =[ i ,accuracy,sensi,speci]\n",
    "print(cutoff_df)"
   ]
  },
  {
   "cell_type": "code",
   "execution_count": 93,
   "id": "e7e9b0bb",
   "metadata": {},
   "outputs": [
    {
     "data": {
      "image/png": "[encoded data removed]",
      "text/plain": [
       "<Figure size 640x480 with 1 Axes>"
      ]
     },
     "metadata": {},
     "output_type": "display_data"
    }
   ],
   "source": [
    "# Let's plot accuracy sensitivity and specificity for various probabilities.\n",
    "cutoff_df.plot.line(x='prob', y=['accuracy','sensi','speci'])\n",
    "plt.show()"
   ]
  },
  {
   "cell_type": "markdown",
   "id": "857e8f3d",
   "metadata": {},
   "source": [
    "#### From the curve above, 0.2 is the optimum point to take it as a cutoff probability."
   ]
  },
  {
   "cell_type": "code",
   "execution_count": 94,
   "id": "4c4609d7",
   "metadata": {},
   "outputs": [
    {
     "data": {
      "text/html": [
       "<div>\n",
       "<style scoped>\n",
       "    .dataframe tbody tr th:only-of-type {\n",
       "        vertical-align: middle;\n",
       "    }\n",
       "\n",
       "    .dataframe tbody tr th {\n",
       "        vertical-align: top;\n",
       "    }\n",
       "\n",
       "    .dataframe thead th {\n",
       "        text-align: right;\n",
       "    }\n",
       "</style>\n",
       "<table border=\"1\" class=\"dataframe\">\n",
       "  <thead>\n",
       "    <tr style=\"text-align: right;\">\n",
       "      <th></th>\n",
       "      <th>Actual_Churn</th>\n",
       "      <th>Predicted_Churn_float</th>\n",
       "      <th>id</th>\n",
       "      <th>Predicted_Churn</th>\n",
       "      <th>0.0</th>\n",
       "      <th>0.1</th>\n",
       "      <th>0.2</th>\n",
       "      <th>0.3</th>\n",
       "      <th>0.4</th>\n",
       "      <th>0.5</th>\n",
       "      <th>0.6</th>\n",
       "      <th>0.7</th>\n",
       "      <th>0.8</th>\n",
       "      <th>0.9</th>\n",
       "      <th>final_predicted</th>\n",
       "    </tr>\n",
       "  </thead>\n",
       "  <tbody>\n",
       "    <tr>\n",
       "      <th>0</th>\n",
       "      <td>0</td>\n",
       "      <td>0.002331</td>\n",
       "      <td>0</td>\n",
       "      <td>0</td>\n",
       "      <td>1</td>\n",
       "      <td>0</td>\n",
       "      <td>0</td>\n",
       "      <td>0</td>\n",
       "      <td>0</td>\n",
       "      <td>0</td>\n",
       "      <td>0</td>\n",
       "      <td>0</td>\n",
       "      <td>0</td>\n",
       "      <td>0</td>\n",
       "      <td>0</td>\n",
       "    </tr>\n",
       "    <tr>\n",
       "      <th>1</th>\n",
       "      <td>0</td>\n",
       "      <td>0.163716</td>\n",
       "      <td>1</td>\n",
       "      <td>0</td>\n",
       "      <td>1</td>\n",
       "      <td>1</td>\n",
       "      <td>0</td>\n",
       "      <td>0</td>\n",
       "      <td>0</td>\n",
       "      <td>0</td>\n",
       "      <td>0</td>\n",
       "      <td>0</td>\n",
       "      <td>0</td>\n",
       "      <td>0</td>\n",
       "      <td>0</td>\n",
       "    </tr>\n",
       "    <tr>\n",
       "      <th>2</th>\n",
       "      <td>0</td>\n",
       "      <td>0.292401</td>\n",
       "      <td>2</td>\n",
       "      <td>0</td>\n",
       "      <td>1</td>\n",
       "      <td>1</td>\n",
       "      <td>1</td>\n",
       "      <td>0</td>\n",
       "      <td>0</td>\n",
       "      <td>0</td>\n",
       "      <td>0</td>\n",
       "      <td>0</td>\n",
       "      <td>0</td>\n",
       "      <td>0</td>\n",
       "      <td>0</td>\n",
       "    </tr>\n",
       "    <tr>\n",
       "      <th>3</th>\n",
       "      <td>0</td>\n",
       "      <td>0.097181</td>\n",
       "      <td>3</td>\n",
       "      <td>0</td>\n",
       "      <td>1</td>\n",
       "      <td>0</td>\n",
       "      <td>0</td>\n",
       "      <td>0</td>\n",
       "      <td>0</td>\n",
       "      <td>0</td>\n",
       "      <td>0</td>\n",
       "      <td>0</td>\n",
       "      <td>0</td>\n",
       "      <td>0</td>\n",
       "      <td>0</td>\n",
       "    </tr>\n",
       "    <tr>\n",
       "      <th>4</th>\n",
       "      <td>0</td>\n",
       "      <td>0.052877</td>\n",
       "      <td>4</td>\n",
       "      <td>0</td>\n",
       "      <td>1</td>\n",
       "      <td>0</td>\n",
       "      <td>0</td>\n",
       "      <td>0</td>\n",
       "      <td>0</td>\n",
       "      <td>0</td>\n",
       "      <td>0</td>\n",
       "      <td>0</td>\n",
       "      <td>0</td>\n",
       "      <td>0</td>\n",
       "      <td>0</td>\n",
       "    </tr>\n",
       "  </tbody>\n",
       "</table>\n",
       "</div>"
      ],
      "text/plain": [
       "   Actual_Churn  Predicted_Churn_float  id  Predicted_Churn  0.0  0.1  0.2  \\\n",
       "0             0               0.002331   0                0    1    0    0   \n",
       "1             0               0.163716   1                0    1    1    0   \n",
       "2             0               0.292401   2                0    1    1    1   \n",
       "3             0               0.097181   3                0    1    0    0   \n",
       "4             0               0.052877   4                0    1    0    0   \n",
       "\n",
       "   0.3  0.4  0.5  0.6  0.7  0.8  0.9  final_predicted  \n",
       "0    0    0    0    0    0    0    0                0  \n",
       "1    0    0    0    0    0    0    0                0  \n",
       "2    0    0    0    0    0    0    0                0  \n",
       "3    0    0    0    0    0    0    0                0  \n",
       "4    0    0    0    0    0    0    0                0  "
      ]
     },
     "execution_count": 94,
     "metadata": {},
     "output_type": "execute_result"
    }
   ],
   "source": [
    "y_train_pred_final['final_predicted'] = y_train_pred_final.Predicted_Churn_float.map( lambda x: 1 if x > 0.3 else 0)\n",
    "\n",
    "y_train_pred_final.head()"
   ]
  },
  {
   "cell_type": "code",
   "execution_count": 95,
   "id": "a8e66567",
   "metadata": {},
   "outputs": [
    {
     "data": {
      "text/plain": [
       "0.9176559665138073"
      ]
     },
     "execution_count": 95,
     "metadata": {},
     "output_type": "execute_result"
    }
   ],
   "source": [
    "# Let's check the overall accuracy.\n",
    "metrics.accuracy_score(y_train_pred_final.Actual_Churn, y_train_pred_final.final_predicted)"
   ]
  },
  {
   "cell_type": "code",
   "execution_count": 96,
   "id": "96098e4b",
   "metadata": {},
   "outputs": [
    {
     "data": {
      "text/plain": [
       "array([[59122,  3745],\n",
       "       [ 2019,  5113]], dtype=int64)"
      ]
     },
     "execution_count": 96,
     "metadata": {},
     "output_type": "execute_result"
    }
   ],
   "source": [
    "confusion2 = metrics.confusion_matrix(y_train_pred_final.Actual_Churn, y_train_pred_final.final_predicted )\n",
    "confusion2"
   ]
  },
  {
   "cell_type": "code",
   "execution_count": 97,
   "id": "eb1ec8eb",
   "metadata": {},
   "outputs": [],
   "source": [
    "TP = confusion2[1,1] # true positive \n",
    "TN = confusion2[0,0] # true negatives\n",
    "FP = confusion2[0,1] # false positives\n",
    "FN = confusion2[1,0] # false negatives"
   ]
  },
  {
   "cell_type": "code",
   "execution_count": 98,
   "id": "d66b6f4b",
   "metadata": {},
   "outputs": [
    {
     "data": {
      "text/plain": [
       "0.7169097027481772"
      ]
     },
     "execution_count": 98,
     "metadata": {},
     "output_type": "execute_result"
    }
   ],
   "source": [
    "# Let's see the sensitivity of our logistic regression model\n",
    "TP / float(TP+FN)"
   ]
  },
  {
   "cell_type": "code",
   "execution_count": 99,
   "id": "8d0262e2",
   "metadata": {},
   "outputs": [
    {
     "data": {
      "text/plain": [
       "0.9404297962364992"
      ]
     },
     "execution_count": 99,
     "metadata": {},
     "output_type": "execute_result"
    }
   ],
   "source": [
    "# Let us calculate specificity\n",
    "TN / float(TN+FP)"
   ]
  },
  {
   "cell_type": "code",
   "execution_count": 100,
   "id": "ee108781",
   "metadata": {},
   "outputs": [
    {
     "name": "stdout",
     "output_type": "stream",
     "text": [
      "0.05957020376350072\n"
     ]
    }
   ],
   "source": [
    "# Calculate false postive rate - predicting churn when customer does not have churned\n",
    "print(FP/ float(TN+FP))"
   ]
  },
  {
   "cell_type": "code",
   "execution_count": 101,
   "id": "db3a03f9",
   "metadata": {},
   "outputs": [
    {
     "name": "stdout",
     "output_type": "stream",
     "text": [
      "0.577218333709641\n"
     ]
    }
   ],
   "source": [
    "# Positive predictive value \n",
    "print (TP / float(TP+FP))"
   ]
  },
  {
   "cell_type": "code",
   "execution_count": 102,
   "id": "10201a89",
   "metadata": {},
   "outputs": [
    {
     "name": "stdout",
     "output_type": "stream",
     "text": [
      "0.966977968957001\n"
     ]
    }
   ],
   "source": [
    "# Negative predictive value\n",
    "print (TN / float(TN+ FN))"
   ]
  },
  {
   "cell_type": "code",
   "execution_count": 103,
   "id": "4433718e",
   "metadata": {},
   "outputs": [],
   "source": [
    "#Looking at the confusion matrix again"
   ]
  },
  {
   "cell_type": "code",
   "execution_count": 104,
   "id": "1ad6f917",
   "metadata": {},
   "outputs": [
    {
     "data": {
      "text/plain": [
       "array([[59122,  3745],\n",
       "       [ 2019,  5113]], dtype=int64)"
      ]
     },
     "execution_count": 104,
     "metadata": {},
     "output_type": "execute_result"
    }
   ],
   "source": [
    "confusion = metrics.confusion_matrix(y_train_pred_final.Actual_Churn, y_train_pred_final.final_predicted )\n",
    "confusion"
   ]
  },
  {
   "cell_type": "markdown",
   "id": "e12bfbdd",
   "metadata": {},
   "source": [
    "##### Precision\n",
    "TP / TP + FP"
   ]
  },
  {
   "cell_type": "code",
   "execution_count": 105,
   "id": "58987611",
   "metadata": {},
   "outputs": [
    {
     "data": {
      "text/plain": [
       "0.577218333709641"
      ]
     },
     "execution_count": 105,
     "metadata": {},
     "output_type": "execute_result"
    }
   ],
   "source": [
    "confusion[1,1]/(confusion[0,1]+confusion[1,1])"
   ]
  },
  {
   "cell_type": "markdown",
   "id": "90cbe21b",
   "metadata": {},
   "source": [
    "##### Recall\n",
    "TP / TP + FN"
   ]
  },
  {
   "cell_type": "code",
   "execution_count": 106,
   "id": "7219f2c6",
   "metadata": {},
   "outputs": [
    {
     "data": {
      "text/plain": [
       "0.7169097027481772"
      ]
     },
     "execution_count": 106,
     "metadata": {},
     "output_type": "execute_result"
    }
   ],
   "source": [
    "confusion[1,1]/(confusion[1,0]+confusion[1,1])"
   ]
  },
  {
   "cell_type": "markdown",
   "id": "72de3b3d",
   "metadata": {},
   "source": [
    "Using sklearn utilities for the same"
   ]
  },
  {
   "cell_type": "code",
   "execution_count": 107,
   "id": "8919592a",
   "metadata": {},
   "outputs": [],
   "source": [
    "from sklearn.metrics import precision_score, recall_score"
   ]
  },
  {
   "cell_type": "code",
   "execution_count": 108,
   "id": "39604e01",
   "metadata": {},
   "outputs": [],
   "source": [
    "?precision_score"
   ]
  },
  {
   "cell_type": "code",
   "execution_count": 109,
   "id": "f9088471",
   "metadata": {},
   "outputs": [
    {
     "data": {
      "text/plain": [
       "0.577218333709641"
      ]
     },
     "execution_count": 109,
     "metadata": {},
     "output_type": "execute_result"
    }
   ],
   "source": [
    "precision_score(y_train_pred_final.Actual_Churn, y_train_pred_final.final_predicted)"
   ]
  },
  {
   "cell_type": "code",
   "execution_count": 110,
   "id": "6e652017",
   "metadata": {},
   "outputs": [
    {
     "data": {
      "text/plain": [
       "0.7169097027481772"
      ]
     },
     "execution_count": 110,
     "metadata": {},
     "output_type": "execute_result"
    }
   ],
   "source": [
    "recall_score(y_train_pred_final.Actual_Churn, y_train_pred_final.final_predicted)"
   ]
  },
  {
   "cell_type": "markdown",
   "id": "27bb34c3",
   "metadata": {},
   "source": [
    "### Precision and recall tradeoff"
   ]
  },
  {
   "cell_type": "code",
   "execution_count": 111,
   "id": "5d7eef9e",
   "metadata": {},
   "outputs": [],
   "source": [
    "from sklearn.metrics import precision_recall_curve"
   ]
  },
  {
   "cell_type": "code",
   "execution_count": 112,
   "id": "f480c9bb",
   "metadata": {},
   "outputs": [
    {
     "data": {
      "text/plain": [
       "(0        0\n",
       " 1        0\n",
       " 2        0\n",
       " 3        0\n",
       " 4        0\n",
       "         ..\n",
       " 69994    0\n",
       " 69995    0\n",
       " 69996    0\n",
       " 69997    0\n",
       " 69998    0\n",
       " Name: Actual_Churn, Length: 69999, dtype: int64,\n",
       " 0        0\n",
       " 1        0\n",
       " 2        0\n",
       " 3        0\n",
       " 4        0\n",
       "         ..\n",
       " 69994    0\n",
       " 69995    0\n",
       " 69996    0\n",
       " 69997    0\n",
       " 69998    0\n",
       " Name: final_predicted, Length: 69999, dtype: int64)"
      ]
     },
     "execution_count": 112,
     "metadata": {},
     "output_type": "execute_result"
    }
   ],
   "source": [
    "y_train_pred_final.Actual_Churn, y_train_pred_final.final_predicted"
   ]
  },
  {
   "cell_type": "code",
   "execution_count": 113,
   "id": "9317d610",
   "metadata": {},
   "outputs": [],
   "source": [
    "p, r, thresholds = precision_recall_curve(y_train_pred_final.Actual_Churn, y_train_pred_final.Predicted_Churn_float)"
   ]
  },
  {
   "cell_type": "code",
   "execution_count": 114,
   "id": "9c92a2fb",
   "metadata": {
    "scrolled": true
   },
   "outputs": [
    {
     "data": {
      "image/png": "[encoded data removed]",
      "text/plain": [
       "<Figure size 640x480 with 1 Axes>"
      ]
     },
     "metadata": {},
     "output_type": "display_data"
    }
   ],
   "source": [
    "plt.plot(thresholds, p[:-1], \"g-\")\n",
    "plt.plot(thresholds, r[:-1], \"r-\")\n",
    "plt.show()"
   ]
  },
  {
   "cell_type": "markdown",
   "id": "a1e1b417",
   "metadata": {},
   "source": [
    "# Making predictions on the test set"
   ]
  },
  {
   "cell_type": "code",
   "execution_count": null,
   "id": "71fd69fb",
   "metadata": {},
   "outputs": [],
   "source": [
    "X_test = test.drop(['id'], axis=1)\n",
    "X_test.head()"
   ]
  },
  {
   "cell_type": "code",
   "execution_count": null,
   "id": "8eda230e",
   "metadata": {},
   "outputs": [],
   "source": [
    "cols = X_test.select_dtypes(include=['float64']).columns\n",
    "X_test[cols] = scaler.transform(X_test[cols])"
   ]
  },
  {
   "cell_type": "code",
   "execution_count": null,
   "id": "235a4e60",
   "metadata": {},
   "outputs": [],
   "source": [
    "X_test = X_test[col]\n",
    "X_test.head()"
   ]
  },
  {
   "cell_type": "code",
   "execution_count": null,
   "id": "bc0e769a",
   "metadata": {},
   "outputs": [],
   "source": [
    "X_test_sm = sm.add_constant(X_test)"
   ]
  },
  {
   "cell_type": "code",
   "execution_count": null,
   "id": "b661e958",
   "metadata": {},
   "outputs": [],
   "source": [
    "y_test_pred = res.predict(X_test_sm)"
   ]
  },
  {
   "cell_type": "code",
   "execution_count": null,
   "id": "5501343c",
   "metadata": {},
   "outputs": [],
   "source": [
    "y_test_pred[:10]"
   ]
  },
  {
   "cell_type": "code",
   "execution_count": null,
   "id": "985f56e9",
   "metadata": {},
   "outputs": [],
   "source": [
    "# Converting y_pred to a dataframe which is an array\n",
    "y_pred_1 = pd.DataFrame(y_test_pred)"
   ]
  },
  {
   "cell_type": "code",
   "execution_count": null,
   "id": "7b3a2fb3",
   "metadata": {},
   "outputs": [],
   "source": [
    "# Let's see the head\n",
    "y_pred_1.head()"
   ]
  },
  {
   "cell_type": "code",
   "execution_count": null,
   "id": "940392d3",
   "metadata": {
    "scrolled": true
   },
   "outputs": [],
   "source": [
    "y_test_df = pd.DataFrame(test['id'])"
   ]
  },
  {
   "cell_type": "code",
   "execution_count": null,
   "id": "0d357ddf",
   "metadata": {},
   "outputs": [],
   "source": [
    "y_test_df['id'] = y_test_df.index"
   ]
  },
  {
   "cell_type": "code",
   "execution_count": null,
   "id": "a3e23a20",
   "metadata": {},
   "outputs": [],
   "source": [
    "y_test_df.head()"
   ]
  },
  {
   "cell_type": "code",
   "execution_count": null,
   "id": "7dd7ec3b",
   "metadata": {},
   "outputs": [],
   "source": [
    "# Renaming the column \n",
    "y_pred_final= y_pred_final.rename(columns={ 0 : 'churn_probability'})"
   ]
  },
  {
   "cell_type": "code",
   "execution_count": null,
   "id": "671f860c",
   "metadata": {},
   "outputs": [],
   "source": [
    "y_pred_final.head()"
   ]
  },
  {
   "cell_type": "code",
   "execution_count": null,
   "id": "f4cb824d",
   "metadata": {},
   "outputs": [],
   "source": [
    "y_pred_final['churn_probability'] = y_pred_final.churn_probability.map(lambda x: 1 if x > 0.35 else 0)"
   ]
  },
  {
   "cell_type": "code",
   "execution_count": null,
   "id": "e22106b5",
   "metadata": {},
   "outputs": [],
   "source": [
    "y_pred_final.head()"
   ]
  },
  {
   "cell_type": "code",
   "execution_count": null,
   "id": "f00c06f1",
   "metadata": {},
   "outputs": [],
   "source": [
    "y_pred_final.churn_probability.value_counts()"
   ]
  },
  {
   "cell_type": "code",
   "execution_count": null,
   "id": "80ce0ec5",
   "metadata": {},
   "outputs": [],
   "source": [
    "y_pred_final.to_csv('submission_prediction_1.csv', index=False)"
   ]
  },
  {
   "cell_type": "code",
   "execution_count": null,
   "id": "042b800e",
   "metadata": {},
   "outputs": [],
   "source": []
  }
 ],
 "metadata": {
  "kernelspec": {
   "display_name": "Python 3 (ipykernel)",
   "language": "python",
   "name": "python3"
  },
  "language_info": {
   "codemirror_mode": {
    "name": "ipython",
    "version": 3
   },
   "file_extension": ".py",
   "mimetype": "text/x-python",
   "name": "python",
   "nbconvert_exporter": "python",
   "pygments_lexer": "ipython3",
   "version": "3.10.9"
  }
 },
 "nbformat": 4,
 "nbformat_minor": 5
}
